{
 "cells": [
  {
   "cell_type": "markdown",
   "metadata": {
    "id": "NqqLNJZjfi8U"
   },
   "source": [
    "# 주제 : 롤 좀 하니? '이것'만 하면 무조건 이긴다!<br> - 데이터로 알아보는 리그 오브 레전드의 승리 공식\n",
    "----------\n",
    "\n",
    "## 실습 가이드\n",
    "    1. 데이터를 다운로드하여 Colab에 불러옵니다.\n",
    "    2. 필요한 라이브러리는 모두 코드로 작성되어 있습니다.\n",
    "    3. 코드는 위에서부터 아래로 순서대로 실행합니다.\n",
    "    \n",
    "    \n",
    "## 데이터 소개\n",
    "    - 이번 주제는 League of Legends Diamond Ranked Games (10 min) 데이터셋을 사용합니다.\n",
    "    \n",
    "    - 다음 1개의 csv 파일을 사용합니다.\n",
    "    high_diamond_ranked_10min.csv\n",
    "    \n",
    "    - 각 파일의 컬럼은 아래와 같습니다.\n",
    "    gameId: 게임 판의 고유 ID\n",
    "    blueWins: 블루팀의 승리 여부 (0: 패배, 1: 승리)\n",
    "    xxxWardsPlaced: xxx팀에서 설치한 와드의 수 \n",
    "    xxxWardsDestroyed: xxx팀에서 파괴한 와드의 수\n",
    "    xxxFirstBlood: xxx팀의 첫번째 킬 달성 여부\n",
    "    xxxKills: xxx팀의 킬 수\n",
    "    xxxDeaths: xxx팀의 죽음 수\n",
    "    xxxAssists: xxx팀의 어시스트 수\n",
    "    xxxEliteMonsters: xxx팀이 죽인 엘리트 몬스터 수\n",
    "    xxxDragons: xxx팀이 죽인 용의 수\n",
    "    xxxHeralds: xxx팀이 죽인 전령의 수\n",
    "    xxxTowersDestroyed: xxx팀이 파괴한 탑의 수\n",
    "    xxxTotalGold: xxx팀의 전체 획득 골드\n",
    "    xxxAvgLevel: xxx팀의 평균 레벨\n",
    "    xxxTotalExperience: xxx팀의 총 경험치 획득량\n",
    "    xxxTotalMinionsKilled: xxx팀의 총 미니언 킬 수\n",
    "    xxxTotalJungleMinionsKilled: xxx팀의 총 정글 미니언 킬 수\n",
    "    xxxGoldDiff: xxx팀과 다른 팀 간의 골드 획득량 차이\n",
    "    xxxExperienceDiff: xxx팀과 다른 팀과의 경험치 획득량 차이\n",
    "    xxxCSPerMin: xxx팀의 분당 CS 스코어\n",
    "    xxxGoldPerMin: xxx팀의 분당 골드 획득량\n",
    "      \n",
    "    \n",
    "    \n",
    "- 데이터 출처: https://www.kaggle.com/bobbyscience/league-of-legends-diamond-ranked-games-10-min\n",
    "\n",
    "## 최종 목표\n",
    "    - 일상에서 볼 수 있는 데이터의 활용\n",
    "    - 데이터 시각화를 통한 인사이트 습득 방법의 이해\n",
    "    - Scikit-learn 기반의 모델 학습 방법 습득\n",
    "    - 학습된 모델로부터 인사이트 습득 방법 이해\n",
    "\n",
    "- 출제자 : 신제용 강사\n",
    "---"
   ]
  },
  {
   "cell_type": "markdown",
   "metadata": {
    "id": "ODJVmYvIP3x-"
   },
   "source": [
    "## Step 0. 리그 오브 레전드 데이터셋"
   ]
  },
  {
   "cell_type": "markdown",
   "metadata": {
    "id": "c0iKTnLNsraM"
   },
   "source": [
    "### E-스포츠와 리그 오브 레전드\n"
   ]
  },
  {
   "cell_type": "markdown",
   "metadata": {
    "id": "cxZwPnfms0-9"
   },
   "source": [
    "### 리그 오브 레전드 데이터셋에 관하여\n"
   ]
  },
  {
   "cell_type": "markdown",
   "metadata": {
    "id": "IRssoNrgP7So"
   },
   "source": [
    "## Step 1. 데이터셋 준비하기"
   ]
  },
  {
   "cell_type": "code",
   "execution_count": 1,
   "metadata": {
    "ExecuteTime": {
     "end_time": "2021-09-15T07:47:49.394743Z",
     "start_time": "2021-09-15T07:47:47.501722Z"
    },
    "executionInfo": {
     "elapsed": 2167,
     "status": "ok",
     "timestamp": 1610316371762,
     "user": {
      "displayName": "김패캠",
      "photoUrl": "",
      "userId": "06994282823286758918"
     },
     "user_tz": -540
    },
    "id": "g49RuFGrBvt7"
   },
   "outputs": [],
   "source": [
    "import pandas as pd\n",
    "import numpy as np\n",
    "import matplotlib.pyplot as plt\n",
    "import seaborn as sns"
   ]
  },
  {
   "cell_type": "markdown",
   "metadata": {
    "id": "paInbv8Ys-Qy"
   },
   "source": [
    "### 문제 1. Colab Notebook에 Kaggle API 세팅하기\n"
   ]
  },
  {
   "cell_type": "code",
   "execution_count": 2,
   "metadata": {
    "ExecuteTime": {
     "end_time": "2021-09-15T07:47:49.426597Z",
     "start_time": "2021-09-15T07:47:49.412736Z"
    },
    "executionInfo": {
     "elapsed": 1398,
     "status": "ok",
     "timestamp": 1610316375318,
     "user": {
      "displayName": "김패캠",
      "photoUrl": "",
      "userId": "06994282823286758918"
     },
     "user_tz": -540
    },
    "id": "RRXGYV60B7FX"
   },
   "outputs": [],
   "source": [
    "import os"
   ]
  },
  {
   "cell_type": "code",
   "execution_count": 3,
   "metadata": {
    "ExecuteTime": {
     "end_time": "2021-09-15T07:47:49.458336Z",
     "start_time": "2021-09-15T07:47:49.444674Z"
    },
    "executionInfo": {
     "elapsed": 1463,
     "status": "ok",
     "timestamp": 1610316386888,
     "user": {
      "displayName": "김패캠",
      "photoUrl": "",
      "userId": "06994282823286758918"
     },
     "user_tz": -540
    },
    "id": "mMKFOC0OBtHO"
   },
   "outputs": [],
   "source": [
    "# os.environ을 이용하여 Kaggle API Username, Key 세팅하기\n",
    "os.environ['KAGGLE_USERNAME'] = 'jaechanjo'\n",
    "os.environ['KAGGLE_KEY'] = \"7183b114a5814fa56fb1ef47031c112e\""
   ]
  },
  {
   "cell_type": "markdown",
   "metadata": {
    "id": "zvbeoB_WtBi-"
   },
   "source": [
    "### 문제 2. 데이터 다운로드 및 압축 해제하기\n"
   ]
  },
  {
   "cell_type": "code",
   "execution_count": 4,
   "metadata": {
    "ExecuteTime": {
     "end_time": "2021-09-15T07:47:51.045391Z",
     "start_time": "2021-09-15T07:47:49.474896Z"
    },
    "colab": {
     "base_uri": "https://localhost:8080/"
    },
    "executionInfo": {
     "elapsed": 2400,
     "status": "ok",
     "timestamp": 1610316448737,
     "user": {
      "displayName": "김패캠",
      "photoUrl": "",
      "userId": "06994282823286758918"
     },
     "user_tz": -540
    },
    "id": "JSblp2NsCGbh",
    "outputId": "5e6092ad-23bd-442d-a223-29b63ad8d545"
   },
   "outputs": [
    {
     "name": "stdout",
     "output_type": "stream",
     "text": [
      "league-of-legends-diamond-ranked-games-10-min.zip: Skipping, found more recently modified local copy (use --force to force download)\n"
     ]
    },
    {
     "name": "stderr",
     "output_type": "stream",
     "text": [
      "'unzip'은(는) 내부 또는 외부 명령, 실행할 수 있는 프로그램, 또는\n",
      "배치 파일이 아닙니다.\n"
     ]
    }
   ],
   "source": [
    "# Linux 명령어로 Kaggle API를 이용하여 데이터셋 다운로드하기 (!kaggle ~)\n",
    "# Linux 명령어로 압축 해제하기\n",
    "!kaggle datasets download -d bobbyscience/league-of-legends-diamond-ranked-games-10-min\n",
    "!unzip '*.zip'"
   ]
  },
  {
   "cell_type": "markdown",
   "metadata": {
    "id": "aJ34SovLtFI8"
   },
   "source": [
    "### 문제 3. Pandas 라이브러리로 csv파일 읽어들이기\n"
   ]
  },
  {
   "cell_type": "code",
   "execution_count": 5,
   "metadata": {
    "ExecuteTime": {
     "end_time": "2021-09-15T07:47:51.107446Z",
     "start_time": "2021-09-15T07:47:51.063414Z"
    },
    "executionInfo": {
     "elapsed": 823,
     "status": "ok",
     "timestamp": 1610318811017,
     "user": {
      "displayName": "김패캠",
      "photoUrl": "",
      "userId": "06994282823286758918"
     },
     "user_tz": -540
    },
    "id": "RnJv-4YwCMSx"
   },
   "outputs": [],
   "source": [
    "# pd.read_csv()로 csv파일 읽어들이기\n",
    "df = pd.read_csv('high_diamond_ranked_10min.csv')"
   ]
  },
  {
   "cell_type": "code",
   "execution_count": 6,
   "metadata": {
    "ExecuteTime": {
     "end_time": "2021-09-15T07:47:51.214834Z",
     "start_time": "2021-09-15T07:47:51.140364Z"
    },
    "colab": {
     "base_uri": "https://localhost:8080/",
     "height": 439
    },
    "executionInfo": {
     "elapsed": 992,
     "status": "ok",
     "timestamp": 1610318811400,
     "user": {
      "displayName": "김패캠",
      "photoUrl": "",
      "userId": "06994282823286758918"
     },
     "user_tz": -540
    },
    "id": "Mdm6j4FrV7jB",
    "outputId": "836bbf06-ccd5-47f6-88c8-4bec2d0a6b2c"
   },
   "outputs": [
    {
     "data": {
      "text/html": [
       "<div>\n",
       "<style scoped>\n",
       "    .dataframe tbody tr th:only-of-type {\n",
       "        vertical-align: middle;\n",
       "    }\n",
       "\n",
       "    .dataframe tbody tr th {\n",
       "        vertical-align: top;\n",
       "    }\n",
       "\n",
       "    .dataframe thead th {\n",
       "        text-align: right;\n",
       "    }\n",
       "</style>\n",
       "<table border=\"1\" class=\"dataframe\">\n",
       "  <thead>\n",
       "    <tr style=\"text-align: right;\">\n",
       "      <th></th>\n",
       "      <th>gameId</th>\n",
       "      <th>blueWins</th>\n",
       "      <th>blueWardsPlaced</th>\n",
       "      <th>blueWardsDestroyed</th>\n",
       "      <th>blueFirstBlood</th>\n",
       "      <th>blueKills</th>\n",
       "      <th>blueDeaths</th>\n",
       "      <th>blueAssists</th>\n",
       "      <th>blueEliteMonsters</th>\n",
       "      <th>blueDragons</th>\n",
       "      <th>...</th>\n",
       "      <th>redTowersDestroyed</th>\n",
       "      <th>redTotalGold</th>\n",
       "      <th>redAvgLevel</th>\n",
       "      <th>redTotalExperience</th>\n",
       "      <th>redTotalMinionsKilled</th>\n",
       "      <th>redTotalJungleMinionsKilled</th>\n",
       "      <th>redGoldDiff</th>\n",
       "      <th>redExperienceDiff</th>\n",
       "      <th>redCSPerMin</th>\n",
       "      <th>redGoldPerMin</th>\n",
       "    </tr>\n",
       "  </thead>\n",
       "  <tbody>\n",
       "    <tr>\n",
       "      <th>0</th>\n",
       "      <td>4519157822</td>\n",
       "      <td>0</td>\n",
       "      <td>28</td>\n",
       "      <td>2</td>\n",
       "      <td>1</td>\n",
       "      <td>9</td>\n",
       "      <td>6</td>\n",
       "      <td>11</td>\n",
       "      <td>0</td>\n",
       "      <td>0</td>\n",
       "      <td>...</td>\n",
       "      <td>0</td>\n",
       "      <td>16567</td>\n",
       "      <td>6.8</td>\n",
       "      <td>17047</td>\n",
       "      <td>197</td>\n",
       "      <td>55</td>\n",
       "      <td>-643</td>\n",
       "      <td>8</td>\n",
       "      <td>19.7</td>\n",
       "      <td>1656.7</td>\n",
       "    </tr>\n",
       "    <tr>\n",
       "      <th>1</th>\n",
       "      <td>4523371949</td>\n",
       "      <td>0</td>\n",
       "      <td>12</td>\n",
       "      <td>1</td>\n",
       "      <td>0</td>\n",
       "      <td>5</td>\n",
       "      <td>5</td>\n",
       "      <td>5</td>\n",
       "      <td>0</td>\n",
       "      <td>0</td>\n",
       "      <td>...</td>\n",
       "      <td>1</td>\n",
       "      <td>17620</td>\n",
       "      <td>6.8</td>\n",
       "      <td>17438</td>\n",
       "      <td>240</td>\n",
       "      <td>52</td>\n",
       "      <td>2908</td>\n",
       "      <td>1173</td>\n",
       "      <td>24.0</td>\n",
       "      <td>1762.0</td>\n",
       "    </tr>\n",
       "    <tr>\n",
       "      <th>2</th>\n",
       "      <td>4521474530</td>\n",
       "      <td>0</td>\n",
       "      <td>15</td>\n",
       "      <td>0</td>\n",
       "      <td>0</td>\n",
       "      <td>7</td>\n",
       "      <td>11</td>\n",
       "      <td>4</td>\n",
       "      <td>1</td>\n",
       "      <td>1</td>\n",
       "      <td>...</td>\n",
       "      <td>0</td>\n",
       "      <td>17285</td>\n",
       "      <td>6.8</td>\n",
       "      <td>17254</td>\n",
       "      <td>203</td>\n",
       "      <td>28</td>\n",
       "      <td>1172</td>\n",
       "      <td>1033</td>\n",
       "      <td>20.3</td>\n",
       "      <td>1728.5</td>\n",
       "    </tr>\n",
       "    <tr>\n",
       "      <th>3</th>\n",
       "      <td>4524384067</td>\n",
       "      <td>0</td>\n",
       "      <td>43</td>\n",
       "      <td>1</td>\n",
       "      <td>0</td>\n",
       "      <td>4</td>\n",
       "      <td>5</td>\n",
       "      <td>5</td>\n",
       "      <td>1</td>\n",
       "      <td>0</td>\n",
       "      <td>...</td>\n",
       "      <td>0</td>\n",
       "      <td>16478</td>\n",
       "      <td>7.0</td>\n",
       "      <td>17961</td>\n",
       "      <td>235</td>\n",
       "      <td>47</td>\n",
       "      <td>1321</td>\n",
       "      <td>7</td>\n",
       "      <td>23.5</td>\n",
       "      <td>1647.8</td>\n",
       "    </tr>\n",
       "    <tr>\n",
       "      <th>4</th>\n",
       "      <td>4436033771</td>\n",
       "      <td>0</td>\n",
       "      <td>75</td>\n",
       "      <td>4</td>\n",
       "      <td>0</td>\n",
       "      <td>6</td>\n",
       "      <td>6</td>\n",
       "      <td>6</td>\n",
       "      <td>0</td>\n",
       "      <td>0</td>\n",
       "      <td>...</td>\n",
       "      <td>0</td>\n",
       "      <td>17404</td>\n",
       "      <td>7.0</td>\n",
       "      <td>18313</td>\n",
       "      <td>225</td>\n",
       "      <td>67</td>\n",
       "      <td>1004</td>\n",
       "      <td>-230</td>\n",
       "      <td>22.5</td>\n",
       "      <td>1740.4</td>\n",
       "    </tr>\n",
       "    <tr>\n",
       "      <th>...</th>\n",
       "      <td>...</td>\n",
       "      <td>...</td>\n",
       "      <td>...</td>\n",
       "      <td>...</td>\n",
       "      <td>...</td>\n",
       "      <td>...</td>\n",
       "      <td>...</td>\n",
       "      <td>...</td>\n",
       "      <td>...</td>\n",
       "      <td>...</td>\n",
       "      <td>...</td>\n",
       "      <td>...</td>\n",
       "      <td>...</td>\n",
       "      <td>...</td>\n",
       "      <td>...</td>\n",
       "      <td>...</td>\n",
       "      <td>...</td>\n",
       "      <td>...</td>\n",
       "      <td>...</td>\n",
       "      <td>...</td>\n",
       "      <td>...</td>\n",
       "    </tr>\n",
       "    <tr>\n",
       "      <th>9874</th>\n",
       "      <td>4527873286</td>\n",
       "      <td>1</td>\n",
       "      <td>17</td>\n",
       "      <td>2</td>\n",
       "      <td>1</td>\n",
       "      <td>7</td>\n",
       "      <td>4</td>\n",
       "      <td>5</td>\n",
       "      <td>1</td>\n",
       "      <td>1</td>\n",
       "      <td>...</td>\n",
       "      <td>0</td>\n",
       "      <td>15246</td>\n",
       "      <td>6.8</td>\n",
       "      <td>16498</td>\n",
       "      <td>229</td>\n",
       "      <td>34</td>\n",
       "      <td>-2519</td>\n",
       "      <td>-2469</td>\n",
       "      <td>22.9</td>\n",
       "      <td>1524.6</td>\n",
       "    </tr>\n",
       "    <tr>\n",
       "      <th>9875</th>\n",
       "      <td>4527797466</td>\n",
       "      <td>1</td>\n",
       "      <td>54</td>\n",
       "      <td>0</td>\n",
       "      <td>0</td>\n",
       "      <td>6</td>\n",
       "      <td>4</td>\n",
       "      <td>8</td>\n",
       "      <td>1</td>\n",
       "      <td>1</td>\n",
       "      <td>...</td>\n",
       "      <td>0</td>\n",
       "      <td>15456</td>\n",
       "      <td>7.0</td>\n",
       "      <td>18367</td>\n",
       "      <td>206</td>\n",
       "      <td>56</td>\n",
       "      <td>-782</td>\n",
       "      <td>-888</td>\n",
       "      <td>20.6</td>\n",
       "      <td>1545.6</td>\n",
       "    </tr>\n",
       "    <tr>\n",
       "      <th>9876</th>\n",
       "      <td>4527713716</td>\n",
       "      <td>0</td>\n",
       "      <td>23</td>\n",
       "      <td>1</td>\n",
       "      <td>0</td>\n",
       "      <td>6</td>\n",
       "      <td>7</td>\n",
       "      <td>5</td>\n",
       "      <td>0</td>\n",
       "      <td>0</td>\n",
       "      <td>...</td>\n",
       "      <td>0</td>\n",
       "      <td>18319</td>\n",
       "      <td>7.4</td>\n",
       "      <td>19909</td>\n",
       "      <td>261</td>\n",
       "      <td>60</td>\n",
       "      <td>2416</td>\n",
       "      <td>1877</td>\n",
       "      <td>26.1</td>\n",
       "      <td>1831.9</td>\n",
       "    </tr>\n",
       "    <tr>\n",
       "      <th>9877</th>\n",
       "      <td>4527628313</td>\n",
       "      <td>0</td>\n",
       "      <td>14</td>\n",
       "      <td>4</td>\n",
       "      <td>1</td>\n",
       "      <td>2</td>\n",
       "      <td>3</td>\n",
       "      <td>3</td>\n",
       "      <td>1</td>\n",
       "      <td>1</td>\n",
       "      <td>...</td>\n",
       "      <td>0</td>\n",
       "      <td>15298</td>\n",
       "      <td>7.2</td>\n",
       "      <td>18314</td>\n",
       "      <td>247</td>\n",
       "      <td>40</td>\n",
       "      <td>839</td>\n",
       "      <td>1085</td>\n",
       "      <td>24.7</td>\n",
       "      <td>1529.8</td>\n",
       "    </tr>\n",
       "    <tr>\n",
       "      <th>9878</th>\n",
       "      <td>4523772935</td>\n",
       "      <td>1</td>\n",
       "      <td>18</td>\n",
       "      <td>0</td>\n",
       "      <td>1</td>\n",
       "      <td>6</td>\n",
       "      <td>6</td>\n",
       "      <td>5</td>\n",
       "      <td>0</td>\n",
       "      <td>0</td>\n",
       "      <td>...</td>\n",
       "      <td>0</td>\n",
       "      <td>15339</td>\n",
       "      <td>6.8</td>\n",
       "      <td>17379</td>\n",
       "      <td>201</td>\n",
       "      <td>46</td>\n",
       "      <td>-927</td>\n",
       "      <td>58</td>\n",
       "      <td>20.1</td>\n",
       "      <td>1533.9</td>\n",
       "    </tr>\n",
       "  </tbody>\n",
       "</table>\n",
       "<p>9879 rows × 40 columns</p>\n",
       "</div>"
      ],
      "text/plain": [
       "          gameId  blueWins  blueWardsPlaced  blueWardsDestroyed  \\\n",
       "0     4519157822         0               28                   2   \n",
       "1     4523371949         0               12                   1   \n",
       "2     4521474530         0               15                   0   \n",
       "3     4524384067         0               43                   1   \n",
       "4     4436033771         0               75                   4   \n",
       "...          ...       ...              ...                 ...   \n",
       "9874  4527873286         1               17                   2   \n",
       "9875  4527797466         1               54                   0   \n",
       "9876  4527713716         0               23                   1   \n",
       "9877  4527628313         0               14                   4   \n",
       "9878  4523772935         1               18                   0   \n",
       "\n",
       "      blueFirstBlood  blueKills  blueDeaths  blueAssists  blueEliteMonsters  \\\n",
       "0                  1          9           6           11                  0   \n",
       "1                  0          5           5            5                  0   \n",
       "2                  0          7          11            4                  1   \n",
       "3                  0          4           5            5                  1   \n",
       "4                  0          6           6            6                  0   \n",
       "...              ...        ...         ...          ...                ...   \n",
       "9874               1          7           4            5                  1   \n",
       "9875               0          6           4            8                  1   \n",
       "9876               0          6           7            5                  0   \n",
       "9877               1          2           3            3                  1   \n",
       "9878               1          6           6            5                  0   \n",
       "\n",
       "      blueDragons  ...  redTowersDestroyed  redTotalGold  redAvgLevel  \\\n",
       "0               0  ...                   0         16567          6.8   \n",
       "1               0  ...                   1         17620          6.8   \n",
       "2               1  ...                   0         17285          6.8   \n",
       "3               0  ...                   0         16478          7.0   \n",
       "4               0  ...                   0         17404          7.0   \n",
       "...           ...  ...                 ...           ...          ...   \n",
       "9874            1  ...                   0         15246          6.8   \n",
       "9875            1  ...                   0         15456          7.0   \n",
       "9876            0  ...                   0         18319          7.4   \n",
       "9877            1  ...                   0         15298          7.2   \n",
       "9878            0  ...                   0         15339          6.8   \n",
       "\n",
       "      redTotalExperience  redTotalMinionsKilled  redTotalJungleMinionsKilled  \\\n",
       "0                  17047                    197                           55   \n",
       "1                  17438                    240                           52   \n",
       "2                  17254                    203                           28   \n",
       "3                  17961                    235                           47   \n",
       "4                  18313                    225                           67   \n",
       "...                  ...                    ...                          ...   \n",
       "9874               16498                    229                           34   \n",
       "9875               18367                    206                           56   \n",
       "9876               19909                    261                           60   \n",
       "9877               18314                    247                           40   \n",
       "9878               17379                    201                           46   \n",
       "\n",
       "      redGoldDiff  redExperienceDiff  redCSPerMin  redGoldPerMin  \n",
       "0            -643                  8         19.7         1656.7  \n",
       "1            2908               1173         24.0         1762.0  \n",
       "2            1172               1033         20.3         1728.5  \n",
       "3            1321                  7         23.5         1647.8  \n",
       "4            1004               -230         22.5         1740.4  \n",
       "...           ...                ...          ...            ...  \n",
       "9874        -2519              -2469         22.9         1524.6  \n",
       "9875         -782               -888         20.6         1545.6  \n",
       "9876         2416               1877         26.1         1831.9  \n",
       "9877          839               1085         24.7         1529.8  \n",
       "9878         -927                 58         20.1         1533.9  \n",
       "\n",
       "[9879 rows x 40 columns]"
      ]
     },
     "execution_count": 6,
     "metadata": {},
     "output_type": "execute_result"
    }
   ],
   "source": [
    "df"
   ]
  },
  {
   "cell_type": "markdown",
   "metadata": {
    "id": "9L3BNVM7tHN5"
   },
   "source": [
    "## Step 2. EDA 및 데이터 기초 통계 분석\n"
   ]
  },
  {
   "cell_type": "markdown",
   "metadata": {
    "id": "HyFm33tNtVn7"
   },
   "source": [
    "### 문제 4. 데이터프레임의 각 컬럼 분석하기\n"
   ]
  },
  {
   "cell_type": "code",
   "execution_count": 7,
   "metadata": {
    "ExecuteTime": {
     "end_time": "2021-09-15T07:47:51.275786Z",
     "start_time": "2021-09-15T07:47:51.246862Z"
    },
    "colab": {
     "base_uri": "https://localhost:8080/",
     "height": 224
    },
    "executionInfo": {
     "elapsed": 759,
     "status": "ok",
     "timestamp": 1610318811735,
     "user": {
      "displayName": "김패캠",
      "photoUrl": "",
      "userId": "06994282823286758918"
     },
     "user_tz": -540
    },
    "id": "YcR9BX23DIFW",
    "outputId": "e410a3df-e73d-4cee-bd6d-a63acce04f3a"
   },
   "outputs": [
    {
     "data": {
      "text/html": [
       "<div>\n",
       "<style scoped>\n",
       "    .dataframe tbody tr th:only-of-type {\n",
       "        vertical-align: middle;\n",
       "    }\n",
       "\n",
       "    .dataframe tbody tr th {\n",
       "        vertical-align: top;\n",
       "    }\n",
       "\n",
       "    .dataframe thead th {\n",
       "        text-align: right;\n",
       "    }\n",
       "</style>\n",
       "<table border=\"1\" class=\"dataframe\">\n",
       "  <thead>\n",
       "    <tr style=\"text-align: right;\">\n",
       "      <th></th>\n",
       "      <th>gameId</th>\n",
       "      <th>blueWins</th>\n",
       "      <th>blueWardsPlaced</th>\n",
       "      <th>blueWardsDestroyed</th>\n",
       "      <th>blueFirstBlood</th>\n",
       "      <th>blueKills</th>\n",
       "      <th>blueDeaths</th>\n",
       "      <th>blueAssists</th>\n",
       "      <th>blueEliteMonsters</th>\n",
       "      <th>blueDragons</th>\n",
       "      <th>...</th>\n",
       "      <th>redTowersDestroyed</th>\n",
       "      <th>redTotalGold</th>\n",
       "      <th>redAvgLevel</th>\n",
       "      <th>redTotalExperience</th>\n",
       "      <th>redTotalMinionsKilled</th>\n",
       "      <th>redTotalJungleMinionsKilled</th>\n",
       "      <th>redGoldDiff</th>\n",
       "      <th>redExperienceDiff</th>\n",
       "      <th>redCSPerMin</th>\n",
       "      <th>redGoldPerMin</th>\n",
       "    </tr>\n",
       "  </thead>\n",
       "  <tbody>\n",
       "    <tr>\n",
       "      <th>0</th>\n",
       "      <td>4519157822</td>\n",
       "      <td>0</td>\n",
       "      <td>28</td>\n",
       "      <td>2</td>\n",
       "      <td>1</td>\n",
       "      <td>9</td>\n",
       "      <td>6</td>\n",
       "      <td>11</td>\n",
       "      <td>0</td>\n",
       "      <td>0</td>\n",
       "      <td>...</td>\n",
       "      <td>0</td>\n",
       "      <td>16567</td>\n",
       "      <td>6.8</td>\n",
       "      <td>17047</td>\n",
       "      <td>197</td>\n",
       "      <td>55</td>\n",
       "      <td>-643</td>\n",
       "      <td>8</td>\n",
       "      <td>19.7</td>\n",
       "      <td>1656.7</td>\n",
       "    </tr>\n",
       "    <tr>\n",
       "      <th>1</th>\n",
       "      <td>4523371949</td>\n",
       "      <td>0</td>\n",
       "      <td>12</td>\n",
       "      <td>1</td>\n",
       "      <td>0</td>\n",
       "      <td>5</td>\n",
       "      <td>5</td>\n",
       "      <td>5</td>\n",
       "      <td>0</td>\n",
       "      <td>0</td>\n",
       "      <td>...</td>\n",
       "      <td>1</td>\n",
       "      <td>17620</td>\n",
       "      <td>6.8</td>\n",
       "      <td>17438</td>\n",
       "      <td>240</td>\n",
       "      <td>52</td>\n",
       "      <td>2908</td>\n",
       "      <td>1173</td>\n",
       "      <td>24.0</td>\n",
       "      <td>1762.0</td>\n",
       "    </tr>\n",
       "    <tr>\n",
       "      <th>2</th>\n",
       "      <td>4521474530</td>\n",
       "      <td>0</td>\n",
       "      <td>15</td>\n",
       "      <td>0</td>\n",
       "      <td>0</td>\n",
       "      <td>7</td>\n",
       "      <td>11</td>\n",
       "      <td>4</td>\n",
       "      <td>1</td>\n",
       "      <td>1</td>\n",
       "      <td>...</td>\n",
       "      <td>0</td>\n",
       "      <td>17285</td>\n",
       "      <td>6.8</td>\n",
       "      <td>17254</td>\n",
       "      <td>203</td>\n",
       "      <td>28</td>\n",
       "      <td>1172</td>\n",
       "      <td>1033</td>\n",
       "      <td>20.3</td>\n",
       "      <td>1728.5</td>\n",
       "    </tr>\n",
       "    <tr>\n",
       "      <th>3</th>\n",
       "      <td>4524384067</td>\n",
       "      <td>0</td>\n",
       "      <td>43</td>\n",
       "      <td>1</td>\n",
       "      <td>0</td>\n",
       "      <td>4</td>\n",
       "      <td>5</td>\n",
       "      <td>5</td>\n",
       "      <td>1</td>\n",
       "      <td>0</td>\n",
       "      <td>...</td>\n",
       "      <td>0</td>\n",
       "      <td>16478</td>\n",
       "      <td>7.0</td>\n",
       "      <td>17961</td>\n",
       "      <td>235</td>\n",
       "      <td>47</td>\n",
       "      <td>1321</td>\n",
       "      <td>7</td>\n",
       "      <td>23.5</td>\n",
       "      <td>1647.8</td>\n",
       "    </tr>\n",
       "    <tr>\n",
       "      <th>4</th>\n",
       "      <td>4436033771</td>\n",
       "      <td>0</td>\n",
       "      <td>75</td>\n",
       "      <td>4</td>\n",
       "      <td>0</td>\n",
       "      <td>6</td>\n",
       "      <td>6</td>\n",
       "      <td>6</td>\n",
       "      <td>0</td>\n",
       "      <td>0</td>\n",
       "      <td>...</td>\n",
       "      <td>0</td>\n",
       "      <td>17404</td>\n",
       "      <td>7.0</td>\n",
       "      <td>18313</td>\n",
       "      <td>225</td>\n",
       "      <td>67</td>\n",
       "      <td>1004</td>\n",
       "      <td>-230</td>\n",
       "      <td>22.5</td>\n",
       "      <td>1740.4</td>\n",
       "    </tr>\n",
       "  </tbody>\n",
       "</table>\n",
       "<p>5 rows × 40 columns</p>\n",
       "</div>"
      ],
      "text/plain": [
       "       gameId  blueWins  blueWardsPlaced  blueWardsDestroyed  blueFirstBlood  \\\n",
       "0  4519157822         0               28                   2               1   \n",
       "1  4523371949         0               12                   1               0   \n",
       "2  4521474530         0               15                   0               0   \n",
       "3  4524384067         0               43                   1               0   \n",
       "4  4436033771         0               75                   4               0   \n",
       "\n",
       "   blueKills  blueDeaths  blueAssists  blueEliteMonsters  blueDragons  ...  \\\n",
       "0          9           6           11                  0            0  ...   \n",
       "1          5           5            5                  0            0  ...   \n",
       "2          7          11            4                  1            1  ...   \n",
       "3          4           5            5                  1            0  ...   \n",
       "4          6           6            6                  0            0  ...   \n",
       "\n",
       "   redTowersDestroyed  redTotalGold  redAvgLevel  redTotalExperience  \\\n",
       "0                   0         16567          6.8               17047   \n",
       "1                   1         17620          6.8               17438   \n",
       "2                   0         17285          6.8               17254   \n",
       "3                   0         16478          7.0               17961   \n",
       "4                   0         17404          7.0               18313   \n",
       "\n",
       "   redTotalMinionsKilled  redTotalJungleMinionsKilled  redGoldDiff  \\\n",
       "0                    197                           55         -643   \n",
       "1                    240                           52         2908   \n",
       "2                    203                           28         1172   \n",
       "3                    235                           47         1321   \n",
       "4                    225                           67         1004   \n",
       "\n",
       "   redExperienceDiff  redCSPerMin  redGoldPerMin  \n",
       "0                  8         19.7         1656.7  \n",
       "1               1173         24.0         1762.0  \n",
       "2               1033         20.3         1728.5  \n",
       "3                  7         23.5         1647.8  \n",
       "4               -230         22.5         1740.4  \n",
       "\n",
       "[5 rows x 40 columns]"
      ]
     },
     "execution_count": 7,
     "metadata": {},
     "output_type": "execute_result"
    }
   ],
   "source": [
    "# DataFrame에서 제공하는 메소드를 이용하여 컬럼 분석하기 (head(), info(), describe())\n",
    "df.head()"
   ]
  },
  {
   "cell_type": "code",
   "execution_count": 8,
   "metadata": {
    "ExecuteTime": {
     "end_time": "2021-09-15T07:47:51.322307Z",
     "start_time": "2021-09-15T07:47:51.308376Z"
    },
    "colab": {
     "base_uri": "https://localhost:8080/"
    },
    "executionInfo": {
     "elapsed": 950,
     "status": "ok",
     "timestamp": 1610318812101,
     "user": {
      "displayName": "김패캠",
      "photoUrl": "",
      "userId": "06994282823286758918"
     },
     "user_tz": -540
    },
    "id": "l6aHAPROWb0-",
    "outputId": "26d7cf8e-3271-4051-95b9-ac3c654ec3a8"
   },
   "outputs": [
    {
     "name": "stdout",
     "output_type": "stream",
     "text": [
      "<class 'pandas.core.frame.DataFrame'>\n",
      "RangeIndex: 9879 entries, 0 to 9878\n",
      "Data columns (total 40 columns):\n",
      " #   Column                        Non-Null Count  Dtype  \n",
      "---  ------                        --------------  -----  \n",
      " 0   gameId                        9879 non-null   int64  \n",
      " 1   blueWins                      9879 non-null   int64  \n",
      " 2   blueWardsPlaced               9879 non-null   int64  \n",
      " 3   blueWardsDestroyed            9879 non-null   int64  \n",
      " 4   blueFirstBlood                9879 non-null   int64  \n",
      " 5   blueKills                     9879 non-null   int64  \n",
      " 6   blueDeaths                    9879 non-null   int64  \n",
      " 7   blueAssists                   9879 non-null   int64  \n",
      " 8   blueEliteMonsters             9879 non-null   int64  \n",
      " 9   blueDragons                   9879 non-null   int64  \n",
      " 10  blueHeralds                   9879 non-null   int64  \n",
      " 11  blueTowersDestroyed           9879 non-null   int64  \n",
      " 12  blueTotalGold                 9879 non-null   int64  \n",
      " 13  blueAvgLevel                  9879 non-null   float64\n",
      " 14  blueTotalExperience           9879 non-null   int64  \n",
      " 15  blueTotalMinionsKilled        9879 non-null   int64  \n",
      " 16  blueTotalJungleMinionsKilled  9879 non-null   int64  \n",
      " 17  blueGoldDiff                  9879 non-null   int64  \n",
      " 18  blueExperienceDiff            9879 non-null   int64  \n",
      " 19  blueCSPerMin                  9879 non-null   float64\n",
      " 20  blueGoldPerMin                9879 non-null   float64\n",
      " 21  redWardsPlaced                9879 non-null   int64  \n",
      " 22  redWardsDestroyed             9879 non-null   int64  \n",
      " 23  redFirstBlood                 9879 non-null   int64  \n",
      " 24  redKills                      9879 non-null   int64  \n",
      " 25  redDeaths                     9879 non-null   int64  \n",
      " 26  redAssists                    9879 non-null   int64  \n",
      " 27  redEliteMonsters              9879 non-null   int64  \n",
      " 28  redDragons                    9879 non-null   int64  \n",
      " 29  redHeralds                    9879 non-null   int64  \n",
      " 30  redTowersDestroyed            9879 non-null   int64  \n",
      " 31  redTotalGold                  9879 non-null   int64  \n",
      " 32  redAvgLevel                   9879 non-null   float64\n",
      " 33  redTotalExperience            9879 non-null   int64  \n",
      " 34  redTotalMinionsKilled         9879 non-null   int64  \n",
      " 35  redTotalJungleMinionsKilled   9879 non-null   int64  \n",
      " 36  redGoldDiff                   9879 non-null   int64  \n",
      " 37  redExperienceDiff             9879 non-null   int64  \n",
      " 38  redCSPerMin                   9879 non-null   float64\n",
      " 39  redGoldPerMin                 9879 non-null   float64\n",
      "dtypes: float64(6), int64(34)\n",
      "memory usage: 3.0 MB\n"
     ]
    }
   ],
   "source": [
    "df.info()"
   ]
  },
  {
   "cell_type": "code",
   "execution_count": 9,
   "metadata": {
    "ExecuteTime": {
     "end_time": "2021-09-15T07:47:52.379787Z",
     "start_time": "2021-09-15T07:47:52.299892Z"
    },
    "colab": {
     "base_uri": "https://localhost:8080/",
     "height": 317
    },
    "executionInfo": {
     "elapsed": 775,
     "status": "ok",
     "timestamp": 1610318812102,
     "user": {
      "displayName": "김패캠",
      "photoUrl": "",
      "userId": "06994282823286758918"
     },
     "user_tz": -540
    },
    "id": "Kj6oKwb_Wcpm",
    "outputId": "ceefed8b-c3f9-4217-98b1-a462d3caa7cd"
   },
   "outputs": [
    {
     "data": {
      "text/html": [
       "<div>\n",
       "<style scoped>\n",
       "    .dataframe tbody tr th:only-of-type {\n",
       "        vertical-align: middle;\n",
       "    }\n",
       "\n",
       "    .dataframe tbody tr th {\n",
       "        vertical-align: top;\n",
       "    }\n",
       "\n",
       "    .dataframe thead th {\n",
       "        text-align: right;\n",
       "    }\n",
       "</style>\n",
       "<table border=\"1\" class=\"dataframe\">\n",
       "  <thead>\n",
       "    <tr style=\"text-align: right;\">\n",
       "      <th></th>\n",
       "      <th>gameId</th>\n",
       "      <th>blueWins</th>\n",
       "      <th>blueWardsPlaced</th>\n",
       "      <th>blueWardsDestroyed</th>\n",
       "      <th>blueFirstBlood</th>\n",
       "      <th>blueKills</th>\n",
       "      <th>blueDeaths</th>\n",
       "      <th>blueAssists</th>\n",
       "      <th>blueEliteMonsters</th>\n",
       "      <th>blueDragons</th>\n",
       "      <th>...</th>\n",
       "      <th>redTowersDestroyed</th>\n",
       "      <th>redTotalGold</th>\n",
       "      <th>redAvgLevel</th>\n",
       "      <th>redTotalExperience</th>\n",
       "      <th>redTotalMinionsKilled</th>\n",
       "      <th>redTotalJungleMinionsKilled</th>\n",
       "      <th>redGoldDiff</th>\n",
       "      <th>redExperienceDiff</th>\n",
       "      <th>redCSPerMin</th>\n",
       "      <th>redGoldPerMin</th>\n",
       "    </tr>\n",
       "  </thead>\n",
       "  <tbody>\n",
       "    <tr>\n",
       "      <th>count</th>\n",
       "      <td>9.879000e+03</td>\n",
       "      <td>9879.000000</td>\n",
       "      <td>9879.000000</td>\n",
       "      <td>9879.000000</td>\n",
       "      <td>9879.000000</td>\n",
       "      <td>9879.000000</td>\n",
       "      <td>9879.000000</td>\n",
       "      <td>9879.000000</td>\n",
       "      <td>9879.000000</td>\n",
       "      <td>9879.000000</td>\n",
       "      <td>...</td>\n",
       "      <td>9879.000000</td>\n",
       "      <td>9879.000000</td>\n",
       "      <td>9879.000000</td>\n",
       "      <td>9879.000000</td>\n",
       "      <td>9879.000000</td>\n",
       "      <td>9879.000000</td>\n",
       "      <td>9879.000000</td>\n",
       "      <td>9879.000000</td>\n",
       "      <td>9879.000000</td>\n",
       "      <td>9879.000000</td>\n",
       "    </tr>\n",
       "    <tr>\n",
       "      <th>mean</th>\n",
       "      <td>4.500084e+09</td>\n",
       "      <td>0.499038</td>\n",
       "      <td>22.288288</td>\n",
       "      <td>2.824881</td>\n",
       "      <td>0.504808</td>\n",
       "      <td>6.183925</td>\n",
       "      <td>6.137666</td>\n",
       "      <td>6.645106</td>\n",
       "      <td>0.549954</td>\n",
       "      <td>0.361980</td>\n",
       "      <td>...</td>\n",
       "      <td>0.043021</td>\n",
       "      <td>16489.041401</td>\n",
       "      <td>6.925316</td>\n",
       "      <td>17961.730438</td>\n",
       "      <td>217.349226</td>\n",
       "      <td>51.313088</td>\n",
       "      <td>-14.414111</td>\n",
       "      <td>33.620306</td>\n",
       "      <td>21.734923</td>\n",
       "      <td>1648.904140</td>\n",
       "    </tr>\n",
       "    <tr>\n",
       "      <th>std</th>\n",
       "      <td>2.757328e+07</td>\n",
       "      <td>0.500024</td>\n",
       "      <td>18.019177</td>\n",
       "      <td>2.174998</td>\n",
       "      <td>0.500002</td>\n",
       "      <td>3.011028</td>\n",
       "      <td>2.933818</td>\n",
       "      <td>4.064520</td>\n",
       "      <td>0.625527</td>\n",
       "      <td>0.480597</td>\n",
       "      <td>...</td>\n",
       "      <td>0.216900</td>\n",
       "      <td>1490.888406</td>\n",
       "      <td>0.305311</td>\n",
       "      <td>1198.583912</td>\n",
       "      <td>21.911668</td>\n",
       "      <td>10.027885</td>\n",
       "      <td>2453.349179</td>\n",
       "      <td>1920.370438</td>\n",
       "      <td>2.191167</td>\n",
       "      <td>149.088841</td>\n",
       "    </tr>\n",
       "    <tr>\n",
       "      <th>min</th>\n",
       "      <td>4.295358e+09</td>\n",
       "      <td>0.000000</td>\n",
       "      <td>5.000000</td>\n",
       "      <td>0.000000</td>\n",
       "      <td>0.000000</td>\n",
       "      <td>0.000000</td>\n",
       "      <td>0.000000</td>\n",
       "      <td>0.000000</td>\n",
       "      <td>0.000000</td>\n",
       "      <td>0.000000</td>\n",
       "      <td>...</td>\n",
       "      <td>0.000000</td>\n",
       "      <td>11212.000000</td>\n",
       "      <td>4.800000</td>\n",
       "      <td>10465.000000</td>\n",
       "      <td>107.000000</td>\n",
       "      <td>4.000000</td>\n",
       "      <td>-11467.000000</td>\n",
       "      <td>-8348.000000</td>\n",
       "      <td>10.700000</td>\n",
       "      <td>1121.200000</td>\n",
       "    </tr>\n",
       "    <tr>\n",
       "      <th>25%</th>\n",
       "      <td>4.483301e+09</td>\n",
       "      <td>0.000000</td>\n",
       "      <td>14.000000</td>\n",
       "      <td>1.000000</td>\n",
       "      <td>0.000000</td>\n",
       "      <td>4.000000</td>\n",
       "      <td>4.000000</td>\n",
       "      <td>4.000000</td>\n",
       "      <td>0.000000</td>\n",
       "      <td>0.000000</td>\n",
       "      <td>...</td>\n",
       "      <td>0.000000</td>\n",
       "      <td>15427.500000</td>\n",
       "      <td>6.800000</td>\n",
       "      <td>17209.500000</td>\n",
       "      <td>203.000000</td>\n",
       "      <td>44.000000</td>\n",
       "      <td>-1596.000000</td>\n",
       "      <td>-1212.000000</td>\n",
       "      <td>20.300000</td>\n",
       "      <td>1542.750000</td>\n",
       "    </tr>\n",
       "    <tr>\n",
       "      <th>50%</th>\n",
       "      <td>4.510920e+09</td>\n",
       "      <td>0.000000</td>\n",
       "      <td>16.000000</td>\n",
       "      <td>3.000000</td>\n",
       "      <td>1.000000</td>\n",
       "      <td>6.000000</td>\n",
       "      <td>6.000000</td>\n",
       "      <td>6.000000</td>\n",
       "      <td>0.000000</td>\n",
       "      <td>0.000000</td>\n",
       "      <td>...</td>\n",
       "      <td>0.000000</td>\n",
       "      <td>16378.000000</td>\n",
       "      <td>7.000000</td>\n",
       "      <td>17974.000000</td>\n",
       "      <td>218.000000</td>\n",
       "      <td>51.000000</td>\n",
       "      <td>-14.000000</td>\n",
       "      <td>28.000000</td>\n",
       "      <td>21.800000</td>\n",
       "      <td>1637.800000</td>\n",
       "    </tr>\n",
       "    <tr>\n",
       "      <th>75%</th>\n",
       "      <td>4.521733e+09</td>\n",
       "      <td>1.000000</td>\n",
       "      <td>20.000000</td>\n",
       "      <td>4.000000</td>\n",
       "      <td>1.000000</td>\n",
       "      <td>8.000000</td>\n",
       "      <td>8.000000</td>\n",
       "      <td>9.000000</td>\n",
       "      <td>1.000000</td>\n",
       "      <td>1.000000</td>\n",
       "      <td>...</td>\n",
       "      <td>0.000000</td>\n",
       "      <td>17418.500000</td>\n",
       "      <td>7.200000</td>\n",
       "      <td>18764.500000</td>\n",
       "      <td>233.000000</td>\n",
       "      <td>57.000000</td>\n",
       "      <td>1585.500000</td>\n",
       "      <td>1290.500000</td>\n",
       "      <td>23.300000</td>\n",
       "      <td>1741.850000</td>\n",
       "    </tr>\n",
       "    <tr>\n",
       "      <th>max</th>\n",
       "      <td>4.527991e+09</td>\n",
       "      <td>1.000000</td>\n",
       "      <td>250.000000</td>\n",
       "      <td>27.000000</td>\n",
       "      <td>1.000000</td>\n",
       "      <td>22.000000</td>\n",
       "      <td>22.000000</td>\n",
       "      <td>29.000000</td>\n",
       "      <td>2.000000</td>\n",
       "      <td>1.000000</td>\n",
       "      <td>...</td>\n",
       "      <td>2.000000</td>\n",
       "      <td>22732.000000</td>\n",
       "      <td>8.200000</td>\n",
       "      <td>22269.000000</td>\n",
       "      <td>289.000000</td>\n",
       "      <td>92.000000</td>\n",
       "      <td>10830.000000</td>\n",
       "      <td>9333.000000</td>\n",
       "      <td>28.900000</td>\n",
       "      <td>2273.200000</td>\n",
       "    </tr>\n",
       "  </tbody>\n",
       "</table>\n",
       "<p>8 rows × 40 columns</p>\n",
       "</div>"
      ],
      "text/plain": [
       "             gameId     blueWins  blueWardsPlaced  blueWardsDestroyed  \\\n",
       "count  9.879000e+03  9879.000000      9879.000000         9879.000000   \n",
       "mean   4.500084e+09     0.499038        22.288288            2.824881   \n",
       "std    2.757328e+07     0.500024        18.019177            2.174998   \n",
       "min    4.295358e+09     0.000000         5.000000            0.000000   \n",
       "25%    4.483301e+09     0.000000        14.000000            1.000000   \n",
       "50%    4.510920e+09     0.000000        16.000000            3.000000   \n",
       "75%    4.521733e+09     1.000000        20.000000            4.000000   \n",
       "max    4.527991e+09     1.000000       250.000000           27.000000   \n",
       "\n",
       "       blueFirstBlood    blueKills   blueDeaths  blueAssists  \\\n",
       "count     9879.000000  9879.000000  9879.000000  9879.000000   \n",
       "mean         0.504808     6.183925     6.137666     6.645106   \n",
       "std          0.500002     3.011028     2.933818     4.064520   \n",
       "min          0.000000     0.000000     0.000000     0.000000   \n",
       "25%          0.000000     4.000000     4.000000     4.000000   \n",
       "50%          1.000000     6.000000     6.000000     6.000000   \n",
       "75%          1.000000     8.000000     8.000000     9.000000   \n",
       "max          1.000000    22.000000    22.000000    29.000000   \n",
       "\n",
       "       blueEliteMonsters  blueDragons  ...  redTowersDestroyed  redTotalGold  \\\n",
       "count        9879.000000  9879.000000  ...         9879.000000   9879.000000   \n",
       "mean            0.549954     0.361980  ...            0.043021  16489.041401   \n",
       "std             0.625527     0.480597  ...            0.216900   1490.888406   \n",
       "min             0.000000     0.000000  ...            0.000000  11212.000000   \n",
       "25%             0.000000     0.000000  ...            0.000000  15427.500000   \n",
       "50%             0.000000     0.000000  ...            0.000000  16378.000000   \n",
       "75%             1.000000     1.000000  ...            0.000000  17418.500000   \n",
       "max             2.000000     1.000000  ...            2.000000  22732.000000   \n",
       "\n",
       "       redAvgLevel  redTotalExperience  redTotalMinionsKilled  \\\n",
       "count  9879.000000         9879.000000            9879.000000   \n",
       "mean      6.925316        17961.730438             217.349226   \n",
       "std       0.305311         1198.583912              21.911668   \n",
       "min       4.800000        10465.000000             107.000000   \n",
       "25%       6.800000        17209.500000             203.000000   \n",
       "50%       7.000000        17974.000000             218.000000   \n",
       "75%       7.200000        18764.500000             233.000000   \n",
       "max       8.200000        22269.000000             289.000000   \n",
       "\n",
       "       redTotalJungleMinionsKilled   redGoldDiff  redExperienceDiff  \\\n",
       "count                  9879.000000   9879.000000        9879.000000   \n",
       "mean                     51.313088    -14.414111          33.620306   \n",
       "std                      10.027885   2453.349179        1920.370438   \n",
       "min                       4.000000 -11467.000000       -8348.000000   \n",
       "25%                      44.000000  -1596.000000       -1212.000000   \n",
       "50%                      51.000000    -14.000000          28.000000   \n",
       "75%                      57.000000   1585.500000        1290.500000   \n",
       "max                      92.000000  10830.000000        9333.000000   \n",
       "\n",
       "       redCSPerMin  redGoldPerMin  \n",
       "count  9879.000000    9879.000000  \n",
       "mean     21.734923    1648.904140  \n",
       "std       2.191167     149.088841  \n",
       "min      10.700000    1121.200000  \n",
       "25%      20.300000    1542.750000  \n",
       "50%      21.800000    1637.800000  \n",
       "75%      23.300000    1741.850000  \n",
       "max      28.900000    2273.200000  \n",
       "\n",
       "[8 rows x 40 columns]"
      ]
     },
     "execution_count": 9,
     "metadata": {},
     "output_type": "execute_result"
    }
   ],
   "source": [
    "df.describe()"
   ]
  },
  {
   "cell_type": "markdown",
   "metadata": {
    "id": "HGHvPwkNtXgj"
   },
   "source": [
    "### 문제 5. 각 컬럼의 Correlation 히트맵으로 시각화하기\n"
   ]
  },
  {
   "cell_type": "code",
   "execution_count": 37,
   "metadata": {
    "ExecuteTime": {
     "end_time": "2021-09-15T08:28:38.040195Z",
     "start_time": "2021-09-15T08:28:36.597280Z"
    },
    "colab": {
     "base_uri": "https://localhost:8080/",
     "height": 612
    },
    "executionInfo": {
     "elapsed": 1801,
     "status": "ok",
     "timestamp": 1610318813480,
     "user": {
      "displayName": "김패캠",
      "photoUrl": "",
      "userId": "06994282823286758918"
     },
     "user_tz": -540
    },
    "id": "GZXSBFPyDh6R",
    "outputId": "72b94557-fb6b-47ee-cb9e-2e3704319184"
   },
   "outputs": [
    {
     "data": {
      "text/plain": [
       "<AxesSubplot:>"
      ]
     },
     "execution_count": 37,
     "metadata": {},
     "output_type": "execute_result"
    },
    {
     "data": {
      "image/png": "[encoded data removed]",
      "text/plain": [
       "<Figure size 720x720 with 2 Axes>"
      ]
     },
     "metadata": {
      "needs_background": "light"
     },
     "output_type": "display_data"
    }
   ],
   "source": [
    "# DataFrame의 corr() 메소드와 Seaborn의 heatmap() 메소드를 이용하여 Pearson's correlation 시각화하기\n",
    "fig = plt.figure(figsize=(10, 10))\n",
    "sns.heatmap(df.corr(),)"
   ]
  },
  {
   "cell_type": "code",
   "execution_count": 11,
   "metadata": {
    "ExecuteTime": {
     "end_time": "2021-09-15T07:47:54.183899Z",
     "start_time": "2021-09-15T07:47:54.092146Z"
    },
    "colab": {
     "base_uri": "https://localhost:8080/",
     "height": 1000
    },
    "executionInfo": {
     "elapsed": 1624,
     "status": "ok",
     "timestamp": 1610318813480,
     "user": {
      "displayName": "김패캠",
      "photoUrl": "",
      "userId": "06994282823286758918"
     },
     "user_tz": -540
    },
    "id": "NM7mLj4oZr-F",
    "outputId": "d47cf2f2-476d-4f70-e057-099e7eadad51"
   },
   "outputs": [
    {
     "data": {
      "text/html": [
       "<div>\n",
       "<style scoped>\n",
       "    .dataframe tbody tr th:only-of-type {\n",
       "        vertical-align: middle;\n",
       "    }\n",
       "\n",
       "    .dataframe tbody tr th {\n",
       "        vertical-align: top;\n",
       "    }\n",
       "\n",
       "    .dataframe thead th {\n",
       "        text-align: right;\n",
       "    }\n",
       "</style>\n",
       "<table border=\"1\" class=\"dataframe\">\n",
       "  <thead>\n",
       "    <tr style=\"text-align: right;\">\n",
       "      <th></th>\n",
       "      <th>gameId</th>\n",
       "      <th>blueWins</th>\n",
       "      <th>blueWardsPlaced</th>\n",
       "      <th>blueWardsDestroyed</th>\n",
       "      <th>blueFirstBlood</th>\n",
       "      <th>blueKills</th>\n",
       "      <th>blueDeaths</th>\n",
       "      <th>blueAssists</th>\n",
       "      <th>blueEliteMonsters</th>\n",
       "      <th>blueDragons</th>\n",
       "      <th>...</th>\n",
       "      <th>redTowersDestroyed</th>\n",
       "      <th>redTotalGold</th>\n",
       "      <th>redAvgLevel</th>\n",
       "      <th>redTotalExperience</th>\n",
       "      <th>redTotalMinionsKilled</th>\n",
       "      <th>redTotalJungleMinionsKilled</th>\n",
       "      <th>redGoldDiff</th>\n",
       "      <th>redExperienceDiff</th>\n",
       "      <th>redCSPerMin</th>\n",
       "      <th>redGoldPerMin</th>\n",
       "    </tr>\n",
       "  </thead>\n",
       "  <tbody>\n",
       "    <tr>\n",
       "      <th>gameId</th>\n",
       "      <td>1.000000</td>\n",
       "      <td>0.000985</td>\n",
       "      <td>0.005361</td>\n",
       "      <td>-0.012057</td>\n",
       "      <td>-0.011577</td>\n",
       "      <td>-0.038993</td>\n",
       "      <td>-0.013160</td>\n",
       "      <td>-0.023329</td>\n",
       "      <td>0.016599</td>\n",
       "      <td>0.008962</td>\n",
       "      <td>...</td>\n",
       "      <td>0.003557</td>\n",
       "      <td>-0.010622</td>\n",
       "      <td>-0.012419</td>\n",
       "      <td>-0.021187</td>\n",
       "      <td>-0.005118</td>\n",
       "      <td>0.006040</td>\n",
       "      <td>0.014670</td>\n",
       "      <td>0.012315</td>\n",
       "      <td>-0.005118</td>\n",
       "      <td>-0.010622</td>\n",
       "    </tr>\n",
       "    <tr>\n",
       "      <th>blueWins</th>\n",
       "      <td>0.000985</td>\n",
       "      <td>1.000000</td>\n",
       "      <td>0.000087</td>\n",
       "      <td>0.044247</td>\n",
       "      <td>0.201769</td>\n",
       "      <td>0.337358</td>\n",
       "      <td>-0.339297</td>\n",
       "      <td>0.276685</td>\n",
       "      <td>0.221944</td>\n",
       "      <td>0.213768</td>\n",
       "      <td>...</td>\n",
       "      <td>-0.103696</td>\n",
       "      <td>-0.411396</td>\n",
       "      <td>-0.352127</td>\n",
       "      <td>-0.387588</td>\n",
       "      <td>-0.212171</td>\n",
       "      <td>-0.110994</td>\n",
       "      <td>-0.511119</td>\n",
       "      <td>-0.489558</td>\n",
       "      <td>-0.212171</td>\n",
       "      <td>-0.411396</td>\n",
       "    </tr>\n",
       "    <tr>\n",
       "      <th>blueWardsPlaced</th>\n",
       "      <td>0.005361</td>\n",
       "      <td>0.000087</td>\n",
       "      <td>1.000000</td>\n",
       "      <td>0.034447</td>\n",
       "      <td>0.003228</td>\n",
       "      <td>0.018138</td>\n",
       "      <td>-0.002612</td>\n",
       "      <td>0.033217</td>\n",
       "      <td>0.019892</td>\n",
       "      <td>0.017676</td>\n",
       "      <td>...</td>\n",
       "      <td>-0.008225</td>\n",
       "      <td>-0.005685</td>\n",
       "      <td>-0.008882</td>\n",
       "      <td>-0.013000</td>\n",
       "      <td>-0.012395</td>\n",
       "      <td>0.001224</td>\n",
       "      <td>-0.015800</td>\n",
       "      <td>-0.027943</td>\n",
       "      <td>-0.012395</td>\n",
       "      <td>-0.005685</td>\n",
       "    </tr>\n",
       "    <tr>\n",
       "      <th>blueWardsDestroyed</th>\n",
       "      <td>-0.012057</td>\n",
       "      <td>0.044247</td>\n",
       "      <td>0.034447</td>\n",
       "      <td>1.000000</td>\n",
       "      <td>0.017717</td>\n",
       "      <td>0.033748</td>\n",
       "      <td>-0.073182</td>\n",
       "      <td>0.067793</td>\n",
       "      <td>0.041700</td>\n",
       "      <td>0.040504</td>\n",
       "      <td>...</td>\n",
       "      <td>-0.023943</td>\n",
       "      <td>-0.067467</td>\n",
       "      <td>-0.059090</td>\n",
       "      <td>-0.057314</td>\n",
       "      <td>0.040023</td>\n",
       "      <td>-0.035732</td>\n",
       "      <td>-0.078585</td>\n",
       "      <td>-0.077946</td>\n",
       "      <td>0.040023</td>\n",
       "      <td>-0.067467</td>\n",
       "    </tr>\n",
       "    <tr>\n",
       "      <th>blueFirstBlood</th>\n",
       "      <td>-0.011577</td>\n",
       "      <td>0.201769</td>\n",
       "      <td>0.003228</td>\n",
       "      <td>0.017717</td>\n",
       "      <td>1.000000</td>\n",
       "      <td>0.269425</td>\n",
       "      <td>-0.247929</td>\n",
       "      <td>0.229485</td>\n",
       "      <td>0.151603</td>\n",
       "      <td>0.134309</td>\n",
       "      <td>...</td>\n",
       "      <td>-0.069584</td>\n",
       "      <td>-0.301479</td>\n",
       "      <td>-0.182602</td>\n",
       "      <td>-0.194920</td>\n",
       "      <td>-0.156711</td>\n",
       "      <td>-0.024559</td>\n",
       "      <td>-0.378511</td>\n",
       "      <td>-0.240665</td>\n",
       "      <td>-0.156711</td>\n",
       "      <td>-0.301479</td>\n",
       "    </tr>\n",
       "    <tr>\n",
       "      <th>blueKills</th>\n",
       "      <td>-0.038993</td>\n",
       "      <td>0.337358</td>\n",
       "      <td>0.018138</td>\n",
       "      <td>0.033748</td>\n",
       "      <td>0.269425</td>\n",
       "      <td>1.000000</td>\n",
       "      <td>0.004044</td>\n",
       "      <td>0.813667</td>\n",
       "      <td>0.178540</td>\n",
       "      <td>0.170436</td>\n",
       "      <td>...</td>\n",
       "      <td>-0.082491</td>\n",
       "      <td>-0.161127</td>\n",
       "      <td>-0.412219</td>\n",
       "      <td>-0.462333</td>\n",
       "      <td>-0.472203</td>\n",
       "      <td>-0.214454</td>\n",
       "      <td>-0.654148</td>\n",
       "      <td>-0.583730</td>\n",
       "      <td>-0.472203</td>\n",
       "      <td>-0.161127</td>\n",
       "    </tr>\n",
       "    <tr>\n",
       "      <th>blueDeaths</th>\n",
       "      <td>-0.013160</td>\n",
       "      <td>-0.339297</td>\n",
       "      <td>-0.002612</td>\n",
       "      <td>-0.073182</td>\n",
       "      <td>-0.247929</td>\n",
       "      <td>0.004044</td>\n",
       "      <td>1.000000</td>\n",
       "      <td>-0.026372</td>\n",
       "      <td>-0.204764</td>\n",
       "      <td>-0.188852</td>\n",
       "      <td>...</td>\n",
       "      <td>0.156780</td>\n",
       "      <td>0.885728</td>\n",
       "      <td>0.433383</td>\n",
       "      <td>0.464584</td>\n",
       "      <td>-0.040521</td>\n",
       "      <td>-0.100271</td>\n",
       "      <td>0.640000</td>\n",
       "      <td>0.577613</td>\n",
       "      <td>-0.040521</td>\n",
       "      <td>0.885728</td>\n",
       "    </tr>\n",
       "    <tr>\n",
       "      <th>blueAssists</th>\n",
       "      <td>-0.023329</td>\n",
       "      <td>0.276685</td>\n",
       "      <td>0.033217</td>\n",
       "      <td>0.067793</td>\n",
       "      <td>0.229485</td>\n",
       "      <td>0.813667</td>\n",
       "      <td>-0.026372</td>\n",
       "      <td>1.000000</td>\n",
       "      <td>0.149043</td>\n",
       "      <td>0.170873</td>\n",
       "      <td>...</td>\n",
       "      <td>-0.060880</td>\n",
       "      <td>-0.133948</td>\n",
       "      <td>-0.356928</td>\n",
       "      <td>-0.396652</td>\n",
       "      <td>-0.337515</td>\n",
       "      <td>-0.160915</td>\n",
       "      <td>-0.549761</td>\n",
       "      <td>-0.437002</td>\n",
       "      <td>-0.337515</td>\n",
       "      <td>-0.133948</td>\n",
       "    </tr>\n",
       "    <tr>\n",
       "      <th>blueEliteMonsters</th>\n",
       "      <td>0.016599</td>\n",
       "      <td>0.221944</td>\n",
       "      <td>0.019892</td>\n",
       "      <td>0.041700</td>\n",
       "      <td>0.151603</td>\n",
       "      <td>0.178540</td>\n",
       "      <td>-0.204764</td>\n",
       "      <td>0.149043</td>\n",
       "      <td>1.000000</td>\n",
       "      <td>0.781039</td>\n",
       "      <td>...</td>\n",
       "      <td>-0.052029</td>\n",
       "      <td>-0.216616</td>\n",
       "      <td>-0.169649</td>\n",
       "      <td>-0.189816</td>\n",
       "      <td>-0.074838</td>\n",
       "      <td>-0.087893</td>\n",
       "      <td>-0.281464</td>\n",
       "      <td>-0.263991</td>\n",
       "      <td>-0.074838</td>\n",
       "      <td>-0.216616</td>\n",
       "    </tr>\n",
       "    <tr>\n",
       "      <th>blueDragons</th>\n",
       "      <td>0.008962</td>\n",
       "      <td>0.213768</td>\n",
       "      <td>0.017676</td>\n",
       "      <td>0.040504</td>\n",
       "      <td>0.134309</td>\n",
       "      <td>0.170436</td>\n",
       "      <td>-0.188852</td>\n",
       "      <td>0.170873</td>\n",
       "      <td>0.781039</td>\n",
       "      <td>1.000000</td>\n",
       "      <td>...</td>\n",
       "      <td>-0.032865</td>\n",
       "      <td>-0.192871</td>\n",
       "      <td>-0.149806</td>\n",
       "      <td>-0.159485</td>\n",
       "      <td>-0.059803</td>\n",
       "      <td>-0.098446</td>\n",
       "      <td>-0.233875</td>\n",
       "      <td>-0.211496</td>\n",
       "      <td>-0.059803</td>\n",
       "      <td>-0.192871</td>\n",
       "    </tr>\n",
       "    <tr>\n",
       "      <th>blueHeralds</th>\n",
       "      <td>0.015551</td>\n",
       "      <td>0.092385</td>\n",
       "      <td>0.010104</td>\n",
       "      <td>0.016940</td>\n",
       "      <td>0.077509</td>\n",
       "      <td>0.076195</td>\n",
       "      <td>-0.095527</td>\n",
       "      <td>0.028434</td>\n",
       "      <td>0.640271</td>\n",
       "      <td>0.020381</td>\n",
       "      <td>...</td>\n",
       "      <td>-0.042872</td>\n",
       "      <td>-0.109557</td>\n",
       "      <td>-0.087337</td>\n",
       "      <td>-0.107718</td>\n",
       "      <td>-0.046253</td>\n",
       "      <td>-0.019622</td>\n",
       "      <td>-0.162943</td>\n",
       "      <td>-0.162496</td>\n",
       "      <td>-0.046253</td>\n",
       "      <td>-0.109557</td>\n",
       "    </tr>\n",
       "    <tr>\n",
       "      <th>blueTowersDestroyed</th>\n",
       "      <td>-0.007467</td>\n",
       "      <td>0.115566</td>\n",
       "      <td>0.009462</td>\n",
       "      <td>-0.009150</td>\n",
       "      <td>0.083316</td>\n",
       "      <td>0.180314</td>\n",
       "      <td>-0.071441</td>\n",
       "      <td>0.123663</td>\n",
       "      <td>0.166644</td>\n",
       "      <td>0.039750</td>\n",
       "      <td>...</td>\n",
       "      <td>0.011738</td>\n",
       "      <td>-0.122465</td>\n",
       "      <td>-0.204429</td>\n",
       "      <td>-0.210167</td>\n",
       "      <td>-0.186879</td>\n",
       "      <td>-0.038505</td>\n",
       "      <td>-0.294060</td>\n",
       "      <td>-0.218320</td>\n",
       "      <td>-0.186879</td>\n",
       "      <td>-0.122465</td>\n",
       "    </tr>\n",
       "    <tr>\n",
       "      <th>blueTotalGold</th>\n",
       "      <td>-0.033754</td>\n",
       "      <td>0.417213</td>\n",
       "      <td>0.019725</td>\n",
       "      <td>0.060054</td>\n",
       "      <td>0.312058</td>\n",
       "      <td>0.888751</td>\n",
       "      <td>-0.162572</td>\n",
       "      <td>0.748352</td>\n",
       "      <td>0.239396</td>\n",
       "      <td>0.186413</td>\n",
       "      <td>...</td>\n",
       "      <td>-0.119579</td>\n",
       "      <td>-0.314212</td>\n",
       "      <td>-0.447049</td>\n",
       "      <td>-0.491268</td>\n",
       "      <td>-0.452593</td>\n",
       "      <td>-0.175275</td>\n",
       "      <td>-0.816803</td>\n",
       "      <td>-0.729345</td>\n",
       "      <td>-0.452593</td>\n",
       "      <td>-0.314212</td>\n",
       "    </tr>\n",
       "    <tr>\n",
       "      <th>blueAvgLevel</th>\n",
       "      <td>-0.040956</td>\n",
       "      <td>0.357820</td>\n",
       "      <td>0.034349</td>\n",
       "      <td>0.060294</td>\n",
       "      <td>0.177617</td>\n",
       "      <td>0.434867</td>\n",
       "      <td>-0.414755</td>\n",
       "      <td>0.292661</td>\n",
       "      <td>0.203530</td>\n",
       "      <td>0.160683</td>\n",
       "      <td>...</td>\n",
       "      <td>-0.183090</td>\n",
       "      <td>-0.440031</td>\n",
       "      <td>-0.228466</td>\n",
       "      <td>-0.248941</td>\n",
       "      <td>-0.123316</td>\n",
       "      <td>-0.013128</td>\n",
       "      <td>-0.653538</td>\n",
       "      <td>-0.718822</td>\n",
       "      <td>-0.123316</td>\n",
       "      <td>-0.440031</td>\n",
       "    </tr>\n",
       "    <tr>\n",
       "      <th>blueTotalExperience</th>\n",
       "      <td>-0.040852</td>\n",
       "      <td>0.396141</td>\n",
       "      <td>0.031719</td>\n",
       "      <td>0.067462</td>\n",
       "      <td>0.190365</td>\n",
       "      <td>0.472155</td>\n",
       "      <td>-0.460122</td>\n",
       "      <td>0.303022</td>\n",
       "      <td>0.232774</td>\n",
       "      <td>0.179083</td>\n",
       "      <td>...</td>\n",
       "      <td>-0.187414</td>\n",
       "      <td>-0.485059</td>\n",
       "      <td>-0.254508</td>\n",
       "      <td>-0.281446</td>\n",
       "      <td>-0.141276</td>\n",
       "      <td>-0.010528</td>\n",
       "      <td>-0.717968</td>\n",
       "      <td>-0.800815</td>\n",
       "      <td>-0.141276</td>\n",
       "      <td>-0.485059</td>\n",
       "    </tr>\n",
       "    <tr>\n",
       "      <th>blueTotalMinionsKilled</th>\n",
       "      <td>-0.002917</td>\n",
       "      <td>0.224909</td>\n",
       "      <td>-0.033925</td>\n",
       "      <td>0.111028</td>\n",
       "      <td>0.125642</td>\n",
       "      <td>-0.030880</td>\n",
       "      <td>-0.468560</td>\n",
       "      <td>-0.062035</td>\n",
       "      <td>0.118762</td>\n",
       "      <td>0.086686</td>\n",
       "      <td>...</td>\n",
       "      <td>-0.145974</td>\n",
       "      <td>-0.447904</td>\n",
       "      <td>-0.142399</td>\n",
       "      <td>-0.144832</td>\n",
       "      <td>0.000484</td>\n",
       "      <td>0.092225</td>\n",
       "      <td>-0.450497</td>\n",
       "      <td>-0.447264</td>\n",
       "      <td>0.000484</td>\n",
       "      <td>-0.447904</td>\n",
       "    </tr>\n",
       "    <tr>\n",
       "      <th>blueTotalJungleMinionsKilled</th>\n",
       "      <td>-0.004193</td>\n",
       "      <td>0.131445</td>\n",
       "      <td>0.010501</td>\n",
       "      <td>-0.023452</td>\n",
       "      <td>0.018190</td>\n",
       "      <td>-0.112506</td>\n",
       "      <td>-0.228102</td>\n",
       "      <td>-0.134023</td>\n",
       "      <td>0.198378</td>\n",
       "      <td>0.159595</td>\n",
       "      <td>...</td>\n",
       "      <td>-0.048078</td>\n",
       "      <td>-0.182167</td>\n",
       "      <td>-0.013881</td>\n",
       "      <td>-0.011657</td>\n",
       "      <td>0.109806</td>\n",
       "      <td>-0.026363</td>\n",
       "      <td>-0.167510</td>\n",
       "      <td>-0.265443</td>\n",
       "      <td>0.109806</td>\n",
       "      <td>-0.182167</td>\n",
       "    </tr>\n",
       "    <tr>\n",
       "      <th>blueGoldDiff</th>\n",
       "      <td>-0.014670</td>\n",
       "      <td>0.511119</td>\n",
       "      <td>0.015800</td>\n",
       "      <td>0.078585</td>\n",
       "      <td>0.378511</td>\n",
       "      <td>0.654148</td>\n",
       "      <td>-0.640000</td>\n",
       "      <td>0.549761</td>\n",
       "      <td>0.281464</td>\n",
       "      <td>0.233875</td>\n",
       "      <td>...</td>\n",
       "      <td>-0.273861</td>\n",
       "      <td>-0.804347</td>\n",
       "      <td>-0.652929</td>\n",
       "      <td>-0.714405</td>\n",
       "      <td>-0.452633</td>\n",
       "      <td>-0.172066</td>\n",
       "      <td>-1.000000</td>\n",
       "      <td>-0.894729</td>\n",
       "      <td>-0.452633</td>\n",
       "      <td>-0.804347</td>\n",
       "    </tr>\n",
       "    <tr>\n",
       "      <th>blueExperienceDiff</th>\n",
       "      <td>-0.012315</td>\n",
       "      <td>0.489558</td>\n",
       "      <td>0.027943</td>\n",
       "      <td>0.077946</td>\n",
       "      <td>0.240665</td>\n",
       "      <td>0.583730</td>\n",
       "      <td>-0.577613</td>\n",
       "      <td>0.437002</td>\n",
       "      <td>0.263991</td>\n",
       "      <td>0.211496</td>\n",
       "      <td>...</td>\n",
       "      <td>-0.197678</td>\n",
       "      <td>-0.721190</td>\n",
       "      <td>-0.721925</td>\n",
       "      <td>-0.800089</td>\n",
       "      <td>-0.437205</td>\n",
       "      <td>-0.273224</td>\n",
       "      <td>-0.894729</td>\n",
       "      <td>-1.000000</td>\n",
       "      <td>-0.437205</td>\n",
       "      <td>-0.721190</td>\n",
       "    </tr>\n",
       "    <tr>\n",
       "      <th>blueCSPerMin</th>\n",
       "      <td>-0.002917</td>\n",
       "      <td>0.224909</td>\n",
       "      <td>-0.033925</td>\n",
       "      <td>0.111028</td>\n",
       "      <td>0.125642</td>\n",
       "      <td>-0.030880</td>\n",
       "      <td>-0.468560</td>\n",
       "      <td>-0.062035</td>\n",
       "      <td>0.118762</td>\n",
       "      <td>0.086686</td>\n",
       "      <td>...</td>\n",
       "      <td>-0.145974</td>\n",
       "      <td>-0.447904</td>\n",
       "      <td>-0.142399</td>\n",
       "      <td>-0.144832</td>\n",
       "      <td>0.000484</td>\n",
       "      <td>0.092225</td>\n",
       "      <td>-0.450497</td>\n",
       "      <td>-0.447264</td>\n",
       "      <td>0.000484</td>\n",
       "      <td>-0.447904</td>\n",
       "    </tr>\n",
       "    <tr>\n",
       "      <th>blueGoldPerMin</th>\n",
       "      <td>-0.033754</td>\n",
       "      <td>0.417213</td>\n",
       "      <td>0.019725</td>\n",
       "      <td>0.060054</td>\n",
       "      <td>0.312058</td>\n",
       "      <td>0.888751</td>\n",
       "      <td>-0.162572</td>\n",
       "      <td>0.748352</td>\n",
       "      <td>0.239396</td>\n",
       "      <td>0.186413</td>\n",
       "      <td>...</td>\n",
       "      <td>-0.119579</td>\n",
       "      <td>-0.314212</td>\n",
       "      <td>-0.447049</td>\n",
       "      <td>-0.491268</td>\n",
       "      <td>-0.452593</td>\n",
       "      <td>-0.175275</td>\n",
       "      <td>-0.816803</td>\n",
       "      <td>-0.729345</td>\n",
       "      <td>-0.452593</td>\n",
       "      <td>-0.314212</td>\n",
       "    </tr>\n",
       "    <tr>\n",
       "      <th>redWardsPlaced</th>\n",
       "      <td>0.007405</td>\n",
       "      <td>-0.023671</td>\n",
       "      <td>-0.012906</td>\n",
       "      <td>0.135966</td>\n",
       "      <td>-0.019142</td>\n",
       "      <td>-0.034239</td>\n",
       "      <td>0.008102</td>\n",
       "      <td>-0.032474</td>\n",
       "      <td>-0.017292</td>\n",
       "      <td>-0.027102</td>\n",
       "      <td>...</td>\n",
       "      <td>-0.006230</td>\n",
       "      <td>0.010666</td>\n",
       "      <td>0.041737</td>\n",
       "      <td>0.036506</td>\n",
       "      <td>-0.021842</td>\n",
       "      <td>0.004666</td>\n",
       "      <td>0.019042</td>\n",
       "      <td>0.026556</td>\n",
       "      <td>-0.021842</td>\n",
       "      <td>0.010666</td>\n",
       "    </tr>\n",
       "    <tr>\n",
       "      <th>redWardsDestroyed</th>\n",
       "      <td>-0.001197</td>\n",
       "      <td>-0.055400</td>\n",
       "      <td>0.115549</td>\n",
       "      <td>0.123919</td>\n",
       "      <td>-0.043304</td>\n",
       "      <td>-0.092278</td>\n",
       "      <td>0.038672</td>\n",
       "      <td>-0.064501</td>\n",
       "      <td>-0.005288</td>\n",
       "      <td>-0.023049</td>\n",
       "      <td>...</td>\n",
       "      <td>0.003855</td>\n",
       "      <td>0.070784</td>\n",
       "      <td>0.075537</td>\n",
       "      <td>0.079975</td>\n",
       "      <td>0.128062</td>\n",
       "      <td>-0.009313</td>\n",
       "      <td>0.099725</td>\n",
       "      <td>0.085829</td>\n",
       "      <td>0.128062</td>\n",
       "      <td>0.070784</td>\n",
       "    </tr>\n",
       "    <tr>\n",
       "      <th>redFirstBlood</th>\n",
       "      <td>0.011577</td>\n",
       "      <td>-0.201769</td>\n",
       "      <td>-0.003228</td>\n",
       "      <td>-0.017717</td>\n",
       "      <td>-1.000000</td>\n",
       "      <td>-0.269425</td>\n",
       "      <td>0.247929</td>\n",
       "      <td>-0.229485</td>\n",
       "      <td>-0.151603</td>\n",
       "      <td>-0.134309</td>\n",
       "      <td>...</td>\n",
       "      <td>0.069584</td>\n",
       "      <td>0.301479</td>\n",
       "      <td>0.182602</td>\n",
       "      <td>0.194920</td>\n",
       "      <td>0.156711</td>\n",
       "      <td>0.024559</td>\n",
       "      <td>0.378511</td>\n",
       "      <td>0.240665</td>\n",
       "      <td>0.156711</td>\n",
       "      <td>0.301479</td>\n",
       "    </tr>\n",
       "    <tr>\n",
       "      <th>redKills</th>\n",
       "      <td>-0.013160</td>\n",
       "      <td>-0.339297</td>\n",
       "      <td>-0.002612</td>\n",
       "      <td>-0.073182</td>\n",
       "      <td>-0.247929</td>\n",
       "      <td>0.004044</td>\n",
       "      <td>1.000000</td>\n",
       "      <td>-0.026372</td>\n",
       "      <td>-0.204764</td>\n",
       "      <td>-0.188852</td>\n",
       "      <td>...</td>\n",
       "      <td>0.156780</td>\n",
       "      <td>0.885728</td>\n",
       "      <td>0.433383</td>\n",
       "      <td>0.464584</td>\n",
       "      <td>-0.040521</td>\n",
       "      <td>-0.100271</td>\n",
       "      <td>0.640000</td>\n",
       "      <td>0.577613</td>\n",
       "      <td>-0.040521</td>\n",
       "      <td>0.885728</td>\n",
       "    </tr>\n",
       "    <tr>\n",
       "      <th>redDeaths</th>\n",
       "      <td>-0.038993</td>\n",
       "      <td>0.337358</td>\n",
       "      <td>0.018138</td>\n",
       "      <td>0.033748</td>\n",
       "      <td>0.269425</td>\n",
       "      <td>1.000000</td>\n",
       "      <td>0.004044</td>\n",
       "      <td>0.813667</td>\n",
       "      <td>0.178540</td>\n",
       "      <td>0.170436</td>\n",
       "      <td>...</td>\n",
       "      <td>-0.082491</td>\n",
       "      <td>-0.161127</td>\n",
       "      <td>-0.412219</td>\n",
       "      <td>-0.462333</td>\n",
       "      <td>-0.472203</td>\n",
       "      <td>-0.214454</td>\n",
       "      <td>-0.654148</td>\n",
       "      <td>-0.583730</td>\n",
       "      <td>-0.472203</td>\n",
       "      <td>-0.161127</td>\n",
       "    </tr>\n",
       "    <tr>\n",
       "      <th>redAssists</th>\n",
       "      <td>-0.008664</td>\n",
       "      <td>-0.271047</td>\n",
       "      <td>-0.009009</td>\n",
       "      <td>-0.046212</td>\n",
       "      <td>-0.201140</td>\n",
       "      <td>-0.020344</td>\n",
       "      <td>0.804023</td>\n",
       "      <td>-0.007481</td>\n",
       "      <td>-0.156764</td>\n",
       "      <td>-0.162406</td>\n",
       "      <td>...</td>\n",
       "      <td>0.107425</td>\n",
       "      <td>0.736215</td>\n",
       "      <td>0.277040</td>\n",
       "      <td>0.279788</td>\n",
       "      <td>-0.078234</td>\n",
       "      <td>-0.130417</td>\n",
       "      <td>0.528081</td>\n",
       "      <td>0.422972</td>\n",
       "      <td>-0.078234</td>\n",
       "      <td>0.736215</td>\n",
       "    </tr>\n",
       "    <tr>\n",
       "      <th>redEliteMonsters</th>\n",
       "      <td>0.017296</td>\n",
       "      <td>-0.221551</td>\n",
       "      <td>-0.022817</td>\n",
       "      <td>-0.034509</td>\n",
       "      <td>-0.141627</td>\n",
       "      <td>-0.224564</td>\n",
       "      <td>0.163340</td>\n",
       "      <td>-0.182985</td>\n",
       "      <td>-0.455139</td>\n",
       "      <td>-0.506546</td>\n",
       "      <td>...</td>\n",
       "      <td>0.158999</td>\n",
       "      <td>0.228861</td>\n",
       "      <td>0.222537</td>\n",
       "      <td>0.244205</td>\n",
       "      <td>0.129705</td>\n",
       "      <td>0.216969</td>\n",
       "      <td>0.281296</td>\n",
       "      <td>0.269283</td>\n",
       "      <td>0.129705</td>\n",
       "      <td>0.228861</td>\n",
       "    </tr>\n",
       "    <tr>\n",
       "      <th>redDragons</th>\n",
       "      <td>0.017416</td>\n",
       "      <td>-0.209516</td>\n",
       "      <td>-0.020121</td>\n",
       "      <td>-0.034439</td>\n",
       "      <td>-0.135327</td>\n",
       "      <td>-0.207949</td>\n",
       "      <td>0.150746</td>\n",
       "      <td>-0.189563</td>\n",
       "      <td>-0.471754</td>\n",
       "      <td>-0.631930</td>\n",
       "      <td>...</td>\n",
       "      <td>0.026950</td>\n",
       "      <td>0.178168</td>\n",
       "      <td>0.191497</td>\n",
       "      <td>0.204941</td>\n",
       "      <td>0.103151</td>\n",
       "      <td>0.214187</td>\n",
       "      <td>0.234566</td>\n",
       "      <td>0.218872</td>\n",
       "      <td>0.103151</td>\n",
       "      <td>0.178168</td>\n",
       "    </tr>\n",
       "    <tr>\n",
       "      <th>redHeralds</th>\n",
       "      <td>0.006163</td>\n",
       "      <td>-0.097172</td>\n",
       "      <td>-0.011964</td>\n",
       "      <td>-0.012712</td>\n",
       "      <td>-0.060246</td>\n",
       "      <td>-0.104423</td>\n",
       "      <td>0.076639</td>\n",
       "      <td>-0.058074</td>\n",
       "      <td>-0.144104</td>\n",
       "      <td>-0.016827</td>\n",
       "      <td>...</td>\n",
       "      <td>0.235475</td>\n",
       "      <td>0.151762</td>\n",
       "      <td>0.123056</td>\n",
       "      <td>0.142024</td>\n",
       "      <td>0.083087</td>\n",
       "      <td>0.083068</td>\n",
       "      <td>0.165611</td>\n",
       "      <td>0.166162</td>\n",
       "      <td>0.083087</td>\n",
       "      <td>0.151762</td>\n",
       "    </tr>\n",
       "    <tr>\n",
       "      <th>redTowersDestroyed</th>\n",
       "      <td>0.003557</td>\n",
       "      <td>-0.103696</td>\n",
       "      <td>-0.008225</td>\n",
       "      <td>-0.023943</td>\n",
       "      <td>-0.069584</td>\n",
       "      <td>-0.082491</td>\n",
       "      <td>0.156780</td>\n",
       "      <td>-0.060880</td>\n",
       "      <td>-0.052029</td>\n",
       "      <td>-0.032865</td>\n",
       "      <td>...</td>\n",
       "      <td>1.000000</td>\n",
       "      <td>0.327503</td>\n",
       "      <td>0.113035</td>\n",
       "      <td>0.129002</td>\n",
       "      <td>0.092564</td>\n",
       "      <td>0.006374</td>\n",
       "      <td>0.273861</td>\n",
       "      <td>0.197678</td>\n",
       "      <td>0.092564</td>\n",
       "      <td>0.327503</td>\n",
       "    </tr>\n",
       "    <tr>\n",
       "      <th>redTotalGold</th>\n",
       "      <td>-0.010622</td>\n",
       "      <td>-0.411396</td>\n",
       "      <td>-0.005685</td>\n",
       "      <td>-0.067467</td>\n",
       "      <td>-0.301479</td>\n",
       "      <td>-0.161127</td>\n",
       "      <td>0.885728</td>\n",
       "      <td>-0.133948</td>\n",
       "      <td>-0.216616</td>\n",
       "      <td>-0.192871</td>\n",
       "      <td>...</td>\n",
       "      <td>0.327503</td>\n",
       "      <td>1.000000</td>\n",
       "      <td>0.614025</td>\n",
       "      <td>0.669646</td>\n",
       "      <td>0.278715</td>\n",
       "      <td>0.102632</td>\n",
       "      <td>0.804347</td>\n",
       "      <td>0.721190</td>\n",
       "      <td>0.278715</td>\n",
       "      <td>1.000000</td>\n",
       "    </tr>\n",
       "    <tr>\n",
       "      <th>redAvgLevel</th>\n",
       "      <td>-0.012419</td>\n",
       "      <td>-0.352127</td>\n",
       "      <td>-0.008882</td>\n",
       "      <td>-0.059090</td>\n",
       "      <td>-0.182602</td>\n",
       "      <td>-0.412219</td>\n",
       "      <td>0.433383</td>\n",
       "      <td>-0.356928</td>\n",
       "      <td>-0.169649</td>\n",
       "      <td>-0.149806</td>\n",
       "      <td>...</td>\n",
       "      <td>0.113035</td>\n",
       "      <td>0.614025</td>\n",
       "      <td>1.000000</td>\n",
       "      <td>0.901748</td>\n",
       "      <td>0.489672</td>\n",
       "      <td>0.382009</td>\n",
       "      <td>0.652929</td>\n",
       "      <td>0.721925</td>\n",
       "      <td>0.489672</td>\n",
       "      <td>0.614025</td>\n",
       "    </tr>\n",
       "    <tr>\n",
       "      <th>redTotalExperience</th>\n",
       "      <td>-0.021187</td>\n",
       "      <td>-0.387588</td>\n",
       "      <td>-0.013000</td>\n",
       "      <td>-0.057314</td>\n",
       "      <td>-0.194920</td>\n",
       "      <td>-0.462333</td>\n",
       "      <td>0.464584</td>\n",
       "      <td>-0.396652</td>\n",
       "      <td>-0.189816</td>\n",
       "      <td>-0.159485</td>\n",
       "      <td>...</td>\n",
       "      <td>0.129002</td>\n",
       "      <td>0.669646</td>\n",
       "      <td>0.901748</td>\n",
       "      <td>1.000000</td>\n",
       "      <td>0.558985</td>\n",
       "      <td>0.427214</td>\n",
       "      <td>0.714405</td>\n",
       "      <td>0.800089</td>\n",
       "      <td>0.558985</td>\n",
       "      <td>0.669646</td>\n",
       "    </tr>\n",
       "    <tr>\n",
       "      <th>redTotalMinionsKilled</th>\n",
       "      <td>-0.005118</td>\n",
       "      <td>-0.212171</td>\n",
       "      <td>-0.012395</td>\n",
       "      <td>0.040023</td>\n",
       "      <td>-0.156711</td>\n",
       "      <td>-0.472203</td>\n",
       "      <td>-0.040521</td>\n",
       "      <td>-0.337515</td>\n",
       "      <td>-0.074838</td>\n",
       "      <td>-0.059803</td>\n",
       "      <td>...</td>\n",
       "      <td>0.092564</td>\n",
       "      <td>0.278715</td>\n",
       "      <td>0.489672</td>\n",
       "      <td>0.558985</td>\n",
       "      <td>1.000000</td>\n",
       "      <td>0.165652</td>\n",
       "      <td>0.452633</td>\n",
       "      <td>0.437205</td>\n",
       "      <td>1.000000</td>\n",
       "      <td>0.278715</td>\n",
       "    </tr>\n",
       "    <tr>\n",
       "      <th>redTotalJungleMinionsKilled</th>\n",
       "      <td>0.006040</td>\n",
       "      <td>-0.110994</td>\n",
       "      <td>0.001224</td>\n",
       "      <td>-0.035732</td>\n",
       "      <td>-0.024559</td>\n",
       "      <td>-0.214454</td>\n",
       "      <td>-0.100271</td>\n",
       "      <td>-0.160915</td>\n",
       "      <td>-0.087893</td>\n",
       "      <td>-0.098446</td>\n",
       "      <td>...</td>\n",
       "      <td>0.006374</td>\n",
       "      <td>0.102632</td>\n",
       "      <td>0.382009</td>\n",
       "      <td>0.427214</td>\n",
       "      <td>0.165652</td>\n",
       "      <td>1.000000</td>\n",
       "      <td>0.172066</td>\n",
       "      <td>0.273224</td>\n",
       "      <td>0.165652</td>\n",
       "      <td>0.102632</td>\n",
       "    </tr>\n",
       "    <tr>\n",
       "      <th>redGoldDiff</th>\n",
       "      <td>0.014670</td>\n",
       "      <td>-0.511119</td>\n",
       "      <td>-0.015800</td>\n",
       "      <td>-0.078585</td>\n",
       "      <td>-0.378511</td>\n",
       "      <td>-0.654148</td>\n",
       "      <td>0.640000</td>\n",
       "      <td>-0.549761</td>\n",
       "      <td>-0.281464</td>\n",
       "      <td>-0.233875</td>\n",
       "      <td>...</td>\n",
       "      <td>0.273861</td>\n",
       "      <td>0.804347</td>\n",
       "      <td>0.652929</td>\n",
       "      <td>0.714405</td>\n",
       "      <td>0.452633</td>\n",
       "      <td>0.172066</td>\n",
       "      <td>1.000000</td>\n",
       "      <td>0.894729</td>\n",
       "      <td>0.452633</td>\n",
       "      <td>0.804347</td>\n",
       "    </tr>\n",
       "    <tr>\n",
       "      <th>redExperienceDiff</th>\n",
       "      <td>0.012315</td>\n",
       "      <td>-0.489558</td>\n",
       "      <td>-0.027943</td>\n",
       "      <td>-0.077946</td>\n",
       "      <td>-0.240665</td>\n",
       "      <td>-0.583730</td>\n",
       "      <td>0.577613</td>\n",
       "      <td>-0.437002</td>\n",
       "      <td>-0.263991</td>\n",
       "      <td>-0.211496</td>\n",
       "      <td>...</td>\n",
       "      <td>0.197678</td>\n",
       "      <td>0.721190</td>\n",
       "      <td>0.721925</td>\n",
       "      <td>0.800089</td>\n",
       "      <td>0.437205</td>\n",
       "      <td>0.273224</td>\n",
       "      <td>0.894729</td>\n",
       "      <td>1.000000</td>\n",
       "      <td>0.437205</td>\n",
       "      <td>0.721190</td>\n",
       "    </tr>\n",
       "    <tr>\n",
       "      <th>redCSPerMin</th>\n",
       "      <td>-0.005118</td>\n",
       "      <td>-0.212171</td>\n",
       "      <td>-0.012395</td>\n",
       "      <td>0.040023</td>\n",
       "      <td>-0.156711</td>\n",
       "      <td>-0.472203</td>\n",
       "      <td>-0.040521</td>\n",
       "      <td>-0.337515</td>\n",
       "      <td>-0.074838</td>\n",
       "      <td>-0.059803</td>\n",
       "      <td>...</td>\n",
       "      <td>0.092564</td>\n",
       "      <td>0.278715</td>\n",
       "      <td>0.489672</td>\n",
       "      <td>0.558985</td>\n",
       "      <td>1.000000</td>\n",
       "      <td>0.165652</td>\n",
       "      <td>0.452633</td>\n",
       "      <td>0.437205</td>\n",
       "      <td>1.000000</td>\n",
       "      <td>0.278715</td>\n",
       "    </tr>\n",
       "    <tr>\n",
       "      <th>redGoldPerMin</th>\n",
       "      <td>-0.010622</td>\n",
       "      <td>-0.411396</td>\n",
       "      <td>-0.005685</td>\n",
       "      <td>-0.067467</td>\n",
       "      <td>-0.301479</td>\n",
       "      <td>-0.161127</td>\n",
       "      <td>0.885728</td>\n",
       "      <td>-0.133948</td>\n",
       "      <td>-0.216616</td>\n",
       "      <td>-0.192871</td>\n",
       "      <td>...</td>\n",
       "      <td>0.327503</td>\n",
       "      <td>1.000000</td>\n",
       "      <td>0.614025</td>\n",
       "      <td>0.669646</td>\n",
       "      <td>0.278715</td>\n",
       "      <td>0.102632</td>\n",
       "      <td>0.804347</td>\n",
       "      <td>0.721190</td>\n",
       "      <td>0.278715</td>\n",
       "      <td>1.000000</td>\n",
       "    </tr>\n",
       "  </tbody>\n",
       "</table>\n",
       "<p>40 rows × 40 columns</p>\n",
       "</div>"
      ],
      "text/plain": [
       "                                gameId  blueWins  blueWardsPlaced  \\\n",
       "gameId                        1.000000  0.000985         0.005361   \n",
       "blueWins                      0.000985  1.000000         0.000087   \n",
       "blueWardsPlaced               0.005361  0.000087         1.000000   \n",
       "blueWardsDestroyed           -0.012057  0.044247         0.034447   \n",
       "blueFirstBlood               -0.011577  0.201769         0.003228   \n",
       "blueKills                    -0.038993  0.337358         0.018138   \n",
       "blueDeaths                   -0.013160 -0.339297        -0.002612   \n",
       "blueAssists                  -0.023329  0.276685         0.033217   \n",
       "blueEliteMonsters             0.016599  0.221944         0.019892   \n",
       "blueDragons                   0.008962  0.213768         0.017676   \n",
       "blueHeralds                   0.015551  0.092385         0.010104   \n",
       "blueTowersDestroyed          -0.007467  0.115566         0.009462   \n",
       "blueTotalGold                -0.033754  0.417213         0.019725   \n",
       "blueAvgLevel                 -0.040956  0.357820         0.034349   \n",
       "blueTotalExperience          -0.040852  0.396141         0.031719   \n",
       "blueTotalMinionsKilled       -0.002917  0.224909        -0.033925   \n",
       "blueTotalJungleMinionsKilled -0.004193  0.131445         0.010501   \n",
       "blueGoldDiff                 -0.014670  0.511119         0.015800   \n",
       "blueExperienceDiff           -0.012315  0.489558         0.027943   \n",
       "blueCSPerMin                 -0.002917  0.224909        -0.033925   \n",
       "blueGoldPerMin               -0.033754  0.417213         0.019725   \n",
       "redWardsPlaced                0.007405 -0.023671        -0.012906   \n",
       "redWardsDestroyed            -0.001197 -0.055400         0.115549   \n",
       "redFirstBlood                 0.011577 -0.201769        -0.003228   \n",
       "redKills                     -0.013160 -0.339297        -0.002612   \n",
       "redDeaths                    -0.038993  0.337358         0.018138   \n",
       "redAssists                   -0.008664 -0.271047        -0.009009   \n",
       "redEliteMonsters              0.017296 -0.221551        -0.022817   \n",
       "redDragons                    0.017416 -0.209516        -0.020121   \n",
       "redHeralds                    0.006163 -0.097172        -0.011964   \n",
       "redTowersDestroyed            0.003557 -0.103696        -0.008225   \n",
       "redTotalGold                 -0.010622 -0.411396        -0.005685   \n",
       "redAvgLevel                  -0.012419 -0.352127        -0.008882   \n",
       "redTotalExperience           -0.021187 -0.387588        -0.013000   \n",
       "redTotalMinionsKilled        -0.005118 -0.212171        -0.012395   \n",
       "redTotalJungleMinionsKilled   0.006040 -0.110994         0.001224   \n",
       "redGoldDiff                   0.014670 -0.511119        -0.015800   \n",
       "redExperienceDiff             0.012315 -0.489558        -0.027943   \n",
       "redCSPerMin                  -0.005118 -0.212171        -0.012395   \n",
       "redGoldPerMin                -0.010622 -0.411396        -0.005685   \n",
       "\n",
       "                              blueWardsDestroyed  blueFirstBlood  blueKills  \\\n",
       "gameId                                 -0.012057       -0.011577  -0.038993   \n",
       "blueWins                                0.044247        0.201769   0.337358   \n",
       "blueWardsPlaced                         0.034447        0.003228   0.018138   \n",
       "blueWardsDestroyed                      1.000000        0.017717   0.033748   \n",
       "blueFirstBlood                          0.017717        1.000000   0.269425   \n",
       "blueKills                               0.033748        0.269425   1.000000   \n",
       "blueDeaths                             -0.073182       -0.247929   0.004044   \n",
       "blueAssists                             0.067793        0.229485   0.813667   \n",
       "blueEliteMonsters                       0.041700        0.151603   0.178540   \n",
       "blueDragons                             0.040504        0.134309   0.170436   \n",
       "blueHeralds                             0.016940        0.077509   0.076195   \n",
       "blueTowersDestroyed                    -0.009150        0.083316   0.180314   \n",
       "blueTotalGold                           0.060054        0.312058   0.888751   \n",
       "blueAvgLevel                            0.060294        0.177617   0.434867   \n",
       "blueTotalExperience                     0.067462        0.190365   0.472155   \n",
       "blueTotalMinionsKilled                  0.111028        0.125642  -0.030880   \n",
       "blueTotalJungleMinionsKilled           -0.023452        0.018190  -0.112506   \n",
       "blueGoldDiff                            0.078585        0.378511   0.654148   \n",
       "blueExperienceDiff                      0.077946        0.240665   0.583730   \n",
       "blueCSPerMin                            0.111028        0.125642  -0.030880   \n",
       "blueGoldPerMin                          0.060054        0.312058   0.888751   \n",
       "redWardsPlaced                          0.135966       -0.019142  -0.034239   \n",
       "redWardsDestroyed                       0.123919       -0.043304  -0.092278   \n",
       "redFirstBlood                          -0.017717       -1.000000  -0.269425   \n",
       "redKills                               -0.073182       -0.247929   0.004044   \n",
       "redDeaths                               0.033748        0.269425   1.000000   \n",
       "redAssists                             -0.046212       -0.201140  -0.020344   \n",
       "redEliteMonsters                       -0.034509       -0.141627  -0.224564   \n",
       "redDragons                             -0.034439       -0.135327  -0.207949   \n",
       "redHeralds                             -0.012712       -0.060246  -0.104423   \n",
       "redTowersDestroyed                     -0.023943       -0.069584  -0.082491   \n",
       "redTotalGold                           -0.067467       -0.301479  -0.161127   \n",
       "redAvgLevel                            -0.059090       -0.182602  -0.412219   \n",
       "redTotalExperience                     -0.057314       -0.194920  -0.462333   \n",
       "redTotalMinionsKilled                   0.040023       -0.156711  -0.472203   \n",
       "redTotalJungleMinionsKilled            -0.035732       -0.024559  -0.214454   \n",
       "redGoldDiff                            -0.078585       -0.378511  -0.654148   \n",
       "redExperienceDiff                      -0.077946       -0.240665  -0.583730   \n",
       "redCSPerMin                             0.040023       -0.156711  -0.472203   \n",
       "redGoldPerMin                          -0.067467       -0.301479  -0.161127   \n",
       "\n",
       "                              blueDeaths  blueAssists  blueEliteMonsters  \\\n",
       "gameId                         -0.013160    -0.023329           0.016599   \n",
       "blueWins                       -0.339297     0.276685           0.221944   \n",
       "blueWardsPlaced                -0.002612     0.033217           0.019892   \n",
       "blueWardsDestroyed             -0.073182     0.067793           0.041700   \n",
       "blueFirstBlood                 -0.247929     0.229485           0.151603   \n",
       "blueKills                       0.004044     0.813667           0.178540   \n",
       "blueDeaths                      1.000000    -0.026372          -0.204764   \n",
       "blueAssists                    -0.026372     1.000000           0.149043   \n",
       "blueEliteMonsters              -0.204764     0.149043           1.000000   \n",
       "blueDragons                    -0.188852     0.170873           0.781039   \n",
       "blueHeralds                    -0.095527     0.028434           0.640271   \n",
       "blueTowersDestroyed            -0.071441     0.123663           0.166644   \n",
       "blueTotalGold                  -0.162572     0.748352           0.239396   \n",
       "blueAvgLevel                   -0.414755     0.292661           0.203530   \n",
       "blueTotalExperience            -0.460122     0.303022           0.232774   \n",
       "blueTotalMinionsKilled         -0.468560    -0.062035           0.118762   \n",
       "blueTotalJungleMinionsKilled   -0.228102    -0.134023           0.198378   \n",
       "blueGoldDiff                   -0.640000     0.549761           0.281464   \n",
       "blueExperienceDiff             -0.577613     0.437002           0.263991   \n",
       "blueCSPerMin                   -0.468560    -0.062035           0.118762   \n",
       "blueGoldPerMin                 -0.162572     0.748352           0.239396   \n",
       "redWardsPlaced                  0.008102    -0.032474          -0.017292   \n",
       "redWardsDestroyed               0.038672    -0.064501          -0.005288   \n",
       "redFirstBlood                   0.247929    -0.229485          -0.151603   \n",
       "redKills                        1.000000    -0.026372          -0.204764   \n",
       "redDeaths                       0.004044     0.813667           0.178540   \n",
       "redAssists                      0.804023    -0.007481          -0.156764   \n",
       "redEliteMonsters                0.163340    -0.182985          -0.455139   \n",
       "redDragons                      0.150746    -0.189563          -0.471754   \n",
       "redHeralds                      0.076639    -0.058074          -0.144104   \n",
       "redTowersDestroyed              0.156780    -0.060880          -0.052029   \n",
       "redTotalGold                    0.885728    -0.133948          -0.216616   \n",
       "redAvgLevel                     0.433383    -0.356928          -0.169649   \n",
       "redTotalExperience              0.464584    -0.396652          -0.189816   \n",
       "redTotalMinionsKilled          -0.040521    -0.337515          -0.074838   \n",
       "redTotalJungleMinionsKilled    -0.100271    -0.160915          -0.087893   \n",
       "redGoldDiff                     0.640000    -0.549761          -0.281464   \n",
       "redExperienceDiff               0.577613    -0.437002          -0.263991   \n",
       "redCSPerMin                    -0.040521    -0.337515          -0.074838   \n",
       "redGoldPerMin                   0.885728    -0.133948          -0.216616   \n",
       "\n",
       "                              blueDragons  ...  redTowersDestroyed  \\\n",
       "gameId                           0.008962  ...            0.003557   \n",
       "blueWins                         0.213768  ...           -0.103696   \n",
       "blueWardsPlaced                  0.017676  ...           -0.008225   \n",
       "blueWardsDestroyed               0.040504  ...           -0.023943   \n",
       "blueFirstBlood                   0.134309  ...           -0.069584   \n",
       "blueKills                        0.170436  ...           -0.082491   \n",
       "blueDeaths                      -0.188852  ...            0.156780   \n",
       "blueAssists                      0.170873  ...           -0.060880   \n",
       "blueEliteMonsters                0.781039  ...           -0.052029   \n",
       "blueDragons                      1.000000  ...           -0.032865   \n",
       "blueHeralds                      0.020381  ...           -0.042872   \n",
       "blueTowersDestroyed              0.039750  ...            0.011738   \n",
       "blueTotalGold                    0.186413  ...           -0.119579   \n",
       "blueAvgLevel                     0.160683  ...           -0.183090   \n",
       "blueTotalExperience              0.179083  ...           -0.187414   \n",
       "blueTotalMinionsKilled           0.086686  ...           -0.145974   \n",
       "blueTotalJungleMinionsKilled     0.159595  ...           -0.048078   \n",
       "blueGoldDiff                     0.233875  ...           -0.273861   \n",
       "blueExperienceDiff               0.211496  ...           -0.197678   \n",
       "blueCSPerMin                     0.086686  ...           -0.145974   \n",
       "blueGoldPerMin                   0.186413  ...           -0.119579   \n",
       "redWardsPlaced                  -0.027102  ...           -0.006230   \n",
       "redWardsDestroyed               -0.023049  ...            0.003855   \n",
       "redFirstBlood                   -0.134309  ...            0.069584   \n",
       "redKills                        -0.188852  ...            0.156780   \n",
       "redDeaths                        0.170436  ...           -0.082491   \n",
       "redAssists                      -0.162406  ...            0.107425   \n",
       "redEliteMonsters                -0.506546  ...            0.158999   \n",
       "redDragons                      -0.631930  ...            0.026950   \n",
       "redHeralds                      -0.016827  ...            0.235475   \n",
       "redTowersDestroyed              -0.032865  ...            1.000000   \n",
       "redTotalGold                    -0.192871  ...            0.327503   \n",
       "redAvgLevel                     -0.149806  ...            0.113035   \n",
       "redTotalExperience              -0.159485  ...            0.129002   \n",
       "redTotalMinionsKilled           -0.059803  ...            0.092564   \n",
       "redTotalJungleMinionsKilled     -0.098446  ...            0.006374   \n",
       "redGoldDiff                     -0.233875  ...            0.273861   \n",
       "redExperienceDiff               -0.211496  ...            0.197678   \n",
       "redCSPerMin                     -0.059803  ...            0.092564   \n",
       "redGoldPerMin                   -0.192871  ...            0.327503   \n",
       "\n",
       "                              redTotalGold  redAvgLevel  redTotalExperience  \\\n",
       "gameId                           -0.010622    -0.012419           -0.021187   \n",
       "blueWins                         -0.411396    -0.352127           -0.387588   \n",
       "blueWardsPlaced                  -0.005685    -0.008882           -0.013000   \n",
       "blueWardsDestroyed               -0.067467    -0.059090           -0.057314   \n",
       "blueFirstBlood                   -0.301479    -0.182602           -0.194920   \n",
       "blueKills                        -0.161127    -0.412219           -0.462333   \n",
       "blueDeaths                        0.885728     0.433383            0.464584   \n",
       "blueAssists                      -0.133948    -0.356928           -0.396652   \n",
       "blueEliteMonsters                -0.216616    -0.169649           -0.189816   \n",
       "blueDragons                      -0.192871    -0.149806           -0.159485   \n",
       "blueHeralds                      -0.109557    -0.087337           -0.107718   \n",
       "blueTowersDestroyed              -0.122465    -0.204429           -0.210167   \n",
       "blueTotalGold                    -0.314212    -0.447049           -0.491268   \n",
       "blueAvgLevel                     -0.440031    -0.228466           -0.248941   \n",
       "blueTotalExperience              -0.485059    -0.254508           -0.281446   \n",
       "blueTotalMinionsKilled           -0.447904    -0.142399           -0.144832   \n",
       "blueTotalJungleMinionsKilled     -0.182167    -0.013881           -0.011657   \n",
       "blueGoldDiff                     -0.804347    -0.652929           -0.714405   \n",
       "blueExperienceDiff               -0.721190    -0.721925           -0.800089   \n",
       "blueCSPerMin                     -0.447904    -0.142399           -0.144832   \n",
       "blueGoldPerMin                   -0.314212    -0.447049           -0.491268   \n",
       "redWardsPlaced                    0.010666     0.041737            0.036506   \n",
       "redWardsDestroyed                 0.070784     0.075537            0.079975   \n",
       "redFirstBlood                     0.301479     0.182602            0.194920   \n",
       "redKills                          0.885728     0.433383            0.464584   \n",
       "redDeaths                        -0.161127    -0.412219           -0.462333   \n",
       "redAssists                        0.736215     0.277040            0.279788   \n",
       "redEliteMonsters                  0.228861     0.222537            0.244205   \n",
       "redDragons                        0.178168     0.191497            0.204941   \n",
       "redHeralds                        0.151762     0.123056            0.142024   \n",
       "redTowersDestroyed                0.327503     0.113035            0.129002   \n",
       "redTotalGold                      1.000000     0.614025            0.669646   \n",
       "redAvgLevel                       0.614025     1.000000            0.901748   \n",
       "redTotalExperience                0.669646     0.901748            1.000000   \n",
       "redTotalMinionsKilled             0.278715     0.489672            0.558985   \n",
       "redTotalJungleMinionsKilled       0.102632     0.382009            0.427214   \n",
       "redGoldDiff                       0.804347     0.652929            0.714405   \n",
       "redExperienceDiff                 0.721190     0.721925            0.800089   \n",
       "redCSPerMin                       0.278715     0.489672            0.558985   \n",
       "redGoldPerMin                     1.000000     0.614025            0.669646   \n",
       "\n",
       "                              redTotalMinionsKilled  \\\n",
       "gameId                                    -0.005118   \n",
       "blueWins                                  -0.212171   \n",
       "blueWardsPlaced                           -0.012395   \n",
       "blueWardsDestroyed                         0.040023   \n",
       "blueFirstBlood                            -0.156711   \n",
       "blueKills                                 -0.472203   \n",
       "blueDeaths                                -0.040521   \n",
       "blueAssists                               -0.337515   \n",
       "blueEliteMonsters                         -0.074838   \n",
       "blueDragons                               -0.059803   \n",
       "blueHeralds                               -0.046253   \n",
       "blueTowersDestroyed                       -0.186879   \n",
       "blueTotalGold                             -0.452593   \n",
       "blueAvgLevel                              -0.123316   \n",
       "blueTotalExperience                       -0.141276   \n",
       "blueTotalMinionsKilled                     0.000484   \n",
       "blueTotalJungleMinionsKilled               0.109806   \n",
       "blueGoldDiff                              -0.452633   \n",
       "blueExperienceDiff                        -0.437205   \n",
       "blueCSPerMin                               0.000484   \n",
       "blueGoldPerMin                            -0.452593   \n",
       "redWardsPlaced                            -0.021842   \n",
       "redWardsDestroyed                          0.128062   \n",
       "redFirstBlood                              0.156711   \n",
       "redKills                                  -0.040521   \n",
       "redDeaths                                 -0.472203   \n",
       "redAssists                                -0.078234   \n",
       "redEliteMonsters                           0.129705   \n",
       "redDragons                                 0.103151   \n",
       "redHeralds                                 0.083087   \n",
       "redTowersDestroyed                         0.092564   \n",
       "redTotalGold                               0.278715   \n",
       "redAvgLevel                                0.489672   \n",
       "redTotalExperience                         0.558985   \n",
       "redTotalMinionsKilled                      1.000000   \n",
       "redTotalJungleMinionsKilled                0.165652   \n",
       "redGoldDiff                                0.452633   \n",
       "redExperienceDiff                          0.437205   \n",
       "redCSPerMin                                1.000000   \n",
       "redGoldPerMin                              0.278715   \n",
       "\n",
       "                              redTotalJungleMinionsKilled  redGoldDiff  \\\n",
       "gameId                                           0.006040     0.014670   \n",
       "blueWins                                        -0.110994    -0.511119   \n",
       "blueWardsPlaced                                  0.001224    -0.015800   \n",
       "blueWardsDestroyed                              -0.035732    -0.078585   \n",
       "blueFirstBlood                                  -0.024559    -0.378511   \n",
       "blueKills                                       -0.214454    -0.654148   \n",
       "blueDeaths                                      -0.100271     0.640000   \n",
       "blueAssists                                     -0.160915    -0.549761   \n",
       "blueEliteMonsters                               -0.087893    -0.281464   \n",
       "blueDragons                                     -0.098446    -0.233875   \n",
       "blueHeralds                                     -0.019622    -0.162943   \n",
       "blueTowersDestroyed                             -0.038505    -0.294060   \n",
       "blueTotalGold                                   -0.175275    -0.816803   \n",
       "blueAvgLevel                                    -0.013128    -0.653538   \n",
       "blueTotalExperience                             -0.010528    -0.717968   \n",
       "blueTotalMinionsKilled                           0.092225    -0.450497   \n",
       "blueTotalJungleMinionsKilled                    -0.026363    -0.167510   \n",
       "blueGoldDiff                                    -0.172066    -1.000000   \n",
       "blueExperienceDiff                              -0.273224    -0.894729   \n",
       "blueCSPerMin                                     0.092225    -0.450497   \n",
       "blueGoldPerMin                                  -0.175275    -0.816803   \n",
       "redWardsPlaced                                   0.004666     0.019042   \n",
       "redWardsDestroyed                               -0.009313     0.099725   \n",
       "redFirstBlood                                    0.024559     0.378511   \n",
       "redKills                                        -0.100271     0.640000   \n",
       "redDeaths                                       -0.214454    -0.654148   \n",
       "redAssists                                      -0.130417     0.528081   \n",
       "redEliteMonsters                                 0.216969     0.281296   \n",
       "redDragons                                       0.214187     0.234566   \n",
       "redHeralds                                       0.083068     0.165611   \n",
       "redTowersDestroyed                               0.006374     0.273861   \n",
       "redTotalGold                                     0.102632     0.804347   \n",
       "redAvgLevel                                      0.382009     0.652929   \n",
       "redTotalExperience                               0.427214     0.714405   \n",
       "redTotalMinionsKilled                            0.165652     0.452633   \n",
       "redTotalJungleMinionsKilled                      1.000000     0.172066   \n",
       "redGoldDiff                                      0.172066     1.000000   \n",
       "redExperienceDiff                                0.273224     0.894729   \n",
       "redCSPerMin                                      0.165652     0.452633   \n",
       "redGoldPerMin                                    0.102632     0.804347   \n",
       "\n",
       "                              redExperienceDiff  redCSPerMin  redGoldPerMin  \n",
       "gameId                                 0.012315    -0.005118      -0.010622  \n",
       "blueWins                              -0.489558    -0.212171      -0.411396  \n",
       "blueWardsPlaced                       -0.027943    -0.012395      -0.005685  \n",
       "blueWardsDestroyed                    -0.077946     0.040023      -0.067467  \n",
       "blueFirstBlood                        -0.240665    -0.156711      -0.301479  \n",
       "blueKills                             -0.583730    -0.472203      -0.161127  \n",
       "blueDeaths                             0.577613    -0.040521       0.885728  \n",
       "blueAssists                           -0.437002    -0.337515      -0.133948  \n",
       "blueEliteMonsters                     -0.263991    -0.074838      -0.216616  \n",
       "blueDragons                           -0.211496    -0.059803      -0.192871  \n",
       "blueHeralds                           -0.162496    -0.046253      -0.109557  \n",
       "blueTowersDestroyed                   -0.218320    -0.186879      -0.122465  \n",
       "blueTotalGold                         -0.729345    -0.452593      -0.314212  \n",
       "blueAvgLevel                          -0.718822    -0.123316      -0.440031  \n",
       "blueTotalExperience                   -0.800815    -0.141276      -0.485059  \n",
       "blueTotalMinionsKilled                -0.447264     0.000484      -0.447904  \n",
       "blueTotalJungleMinionsKilled          -0.265443     0.109806      -0.182167  \n",
       "blueGoldDiff                          -0.894729    -0.452633      -0.804347  \n",
       "blueExperienceDiff                    -1.000000    -0.437205      -0.721190  \n",
       "blueCSPerMin                          -0.447264     0.000484      -0.447904  \n",
       "blueGoldPerMin                        -0.729345    -0.452593      -0.314212  \n",
       "redWardsPlaced                         0.026556    -0.021842       0.010666  \n",
       "redWardsDestroyed                      0.085829     0.128062       0.070784  \n",
       "redFirstBlood                          0.240665     0.156711       0.301479  \n",
       "redKills                               0.577613    -0.040521       0.885728  \n",
       "redDeaths                             -0.583730    -0.472203      -0.161127  \n",
       "redAssists                             0.422972    -0.078234       0.736215  \n",
       "redEliteMonsters                       0.269283     0.129705       0.228861  \n",
       "redDragons                             0.218872     0.103151       0.178168  \n",
       "redHeralds                             0.166162     0.083087       0.151762  \n",
       "redTowersDestroyed                     0.197678     0.092564       0.327503  \n",
       "redTotalGold                           0.721190     0.278715       1.000000  \n",
       "redAvgLevel                            0.721925     0.489672       0.614025  \n",
       "redTotalExperience                     0.800089     0.558985       0.669646  \n",
       "redTotalMinionsKilled                  0.437205     1.000000       0.278715  \n",
       "redTotalJungleMinionsKilled            0.273224     0.165652       0.102632  \n",
       "redGoldDiff                            0.894729     0.452633       0.804347  \n",
       "redExperienceDiff                      1.000000     0.437205       0.721190  \n",
       "redCSPerMin                            0.437205     1.000000       0.278715  \n",
       "redGoldPerMin                          0.721190     0.278715       1.000000  \n",
       "\n",
       "[40 rows x 40 columns]"
      ]
     },
     "execution_count": 11,
     "metadata": {},
     "output_type": "execute_result"
    }
   ],
   "source": [
    "# DataFrame의 corr() 메소드와 Seaborn의 heatmap() 메소드를 이용하여 Pearson's correlation 시각화하기\n",
    "df.corr()"
   ]
  },
  {
   "cell_type": "markdown",
   "metadata": {
    "id": "KywGh9sjtYl9"
   },
   "source": [
    "### 문제 6. 각 컬럼과 승리 여부의 관계 시각화하기\n"
   ]
  },
  {
   "cell_type": "code",
   "execution_count": 47,
   "metadata": {
    "colab": {
     "base_uri": "https://localhost:8080/"
    },
    "executionInfo": {
     "elapsed": 1248,
     "status": "ok",
     "timestamp": 1610318813480,
     "user": {
      "displayName": "김패캠",
      "photoUrl": "",
      "userId": "06994282823286758918"
     },
     "user_tz": -540
    },
    "id": "p4V33UXLaeyo",
    "outputId": "4423ec8d-f84f-43a0-80c1-0b6a85cb6ace"
   },
   "outputs": [
    {
     "data": {
      "text/plain": [
       "Index(['gameId', 'blueWins', 'blueWardsPlaced', 'blueWardsDestroyed',\n",
       "       'blueFirstBlood', 'blueKills', 'blueDeaths', 'blueAssists',\n",
       "       'blueEliteMonsters', 'blueDragons', 'blueHeralds',\n",
       "       'blueTowersDestroyed', 'blueTotalGold', 'blueAvgLevel',\n",
       "       'blueTotalExperience', 'blueTotalMinionsKilled',\n",
       "       'blueTotalJungleMinionsKilled', 'blueGoldDiff', 'blueExperienceDiff',\n",
       "       'blueCSPerMin', 'blueGoldPerMin', 'redWardsPlaced', 'redWardsDestroyed',\n",
       "       'redFirstBlood', 'redKills', 'redDeaths', 'redAssists',\n",
       "       'redEliteMonsters', 'redDragons', 'redHeralds', 'redTowersDestroyed',\n",
       "       'redTotalGold', 'redAvgLevel', 'redTotalExperience',\n",
       "       'redTotalMinionsKilled', 'redTotalJungleMinionsKilled', 'redGoldDiff',\n",
       "       'redExperienceDiff', 'redCSPerMin', 'redGoldPerMin'],\n",
       "      dtype='object')"
      ]
     },
     "execution_count": 47,
     "metadata": {
      "tags": []
     },
     "output_type": "execute_result"
    }
   ],
   "source": [
    "df.columns"
   ]
  },
  {
   "cell_type": "code",
   "execution_count": 48,
   "metadata": {
    "colab": {
     "base_uri": "https://localhost:8080/",
     "height": 296
    },
    "executionInfo": {
     "elapsed": 1498,
     "status": "ok",
     "timestamp": 1610318813936,
     "user": {
      "displayName": "김패캠",
      "photoUrl": "",
      "userId": "06994282823286758918"
     },
     "user_tz": -540
    },
    "id": "TqXkwW8JDxhH",
    "outputId": "a6642ecd-b40a-4a3a-d24e-fa7411176090"
   },
   "outputs": [
    {
     "data": {
      "text/plain": [
       "<matplotlib.axes._subplots.AxesSubplot at 0x7f4aa9b0ea20>"
      ]
     },
     "execution_count": 48,
     "metadata": {
      "tags": []
     },
     "output_type": "execute_result"
    },
    {
     "data": {
      "image/png": "[encoded data removed]",
      "text/plain": [
       "<Figure size 432x288 with 1 Axes>"
      ]
     },
     "metadata": {
      "needs_background": "light",
      "tags": []
     },
     "output_type": "display_data"
    }
   ],
   "source": [
    "# Seaborn의 countplot() 및 histplot()을 사용하여 각 컬럼과 승/패의 관계를 시각화\n",
    "sns.histplot(x='blueGoldDiff', data=df, hue='blueWins', palette='RdBu', kde=True)"
   ]
  },
  {
   "cell_type": "code",
   "execution_count": 49,
   "metadata": {
    "colab": {
     "base_uri": "https://localhost:8080/",
     "height": 296
    },
    "executionInfo": {
     "elapsed": 1486,
     "status": "ok",
     "timestamp": 1610318814287,
     "user": {
      "displayName": "김패캠",
      "photoUrl": "",
      "userId": "06994282823286758918"
     },
     "user_tz": -540
    },
    "id": "nWHtybwPa_yd",
    "outputId": "c3b84d3a-28b0-4765-abd6-44b45a0a9eb0"
   },
   "outputs": [
    {
     "data": {
      "text/plain": [
       "<matplotlib.axes._subplots.AxesSubplot at 0x7f4aa9921c18>"
      ]
     },
     "execution_count": 49,
     "metadata": {
      "tags": []
     },
     "output_type": "execute_result"
    },
    {
     "data": {
      "image/png": "[encoded data removed]",
      "text/plain": [
       "<Figure size 432x288 with 1 Axes>"
      ]
     },
     "metadata": {
      "needs_background": "light",
      "tags": []
     },
     "output_type": "display_data"
    }
   ],
   "source": [
    "sns.histplot(x='blueKills', data=df, hue='blueWins', palette='RdBu', kde=True, bins=8)"
   ]
  },
  {
   "cell_type": "code",
   "execution_count": 50,
   "metadata": {
    "colab": {
     "base_uri": "https://localhost:8080/",
     "height": 458
    },
    "executionInfo": {
     "elapsed": 2875,
     "status": "ok",
     "timestamp": 1610318816044,
     "user": {
      "displayName": "김패캠",
      "photoUrl": "",
      "userId": "06994282823286758918"
     },
     "user_tz": -540
    },
    "id": "fWui-9F0bZ7i",
    "outputId": "1aee8434-b492-4ef1-96dd-8347f03cb043"
   },
   "outputs": [
    {
     "data": {
      "text/plain": [
       "<seaborn.axisgrid.JointGrid at 0x7f4aa98e0550>"
      ]
     },
     "execution_count": 50,
     "metadata": {
      "tags": []
     },
     "output_type": "execute_result"
    },
    {
     "data": {
      "image/png": "[encoded data removed]",
      "text/plain": [
       "<Figure size 432x432 with 3 Axes>"
      ]
     },
     "metadata": {
      "needs_background": "light",
      "tags": []
     },
     "output_type": "display_data"
    }
   ],
   "source": [
    "sns.jointplot(x='blueKills', y='blueGoldDiff', data=df, hue='blueWins')"
   ]
  },
  {
   "cell_type": "code",
   "execution_count": 51,
   "metadata": {
    "colab": {
     "base_uri": "https://localhost:8080/",
     "height": 458
    },
    "executionInfo": {
     "elapsed": 3851,
     "status": "ok",
     "timestamp": 1610318817455,
     "user": {
      "displayName": "김패캠",
      "photoUrl": "",
      "userId": "06994282823286758918"
     },
     "user_tz": -540
    },
    "id": "XpCyAEC_c3uT",
    "outputId": "387edcbf-d629-4b8d-c749-c21348b4c489"
   },
   "outputs": [
    {
     "data": {
      "text/plain": [
       "<seaborn.axisgrid.JointGrid at 0x7f4aa9b994e0>"
      ]
     },
     "execution_count": 51,
     "metadata": {
      "tags": []
     },
     "output_type": "execute_result"
    },
    {
     "data": {
      "image/png": "[encoded data removed]",
      "text/plain": [
       "<Figure size 432x432 with 3 Axes>"
      ]
     },
     "metadata": {
      "needs_background": "light",
      "tags": []
     },
     "output_type": "display_data"
    }
   ],
   "source": [
    "sns.jointplot(x='blueExperienceDiff', y='blueGoldDiff', data=df, hue='blueWins')"
   ]
  },
  {
   "cell_type": "code",
   "execution_count": 52,
   "metadata": {
    "colab": {
     "base_uri": "https://localhost:8080/",
     "height": 296
    },
    "executionInfo": {
     "elapsed": 3591,
     "status": "ok",
     "timestamp": 1610318817456,
     "user": {
      "displayName": "김패캠",
      "photoUrl": "",
      "userId": "06994282823286758918"
     },
     "user_tz": -540
    },
    "id": "yKNUG13QbsCB",
    "outputId": "a33d75f6-6043-4258-d4c8-f64e99c7c610"
   },
   "outputs": [
    {
     "data": {
      "text/plain": [
       "<matplotlib.axes._subplots.AxesSubplot at 0x7f4aa96702e8>"
      ]
     },
     "execution_count": 52,
     "metadata": {
      "tags": []
     },
     "output_type": "execute_result"
    },
    {
     "data": {
      "image/png": "[encoded data removed]",
      "text/plain": [
       "<Figure size 432x288 with 1 Axes>"
      ]
     },
     "metadata": {
      "needs_background": "light",
      "tags": []
     },
     "output_type": "display_data"
    }
   ],
   "source": [
    "sns.countplot(x='blueDragons', data=df, hue='blueWins', palette='RdBu')"
   ]
  },
  {
   "cell_type": "code",
   "execution_count": 53,
   "metadata": {
    "colab": {
     "base_uri": "https://localhost:8080/",
     "height": 296
    },
    "executionInfo": {
     "elapsed": 3334,
     "status": "ok",
     "timestamp": 1610318817457,
     "user": {
      "displayName": "김패캠",
      "photoUrl": "",
      "userId": "06994282823286758918"
     },
     "user_tz": -540
    },
    "id": "EpR7_WoKcKqO",
    "outputId": "7c306199-e103-4096-92ea-2a5bdb3108df"
   },
   "outputs": [
    {
     "data": {
      "text/plain": [
       "<matplotlib.axes._subplots.AxesSubplot at 0x7f4aa9692780>"
      ]
     },
     "execution_count": 53,
     "metadata": {
      "tags": []
     },
     "output_type": "execute_result"
    },
    {
     "data": {
      "image/png": "[encoded data removed]",
      "text/plain": [
       "<Figure size 432x288 with 1 Axes>"
      ]
     },
     "metadata": {
      "needs_background": "light",
      "tags": []
     },
     "output_type": "display_data"
    }
   ],
   "source": [
    "sns.countplot(x='redDragons', data=df, hue='blueWins', palette='RdBu')"
   ]
  },
  {
   "cell_type": "code",
   "execution_count": 54,
   "metadata": {
    "colab": {
     "base_uri": "https://localhost:8080/",
     "height": 296
    },
    "executionInfo": {
     "elapsed": 3358,
     "status": "ok",
     "timestamp": 1610318817772,
     "user": {
      "displayName": "김패캠",
      "photoUrl": "",
      "userId": "06994282823286758918"
     },
     "user_tz": -540
    },
    "id": "eAZY_sAscc39",
    "outputId": "3166301d-2795-4978-e260-29c91e951edb"
   },
   "outputs": [
    {
     "data": {
      "text/plain": [
       "<matplotlib.axes._subplots.AxesSubplot at 0x7f4aa95b72e8>"
      ]
     },
     "execution_count": 54,
     "metadata": {
      "tags": []
     },
     "output_type": "execute_result"
    },
    {
     "data": {
      "image/png": "[encoded data removed]",
      "text/plain": [
       "<Figure size 432x288 with 1 Axes>"
      ]
     },
     "metadata": {
      "needs_background": "light",
      "tags": []
     },
     "output_type": "display_data"
    }
   ],
   "source": [
    "sns.countplot(x='blueFirstBlood', data=df, hue='blueWins', palette='RdBu')"
   ]
  },
  {
   "cell_type": "markdown",
   "metadata": {
    "id": "GD18QuastZy8"
   },
   "source": [
    "## Step 3. 모델 학습을 위한 데이터 전처리\n"
   ]
  },
  {
   "cell_type": "markdown",
   "metadata": {
    "id": "Dev2yLeMta85"
   },
   "source": [
    "### 문제 7. StandardScaler를 이용해 수치형 데이터 표준화하기\n"
   ]
  },
  {
   "cell_type": "code",
   "execution_count": 15,
   "metadata": {
    "ExecuteTime": {
     "end_time": "2021-09-15T08:09:16.347147Z",
     "start_time": "2021-09-15T08:09:15.345347Z"
    },
    "executionInfo": {
     "elapsed": 1836,
     "status": "ok",
     "timestamp": 1610318817773,
     "user": {
      "displayName": "김패캠",
      "photoUrl": "",
      "userId": "06994282823286758918"
     },
     "user_tz": -540
    },
    "id": "_k_SDCh5xMgD"
   },
   "outputs": [],
   "source": [
    "from sklearn.preprocessing import StandardScaler"
   ]
  },
  {
   "cell_type": "code",
   "execution_count": 16,
   "metadata": {
    "ExecuteTime": {
     "end_time": "2021-09-15T08:09:16.393319Z",
     "start_time": "2021-09-15T08:09:16.380388Z"
    },
    "colab": {
     "base_uri": "https://localhost:8080/"
    },
    "executionInfo": {
     "elapsed": 749,
     "status": "ok",
     "timestamp": 1610318819451,
     "user": {
      "displayName": "김패캠",
      "photoUrl": "",
      "userId": "06994282823286758918"
     },
     "user_tz": -540
    },
    "id": "iInmgybPdm6I",
    "outputId": "6a999675-d5cd-499d-d645-acd910ca185a"
   },
   "outputs": [
    {
     "data": {
      "text/plain": [
       "Index(['gameId', 'blueWins', 'blueWardsPlaced', 'blueWardsDestroyed',\n",
       "       'blueFirstBlood', 'blueKills', 'blueDeaths', 'blueAssists',\n",
       "       'blueEliteMonsters', 'blueDragons', 'blueHeralds',\n",
       "       'blueTowersDestroyed', 'blueTotalGold', 'blueAvgLevel',\n",
       "       'blueTotalExperience', 'blueTotalMinionsKilled',\n",
       "       'blueTotalJungleMinionsKilled', 'blueGoldDiff', 'blueExperienceDiff',\n",
       "       'blueCSPerMin', 'blueGoldPerMin', 'redWardsPlaced', 'redWardsDestroyed',\n",
       "       'redFirstBlood', 'redKills', 'redDeaths', 'redAssists',\n",
       "       'redEliteMonsters', 'redDragons', 'redHeralds', 'redTowersDestroyed',\n",
       "       'redTotalGold', 'redAvgLevel', 'redTotalExperience',\n",
       "       'redTotalMinionsKilled', 'redTotalJungleMinionsKilled', 'redGoldDiff',\n",
       "       'redExperienceDiff', 'redCSPerMin', 'redGoldPerMin'],\n",
       "      dtype='object')"
      ]
     },
     "execution_count": 16,
     "metadata": {},
     "output_type": "execute_result"
    }
   ],
   "source": [
    "df.columns"
   ]
  },
  {
   "cell_type": "code",
   "execution_count": 17,
   "metadata": {
    "ExecuteTime": {
     "end_time": "2021-09-15T08:09:16.424586Z",
     "start_time": "2021-09-15T08:09:16.410271Z"
    },
    "executionInfo": {
     "elapsed": 696,
     "status": "ok",
     "timestamp": 1610318830711,
     "user": {
      "displayName": "김패캠",
      "photoUrl": "",
      "userId": "06994282823286758918"
     },
     "user_tz": -540
    },
    "id": "Eq4FAkV3dpr3"
   },
   "outputs": [],
   "source": [
    "df.drop(['gameId', 'redFirstBlood', 'redKills', 'redDeaths',\n",
    "       'redTotalGold', 'redTotalExperience', 'redGoldDiff',\n",
    "       'redExperienceDiff'], axis=1, inplace=True)"
   ]
  },
  {
   "cell_type": "code",
   "execution_count": 18,
   "metadata": {
    "ExecuteTime": {
     "end_time": "2021-09-15T08:09:16.999809Z",
     "start_time": "2021-09-15T08:09:16.984716Z"
    },
    "colab": {
     "base_uri": "https://localhost:8080/"
    },
    "executionInfo": {
     "elapsed": 764,
     "status": "ok",
     "timestamp": 1610318831002,
     "user": {
      "displayName": "김패캠",
      "photoUrl": "",
      "userId": "06994282823286758918"
     },
     "user_tz": -540
    },
    "id": "dHBmZ3rVehGD",
    "outputId": "a6b595e7-2cf1-44c0-ca03-6672c5f94ec6"
   },
   "outputs": [
    {
     "data": {
      "text/plain": [
       "Index(['blueWins', 'blueWardsPlaced', 'blueWardsDestroyed', 'blueFirstBlood',\n",
       "       'blueKills', 'blueDeaths', 'blueAssists', 'blueEliteMonsters',\n",
       "       'blueDragons', 'blueHeralds', 'blueTowersDestroyed', 'blueTotalGold',\n",
       "       'blueAvgLevel', 'blueTotalExperience', 'blueTotalMinionsKilled',\n",
       "       'blueTotalJungleMinionsKilled', 'blueGoldDiff', 'blueExperienceDiff',\n",
       "       'blueCSPerMin', 'blueGoldPerMin', 'redWardsPlaced', 'redWardsDestroyed',\n",
       "       'redAssists', 'redEliteMonsters', 'redDragons', 'redHeralds',\n",
       "       'redTowersDestroyed', 'redAvgLevel', 'redTotalMinionsKilled',\n",
       "       'redTotalJungleMinionsKilled', 'redCSPerMin', 'redGoldPerMin'],\n",
       "      dtype='object')"
      ]
     },
     "execution_count": 18,
     "metadata": {},
     "output_type": "execute_result"
    }
   ],
   "source": [
    "df.columns"
   ]
  },
  {
   "cell_type": "code",
   "execution_count": 19,
   "metadata": {
    "ExecuteTime": {
     "end_time": "2021-09-15T08:09:17.204376Z",
     "start_time": "2021-09-15T08:09:17.169403Z"
    },
    "executionInfo": {
     "elapsed": 712,
     "status": "ok",
     "timestamp": 1610319049982,
     "user": {
      "displayName": "김패캠",
      "photoUrl": "",
      "userId": "06994282823286758918"
     },
     "user_tz": -540
    },
    "id": "W3EO22NCE3wG"
   },
   "outputs": [],
   "source": [
    "# StandardScaler를 이용해 수치형 데이터를 표준화하기\n",
    "# Hint) Multicollinearity를 피하기 위해 불필요한 컬럼은 drop한다.\n",
    "\n",
    "X_num = df[['blueWardsPlaced', 'blueWardsDestroyed', \n",
    "       'blueKills', 'blueDeaths', 'blueAssists', 'blueEliteMonsters',\n",
    "       'blueTowersDestroyed', 'blueTotalGold',\n",
    "       'blueAvgLevel', 'blueTotalExperience', 'blueTotalMinionsKilled',\n",
    "       'blueTotalJungleMinionsKilled', 'blueGoldDiff', 'blueExperienceDiff',\n",
    "       'blueCSPerMin', 'blueGoldPerMin', 'redWardsPlaced', 'redWardsDestroyed',\n",
    "       'redAssists', 'redEliteMonsters', 'redTowersDestroyed', 'redAvgLevel', 'redTotalMinionsKilled',\n",
    "       'redTotalJungleMinionsKilled', 'redCSPerMin', 'redGoldPerMin']]\n",
    "X_cat = df[['blueFirstBlood', 'blueDragons', 'blueHeralds', 'redDragons', 'redHeralds']]\n",
    "\n",
    "scaler = StandardScaler()\n",
    "scaler.fit(X_num)\n",
    "X_scaled = scaler.transform(X_num)\n",
    "X_scaled = pd.DataFrame(X_scaled, index=X_num.index, columns=X_num.columns)\n",
    "\n",
    "X = pd.concat([X_scaled, X_cat], axis=1)\n",
    "y = df['blueWins']"
   ]
  },
  {
   "cell_type": "code",
   "execution_count": 20,
   "metadata": {
    "ExecuteTime": {
     "end_time": "2021-09-15T08:09:17.388450Z",
     "start_time": "2021-09-15T08:09:17.348557Z"
    },
    "colab": {
     "base_uri": "https://localhost:8080/",
     "height": 439
    },
    "executionInfo": {
     "elapsed": 827,
     "status": "ok",
     "timestamp": 1610319051002,
     "user": {
      "displayName": "김패캠",
      "photoUrl": "",
      "userId": "06994282823286758918"
     },
     "user_tz": -540
    },
    "id": "CDw8DdLmfh0E",
    "outputId": "d7f2f623-b414-46f6-9c90-058c5d494cba"
   },
   "outputs": [
    {
     "data": {
      "text/html": [
       "<div>\n",
       "<style scoped>\n",
       "    .dataframe tbody tr th:only-of-type {\n",
       "        vertical-align: middle;\n",
       "    }\n",
       "\n",
       "    .dataframe tbody tr th {\n",
       "        vertical-align: top;\n",
       "    }\n",
       "\n",
       "    .dataframe thead th {\n",
       "        text-align: right;\n",
       "    }\n",
       "</style>\n",
       "<table border=\"1\" class=\"dataframe\">\n",
       "  <thead>\n",
       "    <tr style=\"text-align: right;\">\n",
       "      <th></th>\n",
       "      <th>blueWardsPlaced</th>\n",
       "      <th>blueWardsDestroyed</th>\n",
       "      <th>blueKills</th>\n",
       "      <th>blueDeaths</th>\n",
       "      <th>blueAssists</th>\n",
       "      <th>blueEliteMonsters</th>\n",
       "      <th>blueTowersDestroyed</th>\n",
       "      <th>blueTotalGold</th>\n",
       "      <th>blueAvgLevel</th>\n",
       "      <th>blueTotalExperience</th>\n",
       "      <th>...</th>\n",
       "      <th>redAvgLevel</th>\n",
       "      <th>redTotalMinionsKilled</th>\n",
       "      <th>redTotalJungleMinionsKilled</th>\n",
       "      <th>redCSPerMin</th>\n",
       "      <th>redGoldPerMin</th>\n",
       "      <th>blueFirstBlood</th>\n",
       "      <th>blueDragons</th>\n",
       "      <th>blueHeralds</th>\n",
       "      <th>redDragons</th>\n",
       "      <th>redHeralds</th>\n",
       "    </tr>\n",
       "  </thead>\n",
       "  <tbody>\n",
       "    <tr>\n",
       "      <th>0</th>\n",
       "      <td>0.316996</td>\n",
       "      <td>-0.379275</td>\n",
       "      <td>0.935301</td>\n",
       "      <td>-0.046926</td>\n",
       "      <td>1.071495</td>\n",
       "      <td>-0.879231</td>\n",
       "      <td>-0.210439</td>\n",
       "      <td>0.460179</td>\n",
       "      <td>-1.035635</td>\n",
       "      <td>-0.740639</td>\n",
       "      <td>...</td>\n",
       "      <td>-0.410475</td>\n",
       "      <td>-0.928741</td>\n",
       "      <td>0.367685</td>\n",
       "      <td>-0.928741</td>\n",
       "      <td>0.052293</td>\n",
       "      <td>1</td>\n",
       "      <td>0</td>\n",
       "      <td>0</td>\n",
       "      <td>0</td>\n",
       "      <td>0</td>\n",
       "    </tr>\n",
       "    <tr>\n",
       "      <th>1</th>\n",
       "      <td>-0.570992</td>\n",
       "      <td>-0.839069</td>\n",
       "      <td>-0.393216</td>\n",
       "      <td>-0.387796</td>\n",
       "      <td>-0.404768</td>\n",
       "      <td>-0.879231</td>\n",
       "      <td>-0.210439</td>\n",
       "      <td>-1.166792</td>\n",
       "      <td>-1.035635</td>\n",
       "      <td>-1.385391</td>\n",
       "      <td>...</td>\n",
       "      <td>-0.410475</td>\n",
       "      <td>1.033784</td>\n",
       "      <td>0.068504</td>\n",
       "      <td>1.033784</td>\n",
       "      <td>0.758619</td>\n",
       "      <td>0</td>\n",
       "      <td>0</td>\n",
       "      <td>0</td>\n",
       "      <td>1</td>\n",
       "      <td>1</td>\n",
       "    </tr>\n",
       "    <tr>\n",
       "      <th>2</th>\n",
       "      <td>-0.404494</td>\n",
       "      <td>-1.298863</td>\n",
       "      <td>0.271042</td>\n",
       "      <td>1.657424</td>\n",
       "      <td>-0.650812</td>\n",
       "      <td>0.719503</td>\n",
       "      <td>-0.210439</td>\n",
       "      <td>-0.254307</td>\n",
       "      <td>-1.691092</td>\n",
       "      <td>-1.422043</td>\n",
       "      <td>...</td>\n",
       "      <td>-0.410475</td>\n",
       "      <td>-0.654900</td>\n",
       "      <td>-2.324944</td>\n",
       "      <td>-0.654900</td>\n",
       "      <td>0.533909</td>\n",
       "      <td>0</td>\n",
       "      <td>1</td>\n",
       "      <td>0</td>\n",
       "      <td>0</td>\n",
       "      <td>0</td>\n",
       "    </tr>\n",
       "    <tr>\n",
       "      <th>3</th>\n",
       "      <td>1.149484</td>\n",
       "      <td>-0.839069</td>\n",
       "      <td>-0.725346</td>\n",
       "      <td>-0.387796</td>\n",
       "      <td>-0.404768</td>\n",
       "      <td>0.719503</td>\n",
       "      <td>-0.210439</td>\n",
       "      <td>-0.876959</td>\n",
       "      <td>0.275280</td>\n",
       "      <td>0.021567</td>\n",
       "      <td>...</td>\n",
       "      <td>0.244627</td>\n",
       "      <td>0.805583</td>\n",
       "      <td>-0.430131</td>\n",
       "      <td>0.805583</td>\n",
       "      <td>-0.007406</td>\n",
       "      <td>0</td>\n",
       "      <td>0</td>\n",
       "      <td>1</td>\n",
       "      <td>0</td>\n",
       "      <td>0</td>\n",
       "    </tr>\n",
       "    <tr>\n",
       "      <th>4</th>\n",
       "      <td>2.925460</td>\n",
       "      <td>0.540312</td>\n",
       "      <td>-0.061087</td>\n",
       "      <td>-0.046926</td>\n",
       "      <td>-0.158724</td>\n",
       "      <td>-0.879231</td>\n",
       "      <td>-0.210439</td>\n",
       "      <td>-0.067382</td>\n",
       "      <td>0.275280</td>\n",
       "      <td>0.512211</td>\n",
       "      <td>...</td>\n",
       "      <td>0.244627</td>\n",
       "      <td>0.349182</td>\n",
       "      <td>1.564408</td>\n",
       "      <td>0.349182</td>\n",
       "      <td>0.613731</td>\n",
       "      <td>0</td>\n",
       "      <td>0</td>\n",
       "      <td>0</td>\n",
       "      <td>1</td>\n",
       "      <td>0</td>\n",
       "    </tr>\n",
       "    <tr>\n",
       "      <th>...</th>\n",
       "      <td>...</td>\n",
       "      <td>...</td>\n",
       "      <td>...</td>\n",
       "      <td>...</td>\n",
       "      <td>...</td>\n",
       "      <td>...</td>\n",
       "      <td>...</td>\n",
       "      <td>...</td>\n",
       "      <td>...</td>\n",
       "      <td>...</td>\n",
       "      <td>...</td>\n",
       "      <td>...</td>\n",
       "      <td>...</td>\n",
       "      <td>...</td>\n",
       "      <td>...</td>\n",
       "      <td>...</td>\n",
       "      <td>...</td>\n",
       "      <td>...</td>\n",
       "      <td>...</td>\n",
       "      <td>...</td>\n",
       "      <td>...</td>\n",
       "    </tr>\n",
       "    <tr>\n",
       "      <th>9874</th>\n",
       "      <td>-0.293496</td>\n",
       "      <td>-0.379275</td>\n",
       "      <td>0.271042</td>\n",
       "      <td>-0.728666</td>\n",
       "      <td>-0.404768</td>\n",
       "      <td>0.719503</td>\n",
       "      <td>-0.210439</td>\n",
       "      <td>0.821656</td>\n",
       "      <td>0.930738</td>\n",
       "      <td>0.865408</td>\n",
       "      <td>...</td>\n",
       "      <td>-0.410475</td>\n",
       "      <td>0.531742</td>\n",
       "      <td>-1.726582</td>\n",
       "      <td>0.531742</td>\n",
       "      <td>-0.833801</td>\n",
       "      <td>1</td>\n",
       "      <td>1</td>\n",
       "      <td>0</td>\n",
       "      <td>0</td>\n",
       "      <td>0</td>\n",
       "    </tr>\n",
       "    <tr>\n",
       "      <th>9875</th>\n",
       "      <td>1.759976</td>\n",
       "      <td>-1.298863</td>\n",
       "      <td>-0.061087</td>\n",
       "      <td>-0.728666</td>\n",
       "      <td>0.333364</td>\n",
       "      <td>0.719503</td>\n",
       "      <td>-0.210439</td>\n",
       "      <td>-0.172894</td>\n",
       "      <td>0.930738</td>\n",
       "      <td>1.105315</td>\n",
       "      <td>...</td>\n",
       "      <td>0.244627</td>\n",
       "      <td>-0.517980</td>\n",
       "      <td>0.467412</td>\n",
       "      <td>-0.517980</td>\n",
       "      <td>-0.692938</td>\n",
       "      <td>0</td>\n",
       "      <td>1</td>\n",
       "      <td>0</td>\n",
       "      <td>0</td>\n",
       "      <td>0</td>\n",
       "    </tr>\n",
       "    <tr>\n",
       "      <th>9876</th>\n",
       "      <td>0.039499</td>\n",
       "      <td>-0.839069</td>\n",
       "      <td>-0.061087</td>\n",
       "      <td>0.293944</td>\n",
       "      <td>-0.404768</td>\n",
       "      <td>-0.879231</td>\n",
       "      <td>-0.210439</td>\n",
       "      <td>-0.391082</td>\n",
       "      <td>0.275280</td>\n",
       "      <td>0.086541</td>\n",
       "      <td>...</td>\n",
       "      <td>1.554831</td>\n",
       "      <td>1.992226</td>\n",
       "      <td>0.866319</td>\n",
       "      <td>1.992226</td>\n",
       "      <td>1.227490</td>\n",
       "      <td>0</td>\n",
       "      <td>0</td>\n",
       "      <td>0</td>\n",
       "      <td>1</td>\n",
       "      <td>0</td>\n",
       "    </tr>\n",
       "    <tr>\n",
       "      <th>9877</th>\n",
       "      <td>-0.459994</td>\n",
       "      <td>0.540312</td>\n",
       "      <td>-1.389604</td>\n",
       "      <td>-1.069536</td>\n",
       "      <td>-0.896856</td>\n",
       "      <td>0.719503</td>\n",
       "      <td>-0.210439</td>\n",
       "      <td>-1.331573</td>\n",
       "      <td>-1.035635</td>\n",
       "      <td>-0.582367</td>\n",
       "      <td>...</td>\n",
       "      <td>0.899729</td>\n",
       "      <td>1.353264</td>\n",
       "      <td>-1.128220</td>\n",
       "      <td>1.353264</td>\n",
       "      <td>-0.798921</td>\n",
       "      <td>1</td>\n",
       "      <td>1</td>\n",
       "      <td>0</td>\n",
       "      <td>0</td>\n",
       "      <td>0</td>\n",
       "    </tr>\n",
       "    <tr>\n",
       "      <th>9878</th>\n",
       "      <td>-0.237997</td>\n",
       "      <td>-1.298863</td>\n",
       "      <td>-0.061087</td>\n",
       "      <td>-0.046926</td>\n",
       "      <td>-0.404768</td>\n",
       "      <td>-0.879231</td>\n",
       "      <td>-0.210439</td>\n",
       "      <td>-0.154657</td>\n",
       "      <td>0.275280</td>\n",
       "      <td>-0.505730</td>\n",
       "      <td>...</td>\n",
       "      <td>-0.410475</td>\n",
       "      <td>-0.746180</td>\n",
       "      <td>-0.529858</td>\n",
       "      <td>-0.746180</td>\n",
       "      <td>-0.771419</td>\n",
       "      <td>1</td>\n",
       "      <td>0</td>\n",
       "      <td>0</td>\n",
       "      <td>1</td>\n",
       "      <td>0</td>\n",
       "    </tr>\n",
       "  </tbody>\n",
       "</table>\n",
       "<p>9879 rows × 31 columns</p>\n",
       "</div>"
      ],
      "text/plain": [
       "      blueWardsPlaced  blueWardsDestroyed  blueKills  blueDeaths  blueAssists  \\\n",
       "0            0.316996           -0.379275   0.935301   -0.046926     1.071495   \n",
       "1           -0.570992           -0.839069  -0.393216   -0.387796    -0.404768   \n",
       "2           -0.404494           -1.298863   0.271042    1.657424    -0.650812   \n",
       "3            1.149484           -0.839069  -0.725346   -0.387796    -0.404768   \n",
       "4            2.925460            0.540312  -0.061087   -0.046926    -0.158724   \n",
       "...               ...                 ...        ...         ...          ...   \n",
       "9874        -0.293496           -0.379275   0.271042   -0.728666    -0.404768   \n",
       "9875         1.759976           -1.298863  -0.061087   -0.728666     0.333364   \n",
       "9876         0.039499           -0.839069  -0.061087    0.293944    -0.404768   \n",
       "9877        -0.459994            0.540312  -1.389604   -1.069536    -0.896856   \n",
       "9878        -0.237997           -1.298863  -0.061087   -0.046926    -0.404768   \n",
       "\n",
       "      blueEliteMonsters  blueTowersDestroyed  blueTotalGold  blueAvgLevel  \\\n",
       "0             -0.879231            -0.210439       0.460179     -1.035635   \n",
       "1             -0.879231            -0.210439      -1.166792     -1.035635   \n",
       "2              0.719503            -0.210439      -0.254307     -1.691092   \n",
       "3              0.719503            -0.210439      -0.876959      0.275280   \n",
       "4             -0.879231            -0.210439      -0.067382      0.275280   \n",
       "...                 ...                  ...            ...           ...   \n",
       "9874           0.719503            -0.210439       0.821656      0.930738   \n",
       "9875           0.719503            -0.210439      -0.172894      0.930738   \n",
       "9876          -0.879231            -0.210439      -0.391082      0.275280   \n",
       "9877           0.719503            -0.210439      -1.331573     -1.035635   \n",
       "9878          -0.879231            -0.210439      -0.154657      0.275280   \n",
       "\n",
       "      blueTotalExperience  ...  redAvgLevel  redTotalMinionsKilled  \\\n",
       "0               -0.740639  ...    -0.410475              -0.928741   \n",
       "1               -1.385391  ...    -0.410475               1.033784   \n",
       "2               -1.422043  ...    -0.410475              -0.654900   \n",
       "3                0.021567  ...     0.244627               0.805583   \n",
       "4                0.512211  ...     0.244627               0.349182   \n",
       "...                   ...  ...          ...                    ...   \n",
       "9874             0.865408  ...    -0.410475               0.531742   \n",
       "9875             1.105315  ...     0.244627              -0.517980   \n",
       "9876             0.086541  ...     1.554831               1.992226   \n",
       "9877            -0.582367  ...     0.899729               1.353264   \n",
       "9878            -0.505730  ...    -0.410475              -0.746180   \n",
       "\n",
       "      redTotalJungleMinionsKilled  redCSPerMin  redGoldPerMin  blueFirstBlood  \\\n",
       "0                        0.367685    -0.928741       0.052293               1   \n",
       "1                        0.068504     1.033784       0.758619               0   \n",
       "2                       -2.324944    -0.654900       0.533909               0   \n",
       "3                       -0.430131     0.805583      -0.007406               0   \n",
       "4                        1.564408     0.349182       0.613731               0   \n",
       "...                           ...          ...            ...             ...   \n",
       "9874                    -1.726582     0.531742      -0.833801               1   \n",
       "9875                     0.467412    -0.517980      -0.692938               0   \n",
       "9876                     0.866319     1.992226       1.227490               0   \n",
       "9877                    -1.128220     1.353264      -0.798921               1   \n",
       "9878                    -0.529858    -0.746180      -0.771419               1   \n",
       "\n",
       "      blueDragons  blueHeralds  redDragons  redHeralds  \n",
       "0               0            0           0           0  \n",
       "1               0            0           1           1  \n",
       "2               1            0           0           0  \n",
       "3               0            1           0           0  \n",
       "4               0            0           1           0  \n",
       "...           ...          ...         ...         ...  \n",
       "9874            1            0           0           0  \n",
       "9875            1            0           0           0  \n",
       "9876            0            0           1           0  \n",
       "9877            1            0           0           0  \n",
       "9878            0            0           1           0  \n",
       "\n",
       "[9879 rows x 31 columns]"
      ]
     },
     "execution_count": 20,
     "metadata": {},
     "output_type": "execute_result"
    }
   ],
   "source": [
    "X"
   ]
  },
  {
   "cell_type": "markdown",
   "metadata": {
    "id": "x93Tb6lptcA2"
   },
   "source": [
    "### 문제 8. 학습데이터와 테스트데이터 분리하기\n"
   ]
  },
  {
   "cell_type": "code",
   "execution_count": 21,
   "metadata": {
    "ExecuteTime": {
     "end_time": "2021-09-15T08:09:17.806808Z",
     "start_time": "2021-09-15T08:09:17.687290Z"
    },
    "executionInfo": {
     "elapsed": 749,
     "status": "ok",
     "timestamp": 1610319072102,
     "user": {
      "displayName": "김패캠",
      "photoUrl": "",
      "userId": "06994282823286758918"
     },
     "user_tz": -540
    },
    "id": "C9kMQI8SEche"
   },
   "outputs": [],
   "source": [
    "from sklearn.model_selection import train_test_split"
   ]
  },
  {
   "cell_type": "code",
   "execution_count": 22,
   "metadata": {
    "ExecuteTime": {
     "end_time": "2021-09-15T08:09:17.882608Z",
     "start_time": "2021-09-15T08:09:17.868646Z"
    },
    "executionInfo": {
     "elapsed": 673,
     "status": "ok",
     "timestamp": 1610319098909,
     "user": {
      "displayName": "김패캠",
      "photoUrl": "",
      "userId": "06994282823286758918"
     },
     "user_tz": -540
    },
    "id": "F07QjOFwFNEw"
   },
   "outputs": [],
   "source": [
    "# train_test_split() 함수로 학습 데이터와 테스트 데이터 분리하기\n",
    "X_train, X_test, y_train, y_test = train_test_split(X, y, test_size=0.3, random_state=1)"
   ]
  },
  {
   "cell_type": "markdown",
   "metadata": {
    "id": "DTqb-HqPtc4I"
   },
   "source": [
    "## Step 4. Classification 모델 학습하기\n"
   ]
  },
  {
   "cell_type": "markdown",
   "metadata": {
    "id": "Ckexl202tmZI"
   },
   "source": [
    "### 문제 9. Logistic Regression 모델 생성/학습하기\n"
   ]
  },
  {
   "cell_type": "code",
   "execution_count": 23,
   "metadata": {
    "ExecuteTime": {
     "end_time": "2021-09-15T08:09:18.583122Z",
     "start_time": "2021-09-15T08:09:18.388386Z"
    },
    "executionInfo": {
     "elapsed": 753,
     "status": "ok",
     "timestamp": 1610319137020,
     "user": {
      "displayName": "김패캠",
      "photoUrl": "",
      "userId": "06994282823286758918"
     },
     "user_tz": -540
    },
    "id": "2Wt_0AdNFfbN"
   },
   "outputs": [],
   "source": [
    "from sklearn.linear_model import LogisticRegression"
   ]
  },
  {
   "cell_type": "code",
   "execution_count": 24,
   "metadata": {
    "ExecuteTime": {
     "end_time": "2021-09-15T08:09:18.723828Z",
     "start_time": "2021-09-15T08:09:18.662985Z"
    },
    "colab": {
     "base_uri": "https://localhost:8080/"
    },
    "executionInfo": {
     "elapsed": 713,
     "status": "ok",
     "timestamp": 1610319221147,
     "user": {
      "displayName": "김패캠",
      "photoUrl": "",
      "userId": "06994282823286758918"
     },
     "user_tz": -540
    },
    "id": "1lM57a_8Fdbh",
    "outputId": "767d9132-8594-496b-85db-7c436b257040"
   },
   "outputs": [
    {
     "data": {
      "text/plain": [
       "LogisticRegression()"
      ]
     },
     "execution_count": 24,
     "metadata": {},
     "output_type": "execute_result"
    }
   ],
   "source": [
    "# LogisticRegression 모델 생성/학습\n",
    "model_lr = LogisticRegression()\n",
    "model_lr.fit(X_train, y_train)"
   ]
  },
  {
   "cell_type": "markdown",
   "metadata": {
    "id": "APOI7Hc9tnvr"
   },
   "source": [
    "### 문제 10. 모델 학습 결과 평가하기\n"
   ]
  },
  {
   "cell_type": "code",
   "execution_count": 25,
   "metadata": {
    "ExecuteTime": {
     "end_time": "2021-09-15T08:09:18.921309Z",
     "start_time": "2021-09-15T08:09:18.907330Z"
    },
    "executionInfo": {
     "elapsed": 666,
     "status": "ok",
     "timestamp": 1610319232377,
     "user": {
      "displayName": "김패캠",
      "photoUrl": "",
      "userId": "06994282823286758918"
     },
     "user_tz": -540
    },
    "id": "2lIoyMjFFrif"
   },
   "outputs": [],
   "source": [
    "from sklearn.metrics import classification_report"
   ]
  },
  {
   "cell_type": "code",
   "execution_count": 26,
   "metadata": {
    "ExecuteTime": {
     "end_time": "2021-09-15T08:09:19.108655Z",
     "start_time": "2021-09-15T08:09:19.085687Z"
    },
    "colab": {
     "base_uri": "https://localhost:8080/"
    },
    "executionInfo": {
     "elapsed": 707,
     "status": "ok",
     "timestamp": 1610319257585,
     "user": {
      "displayName": "김패캠",
      "photoUrl": "",
      "userId": "06994282823286758918"
     },
     "user_tz": -540
    },
    "id": "1dD9JnN-FnpC",
    "outputId": "4503c92d-3edb-4d0c-d93a-708c4fd633ca"
   },
   "outputs": [
    {
     "name": "stdout",
     "output_type": "stream",
     "text": [
      "              precision    recall  f1-score   support\n",
      "\n",
      "           0       0.74      0.75      0.74      1469\n",
      "           1       0.75      0.74      0.74      1495\n",
      "\n",
      "    accuracy                           0.74      2964\n",
      "   macro avg       0.74      0.74      0.74      2964\n",
      "weighted avg       0.74      0.74      0.74      2964\n",
      "\n"
     ]
    }
   ],
   "source": [
    "# Predict를 수행하고 classification_report() 결과 출력하기\n",
    "pred = model_lr.predict(X_test)\n",
    "print(classification_report(y_test, pred))"
   ]
  },
  {
   "cell_type": "markdown",
   "metadata": {
    "id": "xTRTOLTNto3h"
   },
   "source": [
    "### 문제 11. XGBoost 모델 생성/학습하기\n"
   ]
  },
  {
   "cell_type": "code",
   "execution_count": 27,
   "metadata": {
    "ExecuteTime": {
     "end_time": "2021-09-15T08:09:20.327381Z",
     "start_time": "2021-09-15T08:09:19.612477Z"
    },
    "executionInfo": {
     "elapsed": 778,
     "status": "ok",
     "timestamp": 1610319297475,
     "user": {
      "displayName": "김패캠",
      "photoUrl": "",
      "userId": "06994282823286758918"
     },
     "user_tz": -540
    },
    "id": "ow28ZRL4F7D5"
   },
   "outputs": [
    {
     "ename": "ModuleNotFoundError",
     "evalue": "No module named 'xgboost'",
     "output_type": "error",
     "traceback": [
      "\u001b[1;31m---------------------------------------------------------------------------\u001b[0m",
      "\u001b[1;31mModuleNotFoundError\u001b[0m                       Traceback (most recent call last)",
      "\u001b[1;32m<ipython-input-27-477fa34615c5>\u001b[0m in \u001b[0;36m<module>\u001b[1;34m\u001b[0m\n\u001b[1;32m----> 1\u001b[1;33m \u001b[1;32mfrom\u001b[0m \u001b[0mxgboost\u001b[0m \u001b[1;32mimport\u001b[0m \u001b[0mXGBClassifier\u001b[0m\u001b[1;33m\u001b[0m\u001b[1;33m\u001b[0m\u001b[0m\n\u001b[0m",
      "\u001b[1;31mModuleNotFoundError\u001b[0m: No module named 'xgboost'"
     ]
    }
   ],
   "source": [
    "from xgboost import XGBClassifier"
   ]
  },
  {
   "cell_type": "code",
   "execution_count": 28,
   "metadata": {
    "ExecuteTime": {
     "end_time": "2021-09-15T08:09:28.228961Z",
     "start_time": "2021-09-15T08:09:28.212975Z"
    },
    "colab": {
     "base_uri": "https://localhost:8080/"
    },
    "executionInfo": {
     "elapsed": 1697,
     "status": "ok",
     "timestamp": 1610319314261,
     "user": {
      "displayName": "김패캠",
      "photoUrl": "",
      "userId": "06994282823286758918"
     },
     "user_tz": -540
    },
    "id": "LSSNqFUrGM6R",
    "outputId": "1fba8aef-481e-4388-94c5-c912c18f2275"
   },
   "outputs": [
    {
     "ename": "NameError",
     "evalue": "name 'XGBClassifier' is not defined",
     "output_type": "error",
     "traceback": [
      "\u001b[1;31m---------------------------------------------------------------------------\u001b[0m",
      "\u001b[1;31mNameError\u001b[0m                                 Traceback (most recent call last)",
      "\u001b[1;32m<ipython-input-28-172f7411a8b9>\u001b[0m in \u001b[0;36m<module>\u001b[1;34m\u001b[0m\n\u001b[0;32m      1\u001b[0m \u001b[1;31m# XGBClassifier 모델 생성/학습\u001b[0m\u001b[1;33m\u001b[0m\u001b[1;33m\u001b[0m\u001b[1;33m\u001b[0m\u001b[0m\n\u001b[1;32m----> 2\u001b[1;33m \u001b[0mmodel_xgb\u001b[0m \u001b[1;33m=\u001b[0m \u001b[0mXGBClassifier\u001b[0m\u001b[1;33m(\u001b[0m\u001b[1;33m)\u001b[0m\u001b[1;33m\u001b[0m\u001b[1;33m\u001b[0m\u001b[0m\n\u001b[0m\u001b[0;32m      3\u001b[0m \u001b[0mmodel_xgb\u001b[0m\u001b[1;33m.\u001b[0m\u001b[0mfit\u001b[0m\u001b[1;33m(\u001b[0m\u001b[0mX_train\u001b[0m\u001b[1;33m,\u001b[0m \u001b[0my_train\u001b[0m\u001b[1;33m)\u001b[0m\u001b[1;33m\u001b[0m\u001b[1;33m\u001b[0m\u001b[0m\n",
      "\u001b[1;31mNameError\u001b[0m: name 'XGBClassifier' is not defined"
     ]
    }
   ],
   "source": [
    "# XGBClassifier 모델 생성/학습\n",
    "model_xgb = XGBClassifier()\n",
    "model_xgb.fit(X_train, y_train)"
   ]
  },
  {
   "cell_type": "markdown",
   "metadata": {
    "id": "kAisZoSEtp35"
   },
   "source": [
    "### 문제 12. 모델 학습 결과 평가하기\n"
   ]
  },
  {
   "cell_type": "code",
   "execution_count": 29,
   "metadata": {
    "ExecuteTime": {
     "end_time": "2021-09-15T08:09:29.742777Z",
     "start_time": "2021-09-15T08:09:29.727649Z"
    },
    "colab": {
     "base_uri": "https://localhost:8080/"
    },
    "executionInfo": {
     "elapsed": 667,
     "status": "ok",
     "timestamp": 1610319334365,
     "user": {
      "displayName": "김패캠",
      "photoUrl": "",
      "userId": "06994282823286758918"
     },
     "user_tz": -540
    },
    "id": "WLnyYNJwGRgd",
    "outputId": "4ff42d39-bdf3-4117-8fcd-8921b33feb8c"
   },
   "outputs": [
    {
     "ename": "NameError",
     "evalue": "name 'model_xgb' is not defined",
     "output_type": "error",
     "traceback": [
      "\u001b[1;31m---------------------------------------------------------------------------\u001b[0m",
      "\u001b[1;31mNameError\u001b[0m                                 Traceback (most recent call last)",
      "\u001b[1;32m<ipython-input-29-44db0d427848>\u001b[0m in \u001b[0;36m<module>\u001b[1;34m\u001b[0m\n\u001b[0;32m      1\u001b[0m \u001b[1;31m# Predict를 수행하고 classification_report() 결과 출력하기\u001b[0m\u001b[1;33m\u001b[0m\u001b[1;33m\u001b[0m\u001b[1;33m\u001b[0m\u001b[0m\n\u001b[1;32m----> 2\u001b[1;33m \u001b[0mpred\u001b[0m \u001b[1;33m=\u001b[0m \u001b[0mmodel_xgb\u001b[0m\u001b[1;33m.\u001b[0m\u001b[0mpredict\u001b[0m\u001b[1;33m(\u001b[0m\u001b[0mX_test\u001b[0m\u001b[1;33m)\u001b[0m\u001b[1;33m\u001b[0m\u001b[1;33m\u001b[0m\u001b[0m\n\u001b[0m\u001b[0;32m      3\u001b[0m \u001b[0mprint\u001b[0m\u001b[1;33m(\u001b[0m\u001b[0mclassification_report\u001b[0m\u001b[1;33m(\u001b[0m\u001b[0my_test\u001b[0m\u001b[1;33m,\u001b[0m \u001b[0mpred\u001b[0m\u001b[1;33m)\u001b[0m\u001b[1;33m)\u001b[0m\u001b[1;33m\u001b[0m\u001b[1;33m\u001b[0m\u001b[0m\n",
      "\u001b[1;31mNameError\u001b[0m: name 'model_xgb' is not defined"
     ]
    }
   ],
   "source": [
    "# Predict를 수행하고 classification_report() 결과 출력하기\n",
    "pred = model_xgb.predict(X_test)\n",
    "print(classification_report(y_test, pred))"
   ]
  },
  {
   "cell_type": "markdown",
   "metadata": {
    "id": "7icVVlSwtr53"
   },
   "source": [
    "## Step5 모델 학습 결과 심화 분석하기\n"
   ]
  },
  {
   "cell_type": "markdown",
   "metadata": {
    "id": "LmaEIOOItvJa"
   },
   "source": [
    "### 문제 13. Logistic Regression 모델 계수로 상관성 파악하기"
   ]
  },
  {
   "cell_type": "code",
   "execution_count": 33,
   "metadata": {
    "ExecuteTime": {
     "end_time": "2021-09-15T08:10:38.773947Z",
     "start_time": "2021-09-15T08:10:38.758481Z"
    }
   },
   "outputs": [
    {
     "data": {
      "text/plain": [
       "array([-0.03722312, -0.02280321, -0.16394534,  0.00258791, -0.03347599,\n",
       "        0.11396334, -0.1138962 ,  0.30622615, -0.07285938,  0.03729869,\n",
       "       -0.0372248 ,  0.01932872,  0.44377859,  0.42423486, -0.0372248 ,\n",
       "        0.30622615, -0.02448855, -0.0133212 ,  0.07023347, -0.07907826,\n",
       "        0.05399199, -0.00977213,  0.03659856,  0.03652838,  0.03659856,\n",
       "       -0.4148868 ,  0.03551527,  0.17068559, -0.11330011, -0.13009491,\n",
       "        0.06607254])"
      ]
     },
     "execution_count": 33,
     "metadata": {},
     "output_type": "execute_result"
    }
   ],
   "source": [
    "model_lr.coef_[0]"
   ]
  },
  {
   "cell_type": "code",
   "execution_count": 34,
   "metadata": {
    "ExecuteTime": {
     "end_time": "2021-09-15T08:12:24.607907Z",
     "start_time": "2021-09-15T08:12:24.256264Z"
    },
    "colab": {
     "base_uri": "https://localhost:8080/",
     "height": 397
    },
    "executionInfo": {
     "elapsed": 1077,
     "status": "ok",
     "timestamp": 1610319900341,
     "user": {
      "displayName": "김패캠",
      "photoUrl": "",
      "userId": "06994282823286758918"
     },
     "user_tz": -540
    },
    "id": "BUIXk9RNGnRa",
    "outputId": "76718bea-5d19-4883-eb6f-a303af2e30e9"
   },
   "outputs": [
    {
     "name": "stdout",
     "output_type": "stream",
     "text": [
      "                              Model Coefficient\n",
      "blueWardsPlaced                       -0.037223\n",
      "blueWardsDestroyed                    -0.022803\n",
      "blueKills                             -0.163945\n",
      "blueDeaths                             0.002588\n",
      "blueAssists                           -0.033476\n",
      "blueEliteMonsters                      0.113963\n",
      "blueTowersDestroyed                   -0.113896\n",
      "blueTotalGold                          0.306226\n",
      "blueAvgLevel                          -0.072859\n",
      "blueTotalExperience                    0.037299\n",
      "blueTotalMinionsKilled                -0.037225\n",
      "blueTotalJungleMinionsKilled           0.019329\n",
      "blueGoldDiff                           0.443779\n",
      "blueExperienceDiff                     0.424235\n",
      "blueCSPerMin                          -0.037225\n",
      "blueGoldPerMin                         0.306226\n",
      "redWardsPlaced                        -0.024489\n",
      "redWardsDestroyed                     -0.013321\n",
      "redAssists                             0.070233\n",
      "redEliteMonsters                      -0.079078\n",
      "redTowersDestroyed                     0.053992\n",
      "redAvgLevel                           -0.009772\n",
      "redTotalMinionsKilled                  0.036599\n",
      "redTotalJungleMinionsKilled            0.036528\n",
      "redCSPerMin                            0.036599\n",
      "redGoldPerMin                         -0.414887\n",
      "blueFirstBlood                         0.035515\n",
      "blueDragons                            0.170686\n",
      "blueHeralds                           -0.113300\n",
      "redDragons                            -0.130095\n",
      "redHeralds                             0.066073\n"
     ]
    },
    {
     "data": {
      "image/png": "[encoded data removed]",
      "text/plain": [
       "<Figure size 432x288 with 1 Axes>"
      ]
     },
     "metadata": {
      "needs_background": "light"
     },
     "output_type": "display_data"
    }
   ],
   "source": [
    "# Logistic Regression 모델의 coef_ 속성을 plot하기\n",
    "model_coef = pd.DataFrame(data=model_lr.coef_[0], index=X.columns, columns=['Model Coefficient'])\n",
    "print(model_coef)\n",
    "model_coef.sort_values(by='Model Coefficient', ascending=False, inplace=True)\n",
    "plt.bar(model_coef.index, model_coef['Model Coefficient'])\n",
    "plt.xticks(rotation=90)\n",
    "plt.grid()\n",
    "plt.show()"
   ]
  },
  {
   "cell_type": "markdown",
   "metadata": {
    "id": "5yIbQKjktuwg"
   },
   "source": [
    "### 문제 14. XGBoost 모델로 특징의 중요도 확인하기"
   ]
  },
  {
   "cell_type": "code",
   "execution_count": 87,
   "metadata": {
    "colab": {
     "base_uri": "https://localhost:8080/",
     "height": 609
    },
    "executionInfo": {
     "elapsed": 2004,
     "status": "ok",
     "timestamp": 1610319969108,
     "user": {
      "displayName": "김패캠",
      "photoUrl": "",
      "userId": "06994282823286758918"
     },
     "user_tz": -540
    },
    "id": "3bY4SZZ4HBdN",
    "outputId": "726d1f54-ed28-48f0-808d-08144bb74944"
   },
   "outputs": [
    {
     "data": {
      "text/plain": [
       "<BarContainer object of 31 artists>"
      ]
     },
     "execution_count": 87,
     "metadata": {
      "tags": []
     },
     "output_type": "execute_result"
    },
    {
     "data": {
      "image/png": "[encoded data removed]",
      "text/plain": [
       "<Figure size 720x720 with 1 Axes>"
      ]
     },
     "metadata": {
      "needs_background": "light",
      "tags": []
     },
     "output_type": "display_data"
    }
   ],
   "source": [
    "# XGBoost 모델의 feature_importances_ 속성을 plot하기\n",
    "fig = plt.figure(figsize=(10, 10))\n",
    "plt.barh(X.columns, model_xgb.feature_importances_)"
   ]
  },
  {
   "cell_type": "code",
   "execution_count": null,
   "metadata": {
    "id": "28KyZ83ojHiR"
   },
   "outputs": [],
   "source": []
  }
 ],
 "metadata": {
  "colab": {
   "collapsed_sections": [],
   "name": "1-3. 롤 좀 하니_ _이것_만 하면 무조건 이긴다! - 데이터로 알아보는 리그 오브 레전드의 승리 공식",
   "provenance": [
    {
     "file_id": "1j79f83Q3TPyjwsbNx2fy_Dt-J37MVNvZ",
     "timestamp": 1605597047726
    },
    {
     "file_id": "1QiLPv5TzBrE7Lb-X4fMq7KHePTq0Em2L",
     "timestamp": 1605593695308
    },
    {
     "file_id": "1Ot6dlC7E_dqo8XOgyTA03SKSqFcvkCdO",
     "timestamp": 1605087778098
    },
    {
     "file_id": "1cS2OjWOehEb97E7763rQ_LrzQIK34Kd-",
     "timestamp": 1604921871166
    },
    {
     "file_id": "1g7SaVjG6EvBPvIH4ADG2RA3qN8v521d1",
     "timestamp": 1604886286018
    }
   ]
  },
  "kernelspec": {
   "display_name": "Python 3",
   "language": "python",
   "name": "python3"
  },
  "language_info": {
   "codemirror_mode": {
    "name": "ipython",
    "version": 3
   },
   "file_extension": ".py",
   "mimetype": "text/x-python",
   "name": "python",
   "nbconvert_exporter": "python",
   "pygments_lexer": "ipython3",
   "version": "3.8.8"
  },
  "toc": {
   "base_numbering": 1,
   "nav_menu": {},
   "number_sections": true,
   "sideBar": true,
   "skip_h1_title": false,
   "title_cell": "Table of Contents",
   "title_sidebar": "Contents",
   "toc_cell": false,
   "toc_position": {},
   "toc_section_display": true,
   "toc_window_display": true
  },
  "varInspector": {
   "cols": {
    "lenName": 16,
    "lenType": 16,
    "lenVar": 40
   },
   "kernels_config": {
    "python": {
     "delete_cmd_postfix": "",
     "delete_cmd_prefix": "del ",
     "library": "var_list.py",
     "varRefreshCmd": "print(var_dic_list())"
    },
    "r": {
     "delete_cmd_postfix": ") ",
     "delete_cmd_prefix": "rm(",
     "library": "var_list.r",
     "varRefreshCmd": "cat(var_dic_list()) "
    }
   },
   "types_to_exclude": [
    "module",
    "function",
    "builtin_function_or_method",
    "instance",
    "_Feature"
   ],
   "window_display": false
  }
 },
 "nbformat": 4,
 "nbformat_minor": 1
}

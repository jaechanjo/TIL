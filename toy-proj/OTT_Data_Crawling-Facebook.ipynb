{
 "cells": [
  {
   "cell_type": "code",
   "execution_count": 3,
   "id": "eafb30bc",
   "metadata": {
    "ExecuteTime": {
     "end_time": "2021-10-03T12:51:31.495004Z",
     "start_time": "2021-10-03T12:51:31.474060Z"
    }
   },
   "outputs": [
    {
     "data": {
      "text/plain": [
       "'C:\\\\Users\\\\jjc12\\\\Desktop\\\\I\\\\Data Analyst\\\\Python\\\\Basic Python'"
      ]
     },
     "execution_count": 3,
     "metadata": {},
     "output_type": "execute_result"
    }
   ],
   "source": [
    "pwd"
   ]
  },
  {
   "cell_type": "code",
   "execution_count": 8,
   "id": "d4c086af",
   "metadata": {
    "ExecuteTime": {
     "end_time": "2021-10-03T12:54:28.188497Z",
     "start_time": "2021-10-03T12:54:28.175495Z"
    }
   },
   "outputs": [
    {
     "name": "stdout",
     "output_type": "stream",
     "text": [
      "Naver_api\n",
      "id\n",
      "pw\n",
      "Kakao_api\n",
      "id\n",
      "key\n",
      "Facebook_api\n",
      "id\n",
      "key\n",
      "Instagram_api\n",
      "id\n",
      "key\n"
     ]
    }
   ],
   "source": [
    "import configparser\n",
    "\n",
    "cfg = configparser.ConfigParser()\n",
    "cfg.read('C:\\\\Users\\\\jjc12\\\\Desktop\\\\I\\\\Data Analyst\\\\ID\\\\Info.ini')\n",
    "\n",
    "for section in cfg.sections():\n",
    "    print(section)\n",
    "    for i in cfg[section]:\n",
    "        print(i)"
   ]
  },
  {
   "cell_type": "code",
   "execution_count": 9,
   "id": "8885166c",
   "metadata": {
    "ExecuteTime": {
     "end_time": "2021-10-03T12:54:29.919664Z",
     "start_time": "2021-10-03T12:54:28.652070Z"
    }
   },
   "outputs": [],
   "source": [
    "import pandas as pd\n",
    "import numpy as np\n",
    "import matplotlib.pyplot as plt\n",
    "import seaborn as sns\n",
    "import requests\n",
    "import json\n",
    "import time\n",
    "from pandas.io.json import json_normalize\n",
    "from bs4 import BeautifulSoup"
   ]
  },
  {
   "cell_type": "code",
   "execution_count": 10,
   "id": "72e5b46b",
   "metadata": {
    "ExecuteTime": {
     "end_time": "2021-10-03T12:54:30.029955Z",
     "start_time": "2021-10-03T12:54:29.952954Z"
    }
   },
   "outputs": [],
   "source": [
    "from selenium import webdriver\n",
    "from selenium.webdriver.common.keys import Keys\n",
    "from selenium.webdriver.support.ui import WebDriverWait\n",
    "from selenium.webdriver.support import expected_conditions as EC\n",
    "from selenium.webdriver.common.by import By\n",
    "from bs4 import BeautifulSoup"
   ]
  },
  {
   "cell_type": "code",
   "execution_count": 6,
   "id": "14f15532",
   "metadata": {
    "ExecuteTime": {
     "end_time": "2021-10-01T04:38:27.502693Z",
     "start_time": "2021-10-01T04:38:26.163856Z"
    }
   },
   "outputs": [],
   "source": [
    "driver = webdriver.Chrome('./chromedriver.exe')"
   ]
  },
  {
   "cell_type": "code",
   "execution_count": 7,
   "id": "6def0f44",
   "metadata": {
    "ExecuteTime": {
     "end_time": "2021-09-30T23:44:12.302079Z",
     "start_time": "2021-09-30T23:44:11.408088Z"
    }
   },
   "outputs": [],
   "source": [
    "url = 'https://m.kinolights.com/themes/18'\n",
    "driver.get(url)\n",
    "# response =requests.get(url)\n",
    "# response"
   ]
  },
  {
   "cell_type": "code",
   "execution_count": 109,
   "id": "d915abec",
   "metadata": {
    "ExecuteTime": {
     "end_time": "2021-09-30T03:27:44.190130Z",
     "start_time": "2021-09-30T03:27:44.137329Z"
    }
   },
   "outputs": [
    {
     "data": {
      "text/plain": [
       "<selenium.webdriver.remote.webelement.WebElement (session=\"d56d57d50359a97e1b0ec7d5fdf4c1d9\", element=\"a2b45e2c-b373-40d1-943a-02548c0b5551\")>"
      ]
     },
     "execution_count": 109,
     "metadata": {},
     "output_type": "execute_result"
    }
   ],
   "source": [
    "# driver.get(\"http://www.ncsl.org/research/transportation/autonomous-vehicles-legislative-database.aspx\")\n",
    "element = WebDriverWait(driver, 20).until(EC.element_to_be_clickable((By.XPATH, '//*[@id=\"contents\"]/div[2]/div/div[37]')))\n",
    "# driver.find_element_by_xpath('//*[@id=\"contents\"]/div[2]/div/div[37]').click()\n",
    "element"
   ]
  },
  {
   "cell_type": "code",
   "execution_count": 136,
   "id": "582ac28a",
   "metadata": {
    "ExecuteTime": {
     "end_time": "2021-09-30T05:30:02.702005Z",
     "start_time": "2021-09-30T05:30:02.665903Z"
    },
    "collapsed": true
   },
   "outputs": [
    {
     "ename": "NoSuchElementException",
     "evalue": "Message: no such element: Unable to locate element: {\"method\":\"xpath\",\"selector\":\"//*[@id=\"contents\"]/div[2]/div/div[48]\"}\n  (Session info: chrome=94.0.4606.61)\n",
     "output_type": "error",
     "traceback": [
      "\u001b[1;31m---------------------------------------------------------------------------\u001b[0m",
      "\u001b[1;31mNoSuchElementException\u001b[0m                    Traceback (most recent call last)",
      "\u001b[1;32m<ipython-input-136-f1008eb58c00>\u001b[0m in \u001b[0;36m<module>\u001b[1;34m\u001b[0m\n\u001b[0;32m      4\u001b[0m \u001b[1;32mfrom\u001b[0m \u001b[0mselenium\u001b[0m\u001b[1;33m.\u001b[0m\u001b[0mwebdriver\u001b[0m\u001b[1;33m.\u001b[0m\u001b[0mcommon\u001b[0m\u001b[1;33m.\u001b[0m\u001b[0maction_chains\u001b[0m \u001b[1;32mimport\u001b[0m \u001b[0mActionChains\u001b[0m\u001b[1;33m\u001b[0m\u001b[1;33m\u001b[0m\u001b[0m\n\u001b[0;32m      5\u001b[0m \u001b[1;33m\u001b[0m\u001b[0m\n\u001b[1;32m----> 6\u001b[1;33m \u001b[0mtarget\u001b[0m \u001b[1;33m=\u001b[0m \u001b[0mdriver\u001b[0m\u001b[1;33m.\u001b[0m\u001b[0mfind_element_by_xpath\u001b[0m\u001b[1;33m(\u001b[0m\u001b[1;34m'//*[@id=\"contents\"]/div[2]/div/div[48]'\u001b[0m\u001b[1;33m)\u001b[0m\u001b[1;33m\u001b[0m\u001b[1;33m\u001b[0m\u001b[0m\n\u001b[0m\u001b[0;32m      7\u001b[0m \u001b[0mactions\u001b[0m \u001b[1;33m=\u001b[0m \u001b[0mActionChains\u001b[0m\u001b[1;33m(\u001b[0m\u001b[0mdriver\u001b[0m\u001b[1;33m)\u001b[0m\u001b[1;33m\u001b[0m\u001b[1;33m\u001b[0m\u001b[0m\n\u001b[0;32m      8\u001b[0m \u001b[0mactions\u001b[0m\u001b[1;33m.\u001b[0m\u001b[0mmove_to_element\u001b[0m\u001b[1;33m(\u001b[0m\u001b[0mtarget\u001b[0m\u001b[1;33m)\u001b[0m\u001b[1;33m\u001b[0m\u001b[1;33m\u001b[0m\u001b[0m\n",
      "\u001b[1;32mC:\\BIGDATA\\envs\\datascience\\lib\\site-packages\\selenium\\webdriver\\remote\\webdriver.py\u001b[0m in \u001b[0;36mfind_element_by_xpath\u001b[1;34m(self, xpath)\u001b[0m\n\u001b[0;32m    392\u001b[0m             \u001b[0melement\u001b[0m \u001b[1;33m=\u001b[0m \u001b[0mdriver\u001b[0m\u001b[1;33m.\u001b[0m\u001b[0mfind_element_by_xpath\u001b[0m\u001b[1;33m(\u001b[0m\u001b[1;34m'//div/td[1]'\u001b[0m\u001b[1;33m)\u001b[0m\u001b[1;33m\u001b[0m\u001b[1;33m\u001b[0m\u001b[0m\n\u001b[0;32m    393\u001b[0m         \"\"\"\n\u001b[1;32m--> 394\u001b[1;33m         \u001b[1;32mreturn\u001b[0m \u001b[0mself\u001b[0m\u001b[1;33m.\u001b[0m\u001b[0mfind_element\u001b[0m\u001b[1;33m(\u001b[0m\u001b[0mby\u001b[0m\u001b[1;33m=\u001b[0m\u001b[0mBy\u001b[0m\u001b[1;33m.\u001b[0m\u001b[0mXPATH\u001b[0m\u001b[1;33m,\u001b[0m \u001b[0mvalue\u001b[0m\u001b[1;33m=\u001b[0m\u001b[0mxpath\u001b[0m\u001b[1;33m)\u001b[0m\u001b[1;33m\u001b[0m\u001b[1;33m\u001b[0m\u001b[0m\n\u001b[0m\u001b[0;32m    395\u001b[0m \u001b[1;33m\u001b[0m\u001b[0m\n\u001b[0;32m    396\u001b[0m     \u001b[1;32mdef\u001b[0m \u001b[0mfind_elements_by_xpath\u001b[0m\u001b[1;33m(\u001b[0m\u001b[0mself\u001b[0m\u001b[1;33m,\u001b[0m \u001b[0mxpath\u001b[0m\u001b[1;33m)\u001b[0m\u001b[1;33m:\u001b[0m\u001b[1;33m\u001b[0m\u001b[1;33m\u001b[0m\u001b[0m\n",
      "\u001b[1;32mC:\\BIGDATA\\envs\\datascience\\lib\\site-packages\\selenium\\webdriver\\remote\\webdriver.py\u001b[0m in \u001b[0;36mfind_element\u001b[1;34m(self, by, value)\u001b[0m\n\u001b[0;32m    974\u001b[0m                 \u001b[0mby\u001b[0m \u001b[1;33m=\u001b[0m \u001b[0mBy\u001b[0m\u001b[1;33m.\u001b[0m\u001b[0mCSS_SELECTOR\u001b[0m\u001b[1;33m\u001b[0m\u001b[1;33m\u001b[0m\u001b[0m\n\u001b[0;32m    975\u001b[0m                 \u001b[0mvalue\u001b[0m \u001b[1;33m=\u001b[0m \u001b[1;34m'[name=\"%s\"]'\u001b[0m \u001b[1;33m%\u001b[0m \u001b[0mvalue\u001b[0m\u001b[1;33m\u001b[0m\u001b[1;33m\u001b[0m\u001b[0m\n\u001b[1;32m--> 976\u001b[1;33m         return self.execute(Command.FIND_ELEMENT, {\n\u001b[0m\u001b[0;32m    977\u001b[0m             \u001b[1;34m'using'\u001b[0m\u001b[1;33m:\u001b[0m \u001b[0mby\u001b[0m\u001b[1;33m,\u001b[0m\u001b[1;33m\u001b[0m\u001b[1;33m\u001b[0m\u001b[0m\n\u001b[0;32m    978\u001b[0m             'value': value})['value']\n",
      "\u001b[1;32mC:\\BIGDATA\\envs\\datascience\\lib\\site-packages\\selenium\\webdriver\\remote\\webdriver.py\u001b[0m in \u001b[0;36mexecute\u001b[1;34m(self, driver_command, params)\u001b[0m\n\u001b[0;32m    319\u001b[0m         \u001b[0mresponse\u001b[0m \u001b[1;33m=\u001b[0m \u001b[0mself\u001b[0m\u001b[1;33m.\u001b[0m\u001b[0mcommand_executor\u001b[0m\u001b[1;33m.\u001b[0m\u001b[0mexecute\u001b[0m\u001b[1;33m(\u001b[0m\u001b[0mdriver_command\u001b[0m\u001b[1;33m,\u001b[0m \u001b[0mparams\u001b[0m\u001b[1;33m)\u001b[0m\u001b[1;33m\u001b[0m\u001b[1;33m\u001b[0m\u001b[0m\n\u001b[0;32m    320\u001b[0m         \u001b[1;32mif\u001b[0m \u001b[0mresponse\u001b[0m\u001b[1;33m:\u001b[0m\u001b[1;33m\u001b[0m\u001b[1;33m\u001b[0m\u001b[0m\n\u001b[1;32m--> 321\u001b[1;33m             \u001b[0mself\u001b[0m\u001b[1;33m.\u001b[0m\u001b[0merror_handler\u001b[0m\u001b[1;33m.\u001b[0m\u001b[0mcheck_response\u001b[0m\u001b[1;33m(\u001b[0m\u001b[0mresponse\u001b[0m\u001b[1;33m)\u001b[0m\u001b[1;33m\u001b[0m\u001b[1;33m\u001b[0m\u001b[0m\n\u001b[0m\u001b[0;32m    322\u001b[0m             response['value'] = self._unwrap_value(\n\u001b[0;32m    323\u001b[0m                 response.get('value', None))\n",
      "\u001b[1;32mC:\\BIGDATA\\envs\\datascience\\lib\\site-packages\\selenium\\webdriver\\remote\\errorhandler.py\u001b[0m in \u001b[0;36mcheck_response\u001b[1;34m(self, response)\u001b[0m\n\u001b[0;32m    240\u001b[0m                 \u001b[0malert_text\u001b[0m \u001b[1;33m=\u001b[0m \u001b[0mvalue\u001b[0m\u001b[1;33m[\u001b[0m\u001b[1;34m'alert'\u001b[0m\u001b[1;33m]\u001b[0m\u001b[1;33m.\u001b[0m\u001b[0mget\u001b[0m\u001b[1;33m(\u001b[0m\u001b[1;34m'text'\u001b[0m\u001b[1;33m)\u001b[0m\u001b[1;33m\u001b[0m\u001b[1;33m\u001b[0m\u001b[0m\n\u001b[0;32m    241\u001b[0m             \u001b[1;32mraise\u001b[0m \u001b[0mexception_class\u001b[0m\u001b[1;33m(\u001b[0m\u001b[0mmessage\u001b[0m\u001b[1;33m,\u001b[0m \u001b[0mscreen\u001b[0m\u001b[1;33m,\u001b[0m \u001b[0mstacktrace\u001b[0m\u001b[1;33m,\u001b[0m \u001b[0malert_text\u001b[0m\u001b[1;33m)\u001b[0m\u001b[1;33m\u001b[0m\u001b[1;33m\u001b[0m\u001b[0m\n\u001b[1;32m--> 242\u001b[1;33m         \u001b[1;32mraise\u001b[0m \u001b[0mexception_class\u001b[0m\u001b[1;33m(\u001b[0m\u001b[0mmessage\u001b[0m\u001b[1;33m,\u001b[0m \u001b[0mscreen\u001b[0m\u001b[1;33m,\u001b[0m \u001b[0mstacktrace\u001b[0m\u001b[1;33m)\u001b[0m\u001b[1;33m\u001b[0m\u001b[1;33m\u001b[0m\u001b[0m\n\u001b[0m\u001b[0;32m    243\u001b[0m \u001b[1;33m\u001b[0m\u001b[0m\n\u001b[0;32m    244\u001b[0m     \u001b[1;32mdef\u001b[0m \u001b[0m_value_or_default\u001b[0m\u001b[1;33m(\u001b[0m\u001b[0mself\u001b[0m\u001b[1;33m,\u001b[0m \u001b[0mobj\u001b[0m\u001b[1;33m,\u001b[0m \u001b[0mkey\u001b[0m\u001b[1;33m,\u001b[0m \u001b[0mdefault\u001b[0m\u001b[1;33m)\u001b[0m\u001b[1;33m:\u001b[0m\u001b[1;33m\u001b[0m\u001b[1;33m\u001b[0m\u001b[0m\n",
      "\u001b[1;31mNoSuchElementException\u001b[0m: Message: no such element: Unable to locate element: {\"method\":\"xpath\",\"selector\":\"//*[@id=\"contents\"]/div[2]/div/div[48]\"}\n  (Session info: chrome=94.0.4606.61)\n"
     ]
    }
   ],
   "source": [
    "# 스크롤링 특정 위치까지 적용\n",
    "\n",
    "from selenium import webdriver\n",
    "from selenium.webdriver.common.action_chains import ActionChains\n",
    "\n",
    "target = driver.find_element_by_xpath('//*[@id=\"contents\"]/div[2]/div/div[37]')\n",
    "actions = ActionChains(driver)\n",
    "actions.move_to_element(target)\n",
    "actions.perform()\n",
    "\n",
    "# 지점 정하기 (1부터 시작할 때)\n",
    "\n",
    "# //*[@id=\"contents\"]/div[2]/div/div[16]\n",
    "# //*[@id=\"contents\"]/div[2]/div/div[32]\n",
    "# //*[@id=\"contents\"]/div[2]/div/div[37]"
   ]
  },
  {
   "cell_type": "code",
   "execution_count": 159,
   "id": "14fd023f",
   "metadata": {
    "ExecuteTime": {
     "end_time": "2021-09-30T05:44:14.938318Z",
     "start_time": "2021-09-30T05:44:14.869241Z"
    }
   },
   "outputs": [],
   "source": [
    "from selenium import webdriver\n",
    "from selenium.webdriver.common.keys import Keys \n",
    "\n",
    "# driver = webdriver.Chrome()\n",
    "# driver.get('http://www.w3schools.com/')\n",
    "driver.find_element_by_tag_name('body').send_keys(Keys.PAGE_DOWN) # Use send_keys(Keys.HOME) to scroll up to the top of page"
   ]
  },
  {
   "cell_type": "code",
   "execution_count": 157,
   "id": "6713b0f8",
   "metadata": {
    "ExecuteTime": {
     "end_time": "2021-09-30T05:42:31.239738Z",
     "start_time": "2021-09-30T05:42:31.215018Z"
    },
    "collapsed": true
   },
   "outputs": [
    {
     "ename": "NameError",
     "evalue": "name 'body' is not defined",
     "output_type": "error",
     "traceback": [
      "\u001b[1;31m---------------------------------------------------------------------------\u001b[0m",
      "\u001b[1;31mNameError\u001b[0m                                 Traceback (most recent call last)",
      "\u001b[1;32m<ipython-input-157-cc86fa42598d>\u001b[0m in \u001b[0;36m<module>\u001b[1;34m\u001b[0m\n\u001b[0;32m      3\u001b[0m \u001b[1;31m# html = BeautifulSoup(driver.page_source, 'html.parser')\u001b[0m\u001b[1;33m\u001b[0m\u001b[1;33m\u001b[0m\u001b[1;33m\u001b[0m\u001b[0m\n\u001b[0;32m      4\u001b[0m \u001b[1;33m\u001b[0m\u001b[0m\n\u001b[1;32m----> 5\u001b[1;33m \u001b[0mbody\u001b[0m\u001b[1;33m.\u001b[0m\u001b[0mscrollHeight\u001b[0m\u001b[1;33m\u001b[0m\u001b[1;33m\u001b[0m\u001b[0m\n\u001b[0m",
      "\u001b[1;31mNameError\u001b[0m: name 'body' is not defined"
     ]
    }
   ],
   "source": [
    "driver.execute_script(\"window.scrollTo(0, document.body.clientHeight);\")\n",
    "\n",
    "# html = BeautifulSoup(driver.page_source, 'html.parser')\n",
    "\n",
    "body.scrollHeight"
   ]
  },
  {
   "cell_type": "code",
   "execution_count": 1,
   "id": "784ac173",
   "metadata": {
    "ExecuteTime": {
     "end_time": "2021-10-06T11:25:40.096853Z",
     "start_time": "2021-10-06T11:25:40.084894Z"
    }
   },
   "outputs": [],
   "source": [
    "# 각각 주차 들어갔다 나오기 해보기\n",
    "\n",
    "driver.find_element_by_xpath(f'//*[@id=\"contents\"]/div[2]/div/div[37]/a/div[2]/div/div/span').click()\n",
    "driver.find_element_by_xpath(f'//*[@id=\"header\"]/div/button[1]').click()"
   ]
  },
  {
   "cell_type": "code",
   "execution_count": null,
   "id": "65e7b7ba",
   "metadata": {},
   "outputs": [],
   "source": [
    "# 티빙 타이틀 따오기\n",
    "tot_title = []\n",
    "title = []\n",
    "\n",
    "driver.find_element_by_xpath('//*[@id=\"triggerMenu\"]/div/div[1]/div/div/button[4]').click()\n",
    "\n",
    "html = BeautifulSoup(driver.page_source, 'html.parser')\n",
    "\n",
    "for title in html.select('div.title'):\n",
    "    title.append(title.text)\n",
    "    \n",
    "tot_title.append(title)\n",
    "\n",
    "driver.find_element_by_xpath('//*[@id=\"triggerMenu\"]/div/div[1]/div/div/button[4]').click()"
   ]
  },
  {
   "cell_type": "code",
   "execution_count": null,
   "id": "b5795950",
   "metadata": {},
   "outputs": [],
   "source": [
    "# 넷플릭스 타이틀 따오기\n",
    "\n",
    "tot_title = []\n",
    "title = []\n",
    "\n",
    "driver.find_element_by_xpath('//*[@id=\"triggerMenu\"]/div/div[1]/div/div/button[1]').click()\n",
    "\n",
    "html = BeautifulSoup(driver.page_source, 'html.parser')\n",
    "\n",
    "for title in html.select('div.title'):\n",
    "    title.append(title.text)\n",
    "    \n",
    "tot_title.append(title)\n",
    "\n",
    "driver.find_element_by_xpath('//*[@id=\"triggerMenu\"]/div/div[1]/div/div/button[1]').click()"
   ]
  },
  {
   "cell_type": "code",
   "execution_count": 13,
   "id": "2f730e2b",
   "metadata": {
    "ExecuteTime": {
     "end_time": "2021-10-01T00:13:21.976264Z",
     "start_time": "2021-10-01T00:03:01.112599Z"
    }
   },
   "outputs": [
    {
     "name": "stdout",
     "output_type": "stream",
     "text": [
      "1번째 크롤링 중입니다.\n",
      "2번째 크롤링 중입니다.\n",
      "3번째 크롤링 중입니다.\n",
      "4번째 크롤링 중입니다.\n",
      "5번째 크롤링 중입니다.\n",
      "6번째 크롤링 중입니다.\n",
      "7번째 크롤링 중입니다.\n",
      "8번째 크롤링 중입니다.\n",
      "9번째 크롤링 중입니다.\n",
      "10번째 크롤링 중입니다.\n",
      "11번째 크롤링 중입니다.\n",
      "12번째 크롤링 중입니다.\n",
      "13번째 크롤링 중입니다.\n",
      "14번째 크롤링 중입니다.\n",
      "15번째 크롤링 중입니다.\n",
      "16번째 크롤링 중입니다.\n",
      "17번째 크롤링 중입니다.\n",
      "18번째 크롤링 중입니다.\n",
      "19번째 크롤링 중입니다.\n",
      "20번째 크롤링 중입니다.\n",
      "21번째 크롤링 중입니다.\n",
      "22번째 크롤링 중입니다.\n",
      "23번째 크롤링 중입니다.\n",
      "24번째 크롤링 중입니다.\n",
      "25번째 크롤링 중입니다.\n",
      "26번째 크롤링 중입니다.\n",
      "27번째 크롤링 중입니다.\n",
      "28번째 크롤링 중입니다.\n",
      "29번째 크롤링 중입니다.\n",
      "30번째 크롤링 중입니다.\n",
      "31번째 크롤링 중입니다.\n",
      "32번째 크롤링 중입니다.\n",
      "33번째 크롤링 중입니다.\n",
      "34번째 크롤링 중입니다.\n",
      "35번째 크롤링 중입니다.\n",
      "36번째 크롤링 중입니다.\n",
      "37번째 크롤링 중입니다.\n"
     ]
    }
   ],
   "source": [
    "# 합치기 \n",
    "\n",
    "driver.find_element_by_tag_name('body').send_keys(Keys.HOME)\n",
    "time.sleep(10)\n",
    "\n",
    "tving = []\n",
    "netflix = []\n",
    "\n",
    "for i in range(1,37+1):\n",
    "    \n",
    "    if i in [17, 33]:\n",
    "        time.sleep(2)\n",
    "        driver.find_element_by_tag_name('body').send_keys(Keys.PAGE_DOWN)\n",
    "        time.sleep(3)\n",
    "    \n",
    "    print(f\"{i}번째 크롤링 중입니다.\")\n",
    "    \n",
    "    #들어가기\n",
    "    driver.find_element_by_xpath(f'//*[@id=\"contents\"]/div[2]/div/div[{i}]').click()\n",
    "\n",
    "    time.sleep(2)\n",
    "    \n",
    "    # 티빙\n",
    "\n",
    "    driver.find_element_by_xpath('//*[@id=\"triggerMenu\"]/div/div[1]/div/div/button[4]').click() #누르고\n",
    "    time.sleep(2)\n",
    "    \n",
    "    html = BeautifulSoup(driver.page_source, 'html.parser')\n",
    "    for name in html.select('div.title'):\n",
    "        tving.append(name.text.strip())\n",
    "    \n",
    "    time.sleep(2)\n",
    "    driver.find_element_by_xpath('//*[@id=\"triggerMenu\"]/div/div[1]/div/div/button[4]').click() #끄고\n",
    "\n",
    "    # 넷플릭스\n",
    "    \n",
    "    time.sleep(2)\n",
    "    driver.find_element_by_xpath('//*[@id=\"triggerMenu\"]/div/div[1]/div/div/button[1]').click() #누르고\n",
    "    time.sleep(2)\n",
    "    \n",
    "    html = BeautifulSoup(driver.page_source, 'html.parser')\n",
    "    \n",
    "    for name in html.select('div.title'):\n",
    "        netflix.append(name.text.strip())\n",
    "    \n",
    "    time.sleep(2)\n",
    "    driver.find_element_by_xpath('//*[@id=\"triggerMenu\"]/div/div[1]/div/div/button[1]').click() #끄고\n",
    "    time.sleep(2)\n",
    "    #나오기\n",
    "    driver.find_element_by_xpath(f'//*[@id=\"header\"]/div/button[1]').click() #나오고\n",
    "    time.sleep(2)"
   ]
  },
  {
   "cell_type": "code",
   "execution_count": 14,
   "id": "e9a7779d",
   "metadata": {
    "ExecuteTime": {
     "end_time": "2021-10-01T00:15:27.425069Z",
     "start_time": "2021-10-01T00:15:27.417091Z"
    }
   },
   "outputs": [
    {
     "data": {
      "text/plain": [
       "235"
      ]
     },
     "execution_count": 14,
     "metadata": {},
     "output_type": "execute_result"
    }
   ],
   "source": [
    "len(tving)"
   ]
  },
  {
   "cell_type": "code",
   "execution_count": 15,
   "id": "5997185e",
   "metadata": {
    "ExecuteTime": {
     "end_time": "2021-10-01T00:15:30.408243Z",
     "start_time": "2021-10-01T00:15:30.404219Z"
    }
   },
   "outputs": [
    {
     "data": {
      "text/plain": [
       "111"
      ]
     },
     "execution_count": 15,
     "metadata": {},
     "output_type": "execute_result"
    }
   ],
   "source": [
    "len(netflix)"
   ]
  },
  {
   "cell_type": "code",
   "execution_count": 16,
   "id": "69616955",
   "metadata": {
    "ExecuteTime": {
     "end_time": "2021-10-01T00:15:34.502284Z",
     "start_time": "2021-10-01T00:15:34.486309Z"
    }
   },
   "outputs": [],
   "source": [
    "df = pd.DataFrame(tving,\n",
    "                 columns = ['tving'])\n",
    "df2 = pd.DataFrame(netflix,\n",
    "                 columns = ['netflix'])"
   ]
  },
  {
   "cell_type": "code",
   "execution_count": 17,
   "id": "0081e3da",
   "metadata": {
    "ExecuteTime": {
     "end_time": "2021-10-01T00:15:36.460635Z",
     "start_time": "2021-10-01T00:15:36.452657Z"
    }
   },
   "outputs": [
    {
     "data": {
      "text/plain": [
       "극장판 귀멸의 칼날: 무한열차편    18\n",
       "소울                   11\n",
       "미나리                  11\n",
       "크루엘라                 11\n",
       "블랙 위도우                9\n",
       "                     ..\n",
       "유 퀴즈 온 더 블럭           1\n",
       "1987                  1\n",
       "윤스테이                  1\n",
       "프리 가이                 1\n",
       "담보                    1\n",
       "Name: tving, Length: 85, dtype: int64"
      ]
     },
     "execution_count": 17,
     "metadata": {},
     "output_type": "execute_result"
    }
   ],
   "source": [
    "# df['tving'] = tving\n",
    "# df.drop('netflix', axis =1, inplace = True)\n",
    "df['tving'].value_counts()"
   ]
  },
  {
   "cell_type": "code",
   "execution_count": 18,
   "id": "72431fcc",
   "metadata": {
    "ExecuteTime": {
     "end_time": "2021-10-01T00:15:38.484486Z",
     "start_time": "2021-10-01T00:15:38.476507Z"
    }
   },
   "outputs": [
    {
     "data": {
      "text/plain": [
       "괴물                               8\n",
       "귀멸의 칼날                           7\n",
       "진격의 거인 The Final Season          6\n",
       "경이로운 소문                          5\n",
       "빈센조                              5\n",
       "그녀의 이름은 난노 시즌 1                  4\n",
       "어른들은 몰라요                         4\n",
       "시지프스 : the myth                  4\n",
       "삼진그룹 영어토익반                       3\n",
       "승리호                              3\n",
       "결혼작사 이혼작곡                        3\n",
       "강철부대                             3\n",
       "이스케이프 룸                          3\n",
       "도시남녀의 사랑법                        3\n",
       "D.P.                             2\n",
       "브리저튼                             2\n",
       "낙원의 밤                            2\n",
       "슬기로운 의사생활 2                      2\n",
       "로스쿨                              2\n",
       "블라인드 멜로디                         2\n",
       "헌트                               2\n",
       "스위트 홈                            2\n",
       "런 온                              2\n",
       "원더 우먼                            1\n",
       "새콤달콤                             1\n",
       "뤼팽 파트 1                          1\n",
       "스파이더맨: 파 프롬 홈                    1\n",
       "오늘부터 히어로                         1\n",
       "제8일의 밤                           1\n",
       "알고있지만,                           1\n",
       "슈퍼 미                             1\n",
       "극한직업                             1\n",
       "차인표                              1\n",
       "죽지않는 인간들의 밤                      1\n",
       "범인은 바로 너! 시즌 3                   1\n",
       "블랙 호크 다운                         1\n",
       "제미니 맨                            1\n",
       "오징어 게임                           1\n",
       "스파이더맨                            1\n",
       "나이브스 아웃                          1\n",
       "마인                               1\n",
       "상티넬                              1\n",
       "키싱 부스 3                          1\n",
       "킹덤: 아신전                          1\n",
       "러브 앤 몬스터스                        1\n",
       "1987                             1\n",
       "페이트: 윙스의 전설                      1\n",
       "내가 사랑했던 모든 남자들에게: 언제나 그리고 영원히    1\n",
       "선배, 그 립스틱 바르지 마요                 1\n",
       "오버로드                             1\n",
       "아웃사이드 더 와이어                      1\n",
       "크롤                               1\n",
       "아미 오브 더 데드                       1\n",
       "아이                               1\n",
       "갯마을 차차차                          1\n",
       "Name: netflix, dtype: int64"
      ]
     },
     "execution_count": 18,
     "metadata": {},
     "output_type": "execute_result"
    }
   ],
   "source": [
    "df2['netflix'].value_counts()"
   ]
  },
  {
   "cell_type": "code",
   "execution_count": 19,
   "id": "cbb1bb77",
   "metadata": {
    "ExecuteTime": {
     "end_time": "2021-10-01T00:15:42.552419Z",
     "start_time": "2021-10-01T00:15:42.546073Z"
    }
   },
   "outputs": [
    {
     "data": {
      "text/plain": [
       "85"
      ]
     },
     "execution_count": 19,
     "metadata": {},
     "output_type": "execute_result"
    }
   ],
   "source": [
    "len(list(df['tving'].unique()))"
   ]
  },
  {
   "cell_type": "code",
   "execution_count": 20,
   "id": "c1779709",
   "metadata": {
    "ExecuteTime": {
     "end_time": "2021-10-01T00:15:45.125184Z",
     "start_time": "2021-10-01T00:15:45.119202Z"
    }
   },
   "outputs": [
    {
     "data": {
      "text/plain": [
       "['갯마을 차차차',\n",
       " '유미의 세포들',\n",
       " '미나리',\n",
       " '환승연애',\n",
       " '스트릿 우먼 파이터',\n",
       " '인간실격',\n",
       " '블랙 위도우',\n",
       " '인질',\n",
       " '꽃다발 같은 사랑을 했다',\n",
       " '스파이더맨',\n",
       " '알라딘',\n",
       " '싱크홀',\n",
       " '작은 아씨들',\n",
       " '악의 꽃',\n",
       " '프리 가이',\n",
       " '크루엘라',\n",
       " '방법: 재차의',\n",
       " '루카',\n",
       " '이스케이프 룸 2: 노 웨이 아웃',\n",
       " '베스트 오퍼',\n",
       " '극장판 귀멸의 칼날: 무한열차편',\n",
       " '분노의 질주: 더 얼티메이트',\n",
       " '어벤져스: 엔드게임',\n",
       " '이스케이프 룸',\n",
       " '발신제한',\n",
       " '콰이어트 플레이스 2',\n",
       " '콰이어트 플레이스',\n",
       " '곡성(哭聲)',\n",
       " '악마판사',\n",
       " '어벤져스: 인피니티 워',\n",
       " '어벤져스',\n",
       " '킬러의 보디가드',\n",
       " '간 떨어지는 동거',\n",
       " '쓰리 빌보드',\n",
       " '샤크 : 더 비기닝',\n",
       " '알고있지만,',\n",
       " '슬기로운 의사생활 2',\n",
       " '파이프라인',\n",
       " '크롤',\n",
       " '캐시트럭',\n",
       " '어느 날 우리 집 현관으로 멸망이 들어왔다',\n",
       " '아이돌 받아쓰기 대회',\n",
       " '보이저스',\n",
       " '블랙 호크 다운',\n",
       " '로스쿨',\n",
       " '마우스',\n",
       " '노바디',\n",
       " '어른들은 몰라요',\n",
       " '제미니 맨',\n",
       " '마인',\n",
       " '아이',\n",
       " '강철부대',\n",
       " '소울',\n",
       " '스파이더맨: 파 프롬 홈',\n",
       " '빈센조',\n",
       " '노매드랜드',\n",
       " '사운드 오브 메탈',\n",
       " '프라미싱 영 우먼',\n",
       " '서복',\n",
       " '괴물',\n",
       " '런',\n",
       " '자산어보',\n",
       " '더 파더',\n",
       " '유 퀴즈 온 더 블럭',\n",
       " '일상의 관계',\n",
       " '그린 북',\n",
       " '런치박스',\n",
       " '중경삼림',\n",
       " '시지프스 : the myth',\n",
       " '귀멸의 칼날',\n",
       " '선배, 그 립스틱 바르지 마요',\n",
       " '나이브스 아웃',\n",
       " '1987',\n",
       " '극한직업',\n",
       " '진격의 거인 The Final Season',\n",
       " '죽지않는 인간들의 밤',\n",
       " '삼진그룹 영어토익반',\n",
       " '소리도 없이',\n",
       " '경이로운 소문',\n",
       " '헌트',\n",
       " '주술회전',\n",
       " '런 온',\n",
       " '윤스테이',\n",
       " '담보',\n",
       " '백두산']"
      ]
     },
     "execution_count": 20,
     "metadata": {},
     "output_type": "execute_result"
    }
   ],
   "source": [
    "t_uniq = list(df['tving'].unique())\n",
    "t_uniq"
   ]
  },
  {
   "cell_type": "code",
   "execution_count": 21,
   "id": "679f8524",
   "metadata": {
    "ExecuteTime": {
     "end_time": "2021-10-01T00:15:48.606420Z",
     "start_time": "2021-10-01T00:15:48.600436Z"
    }
   },
   "outputs": [
    {
     "data": {
      "text/plain": [
       "55"
      ]
     },
     "execution_count": 21,
     "metadata": {},
     "output_type": "execute_result"
    }
   ],
   "source": [
    "len(list(df2['netflix'].unique()))"
   ]
  },
  {
   "cell_type": "code",
   "execution_count": 31,
   "id": "9fc20bf9",
   "metadata": {
    "ExecuteTime": {
     "end_time": "2021-10-01T00:21:46.027223Z",
     "start_time": "2021-10-01T00:21:46.022208Z"
    }
   },
   "outputs": [
    {
     "data": {
      "text/plain": [
       "['오징어 게임',\n",
       " '갯마을 차차차',\n",
       " 'D.P.',\n",
       " '스파이더맨',\n",
       " '키싱 부스 3',\n",
       " '킹덤: 아신전',\n",
       " '이스케이프 룸',\n",
       " '제8일의 밤',\n",
       " '그녀의 이름은 난노 시즌 1',\n",
       " '블라인드 멜로디',\n",
       " '알고있지만,',\n",
       " '슬기로운 의사생활 2',\n",
       " '크롤',\n",
       " '새콤달콤',\n",
       " '아미 오브 더 데드',\n",
       " '블랙 호크 다운',\n",
       " '로스쿨',\n",
       " '어른들은 몰라요',\n",
       " '제미니 맨',\n",
       " '마인',\n",
       " '슈퍼 미',\n",
       " '아이',\n",
       " '강철부대',\n",
       " '스파이더맨: 파 프롬 홈',\n",
       " '빈센조',\n",
       " '괴물',\n",
       " '낙원의 밤',\n",
       " '러브 앤 몬스터스',\n",
       " '시지프스 : the myth',\n",
       " '원더 우먼',\n",
       " '귀멸의 칼날',\n",
       " '선배, 그 립스틱 바르지 마요',\n",
       " '상티넬',\n",
       " '나이브스 아웃',\n",
       " '1987',\n",
       " '극한직업',\n",
       " '진격의 거인 The Final Season',\n",
       " '승리호',\n",
       " '결혼작사 이혼작곡',\n",
       " '도시남녀의 사랑법',\n",
       " '내가 사랑했던 모든 남자들에게: 언제나 그리고 영원히',\n",
       " '죽지않는 인간들의 밤',\n",
       " '브리저튼',\n",
       " '삼진그룹 영어토익반',\n",
       " '경이로운 소문',\n",
       " '헌트',\n",
       " '아웃사이드 더 와이어',\n",
       " '범인은 바로 너! 시즌 3',\n",
       " '런 온',\n",
       " '페이트: 윙스의 전설',\n",
       " '스위트 홈',\n",
       " '뤼팽 파트 1',\n",
       " '오늘부터 히어로',\n",
       " '차인표',\n",
       " '오버로드']"
      ]
     },
     "execution_count": 31,
     "metadata": {},
     "output_type": "execute_result"
    }
   ],
   "source": [
    "n_uniq = list(df2['netflix'].unique())\n",
    "n_uniq"
   ]
  },
  {
   "cell_type": "code",
   "execution_count": 88,
   "id": "4074d656",
   "metadata": {
    "ExecuteTime": {
     "end_time": "2021-10-01T00:54:47.230336Z",
     "start_time": "2021-10-01T00:54:47.227338Z"
    }
   },
   "outputs": [],
   "source": [
    "df_f = list(set(t_uniq + n_uniq))"
   ]
  },
  {
   "cell_type": "code",
   "execution_count": 89,
   "id": "5db9c68b",
   "metadata": {
    "ExecuteTime": {
     "end_time": "2021-10-01T00:54:47.661621Z",
     "start_time": "2021-10-01T00:54:47.651221Z"
    }
   },
   "outputs": [
    {
     "data": {
      "text/html": [
       "<div>\n",
       "<style scoped>\n",
       "    .dataframe tbody tr th:only-of-type {\n",
       "        vertical-align: middle;\n",
       "    }\n",
       "\n",
       "    .dataframe tbody tr th {\n",
       "        vertical-align: top;\n",
       "    }\n",
       "\n",
       "    .dataframe thead th {\n",
       "        text-align: right;\n",
       "    }\n",
       "</style>\n",
       "<table border=\"1\" class=\"dataframe\">\n",
       "  <thead>\n",
       "    <tr style=\"text-align: right;\">\n",
       "      <th></th>\n",
       "      <th>t_n_unique</th>\n",
       "    </tr>\n",
       "  </thead>\n",
       "  <tbody>\n",
       "    <tr>\n",
       "      <th>0</th>\n",
       "      <td>어느 날 우리 집 현관으로 멸망이 들어왔다</td>\n",
       "    </tr>\n",
       "    <tr>\n",
       "      <th>1</th>\n",
       "      <td>원더 우먼</td>\n",
       "    </tr>\n",
       "    <tr>\n",
       "      <th>2</th>\n",
       "      <td>콰이어트 플레이스</td>\n",
       "    </tr>\n",
       "    <tr>\n",
       "      <th>3</th>\n",
       "      <td>알고있지만,</td>\n",
       "    </tr>\n",
       "    <tr>\n",
       "      <th>4</th>\n",
       "      <td>이스케이프 룸 2: 노 웨이 아웃</td>\n",
       "    </tr>\n",
       "    <tr>\n",
       "      <th>...</th>\n",
       "      <td>...</td>\n",
       "    </tr>\n",
       "    <tr>\n",
       "      <th>107</th>\n",
       "      <td>뤼팽 파트 1</td>\n",
       "    </tr>\n",
       "    <tr>\n",
       "      <th>108</th>\n",
       "      <td>헌트</td>\n",
       "    </tr>\n",
       "    <tr>\n",
       "      <th>109</th>\n",
       "      <td>곡성(哭聲)</td>\n",
       "    </tr>\n",
       "    <tr>\n",
       "      <th>110</th>\n",
       "      <td>제8일의 밤</td>\n",
       "    </tr>\n",
       "    <tr>\n",
       "      <th>111</th>\n",
       "      <td>스트릿 우먼 파이터</td>\n",
       "    </tr>\n",
       "  </tbody>\n",
       "</table>\n",
       "<p>112 rows × 1 columns</p>\n",
       "</div>"
      ],
      "text/plain": [
       "                  t_n_unique\n",
       "0    어느 날 우리 집 현관으로 멸망이 들어왔다\n",
       "1                      원더 우먼\n",
       "2                  콰이어트 플레이스\n",
       "3                     알고있지만,\n",
       "4         이스케이프 룸 2: 노 웨이 아웃\n",
       "..                       ...\n",
       "107                  뤼팽 파트 1\n",
       "108                       헌트\n",
       "109                   곡성(哭聲)\n",
       "110                   제8일의 밤\n",
       "111               스트릿 우먼 파이터\n",
       "\n",
       "[112 rows x 1 columns]"
      ]
     },
     "execution_count": 89,
     "metadata": {},
     "output_type": "execute_result"
    }
   ],
   "source": [
    "df_f = pd.DataFrame(df_f, columns=['t_n_unique'])\n",
    "df_f"
   ]
  },
  {
   "cell_type": "code",
   "execution_count": 91,
   "id": "a37bac64",
   "metadata": {
    "ExecuteTime": {
     "end_time": "2021-10-01T00:56:35.120630Z",
     "start_time": "2021-10-01T00:56:35.115645Z"
    }
   },
   "outputs": [],
   "source": [
    "df_f.to_csv('./toy_proj/t_n_uniq.csv', encoding = 'utf-8-sig', index=False)"
   ]
  },
  {
   "cell_type": "code",
   "execution_count": 53,
   "id": "3ac89294",
   "metadata": {
    "ExecuteTime": {
     "end_time": "2021-10-01T00:31:18.844619Z",
     "start_time": "2021-10-01T00:31:18.838577Z"
    }
   },
   "outputs": [],
   "source": [
    "# df_c = pd.DataFrame(columns = ['netflix'])\n",
    "# df_concat['tving'] = t_uniq\n",
    "# df_c['netflix'] = n_uniq\n",
    "# df_concat['netflix'].notna().sum()\n",
    "\n",
    "# df_concat.drop(['netflix'], axis =1, inplace =True)\n",
    "# df_f = pd.concat([df_concat, df_c], axis = 1)\n",
    "# df_f\n",
    "# df_f.drop(['netflix'], axis =1)\n",
    "\n",
    "# df_concat.to_csv(\"./tving_unique.csv\", encoding='utf-8-sig')\n",
    "df_c.to_csv(\"./netflix_unique.csv\", encoding='utf-8-sig')\n"
   ]
  },
  {
   "cell_type": "code",
   "execution_count": 69,
   "id": "a5a2c153",
   "metadata": {
    "ExecuteTime": {
     "end_time": "2021-10-01T00:41:46.067256Z",
     "start_time": "2021-10-01T00:41:46.056722Z"
    }
   },
   "outputs": [
    {
     "data": {
      "text/html": [
       "<div>\n",
       "<style scoped>\n",
       "    .dataframe tbody tr th:only-of-type {\n",
       "        vertical-align: middle;\n",
       "    }\n",
       "\n",
       "    .dataframe tbody tr th {\n",
       "        vertical-align: top;\n",
       "    }\n",
       "\n",
       "    .dataframe thead th {\n",
       "        text-align: right;\n",
       "    }\n",
       "</style>\n",
       "<table border=\"1\" class=\"dataframe\">\n",
       "  <thead>\n",
       "    <tr style=\"text-align: right;\">\n",
       "      <th></th>\n",
       "      <th>Unnamed: 0</th>\n",
       "      <th>title</th>\n",
       "      <th>original</th>\n",
       "    </tr>\n",
       "  </thead>\n",
       "  <tbody>\n",
       "    <tr>\n",
       "      <th>0</th>\n",
       "      <td>1</td>\n",
       "      <td>경이로운 소문</td>\n",
       "      <td>0</td>\n",
       "    </tr>\n",
       "    <tr>\n",
       "      <th>1</th>\n",
       "      <td>2</td>\n",
       "      <td>백두산</td>\n",
       "      <td>1</td>\n",
       "    </tr>\n",
       "    <tr>\n",
       "      <th>2</th>\n",
       "      <td>3</td>\n",
       "      <td>런 온</td>\n",
       "      <td>0</td>\n",
       "    </tr>\n",
       "    <tr>\n",
       "      <th>3</th>\n",
       "      <td>4</td>\n",
       "      <td>윤스테이</td>\n",
       "      <td>1</td>\n",
       "    </tr>\n",
       "    <tr>\n",
       "      <th>4</th>\n",
       "      <td>5</td>\n",
       "      <td>담보</td>\n",
       "      <td>1</td>\n",
       "    </tr>\n",
       "  </tbody>\n",
       "</table>\n",
       "</div>"
      ],
      "text/plain": [
       "   Unnamed: 0    title  original\n",
       "0           1  경이로운 소문         0\n",
       "1           2      백두산         1\n",
       "2           3      런 온         0\n",
       "3           4     윤스테이         1\n",
       "4           5       담보         1"
      ]
     },
     "execution_count": 69,
     "metadata": {},
     "output_type": "execute_result"
    }
   ],
   "source": [
    "# n_test = pd.read_csv(\"./toy_proj/Netflix.csv\")\n",
    "t_test = pd.read_csv(\"./toy_proj/Tiving.csv\")\n",
    "t_test.head()"
   ]
  },
  {
   "cell_type": "code",
   "execution_count": 70,
   "id": "adf28ddd",
   "metadata": {
    "ExecuteTime": {
     "end_time": "2021-10-01T00:41:55.638490Z",
     "start_time": "2021-10-01T00:41:55.629514Z"
    }
   },
   "outputs": [
    {
     "data": {
      "text/html": [
       "<div>\n",
       "<style scoped>\n",
       "    .dataframe tbody tr th:only-of-type {\n",
       "        vertical-align: middle;\n",
       "    }\n",
       "\n",
       "    .dataframe tbody tr th {\n",
       "        vertical-align: top;\n",
       "    }\n",
       "\n",
       "    .dataframe thead th {\n",
       "        text-align: right;\n",
       "    }\n",
       "</style>\n",
       "<table border=\"1\" class=\"dataframe\">\n",
       "  <thead>\n",
       "    <tr style=\"text-align: right;\">\n",
       "      <th></th>\n",
       "      <th>Unnamed: 0</th>\n",
       "      <th>title</th>\n",
       "      <th>original</th>\n",
       "    </tr>\n",
       "  </thead>\n",
       "  <tbody>\n",
       "    <tr>\n",
       "      <th>0</th>\n",
       "      <td>1</td>\n",
       "      <td>경이로운 소문</td>\n",
       "      <td>0</td>\n",
       "    </tr>\n",
       "    <tr>\n",
       "      <th>1</th>\n",
       "      <td>2</td>\n",
       "      <td>스위트 홈</td>\n",
       "      <td>1</td>\n",
       "    </tr>\n",
       "    <tr>\n",
       "      <th>2</th>\n",
       "      <td>3</td>\n",
       "      <td>차인표</td>\n",
       "      <td>1</td>\n",
       "    </tr>\n",
       "    <tr>\n",
       "      <th>3</th>\n",
       "      <td>4</td>\n",
       "      <td>오버로드</td>\n",
       "      <td>1</td>\n",
       "    </tr>\n",
       "    <tr>\n",
       "      <th>4</th>\n",
       "      <td>5</td>\n",
       "      <td>브리저튼</td>\n",
       "      <td>1</td>\n",
       "    </tr>\n",
       "  </tbody>\n",
       "</table>\n",
       "</div>"
      ],
      "text/plain": [
       "   Unnamed: 0    title  original\n",
       "0           1  경이로운 소문         0\n",
       "1           2    스위트 홈         1\n",
       "2           3      차인표         1\n",
       "3           4     오버로드         1\n",
       "4           5     브리저튼         1"
      ]
     },
     "execution_count": 70,
     "metadata": {},
     "output_type": "execute_result"
    }
   ],
   "source": [
    "n_test.head()"
   ]
  },
  {
   "cell_type": "code",
   "execution_count": 73,
   "id": "1b4066b2",
   "metadata": {
    "ExecuteTime": {
     "end_time": "2021-10-01T00:44:37.742109Z",
     "start_time": "2021-10-01T00:44:37.732067Z"
    }
   },
   "outputs": [
    {
     "ename": "NameError",
     "evalue": "name 'title' is not defined",
     "output_type": "error",
     "traceback": [
      "\u001b[1;31m---------------------------------------------------------------------------\u001b[0m",
      "\u001b[1;31mNameError\u001b[0m                                 Traceback (most recent call last)",
      "\u001b[1;32m<ipython-input-73-d8467925d8d3>\u001b[0m in \u001b[0;36m<module>\u001b[1;34m\u001b[0m\n\u001b[1;32m----> 1\u001b[1;33m \u001b[0mn_test\u001b[0m\u001b[1;33m[\u001b[0m\u001b[0mtitle\u001b[0m\u001b[1;33m]\u001b[0m \u001b[1;33m==\u001b[0m \u001b[1;34m'알고있지만,'\u001b[0m\u001b[1;33m\u001b[0m\u001b[1;33m\u001b[0m\u001b[0m\n\u001b[0m",
      "\u001b[1;31mNameError\u001b[0m: name 'title' is not defined"
     ]
    }
   ],
   "source": [
    "n_test[title] == '알고있지만,'"
   ]
  },
  {
   "cell_type": "code",
   "execution_count": 68,
   "id": "2e086770",
   "metadata": {
    "ExecuteTime": {
     "end_time": "2021-10-01T00:41:20.070055Z",
     "start_time": "2021-10-01T00:41:20.065070Z"
    }
   },
   "outputs": [
    {
     "name": "stdout",
     "output_type": "stream",
     "text": [
      "알고있지만,\n"
     ]
    }
   ],
   "source": [
    "# for tit in t_uniq:\n",
    "#     if tit not in list(t_test['title']):\n",
    "#         print(tit)\n",
    "\n",
    "for tit in n_uniq:\n",
    "    if tit not in list(n_test['title']):\n",
    "        print(tit)\n",
    "\n",
    "# # type(t_uniq[0])\n",
    "# for tit in list(t_test['title']):\n",
    "#     print(tit)"
   ]
  },
  {
   "cell_type": "code",
   "execution_count": 74,
   "id": "1ec899fe",
   "metadata": {
    "ExecuteTime": {
     "end_time": "2021-10-01T00:45:50.978525Z",
     "start_time": "2021-10-01T00:45:50.973539Z"
    }
   },
   "outputs": [
    {
     "name": "stdout",
     "output_type": "stream",
     "text": [
      "샤크 : 더 비기닝\n",
      "알고있지만,\n",
      "그린 북\n"
     ]
    }
   ],
   "source": [
    "for tit in t_uniq:\n",
    "    if tit not in list(t_test['title']):\n",
    "        print(tit)"
   ]
  },
  {
   "cell_type": "markdown",
   "id": "85d97e7b",
   "metadata": {},
   "source": [
    "# Facebook 해시태그 검색"
   ]
  },
  {
   "cell_type": "code",
   "execution_count": 14,
   "id": "98a95860",
   "metadata": {
    "ExecuteTime": {
     "end_time": "2021-10-03T13:17:12.917279Z",
     "start_time": "2021-10-03T13:17:12.884236Z"
    }
   },
   "outputs": [
    {
     "data": {
      "text/html": [
       "<div>\n",
       "<style scoped>\n",
       "    .dataframe tbody tr th:only-of-type {\n",
       "        vertical-align: middle;\n",
       "    }\n",
       "\n",
       "    .dataframe tbody tr th {\n",
       "        vertical-align: top;\n",
       "    }\n",
       "\n",
       "    .dataframe thead th {\n",
       "        text-align: right;\n",
       "    }\n",
       "</style>\n",
       "<table border=\"1\" class=\"dataframe\">\n",
       "  <thead>\n",
       "    <tr style=\"text-align: right;\">\n",
       "      <th></th>\n",
       "      <th>Date</th>\n",
       "      <th>Netflix</th>\n",
       "      <th>Tving</th>\n",
       "    </tr>\n",
       "  </thead>\n",
       "  <tbody>\n",
       "    <tr>\n",
       "      <th>0</th>\n",
       "      <td>9월 4주</td>\n",
       "      <td>['오징어 게임' '갯마을 차차차']</td>\n",
       "      <td>['환승연애' '스트릿 우먼 파이터' '미나리' '갯마을 차차차' '유미의 세포들']</td>\n",
       "    </tr>\n",
       "    <tr>\n",
       "      <th>1</th>\n",
       "      <td>9월 2주</td>\n",
       "      <td>['D.P.']</td>\n",
       "      <td>['스트릿 우먼 파이터' '블랙 위도우' '인간실격']</td>\n",
       "    </tr>\n",
       "    <tr>\n",
       "      <th>2</th>\n",
       "      <td>9월 1주</td>\n",
       "      <td>['D.P.']</td>\n",
       "      <td>['스트릿 우먼 파이터' '꽃다발 같은 사랑을 했다' '블랙 위도우' '인질']</td>\n",
       "    </tr>\n",
       "    <tr>\n",
       "      <th>3</th>\n",
       "      <td>8월 4주</td>\n",
       "      <td>['스파이더맨']</td>\n",
       "      <td>['스파이더맨' '스트릿 우먼 파이터' '알라딘' '블랙 위도우' '인질' '싱크홀']</td>\n",
       "    </tr>\n",
       "    <tr>\n",
       "      <th>4</th>\n",
       "      <td>8월 3주</td>\n",
       "      <td>[]</td>\n",
       "      <td>['프리 가이' '작은 아씨들' '악의 꽃' '블랙 위도우' '인질' '싱크홀']</td>\n",
       "    </tr>\n",
       "    <tr>\n",
       "      <th>5</th>\n",
       "      <td>8월 2주</td>\n",
       "      <td>['키싱 부스 3']</td>\n",
       "      <td>['루카' '크루엘라' '블랙 위도우' '이스케이프 룸 2: 노 웨이 아웃 ' '방...</td>\n",
       "    </tr>\n",
       "    <tr>\n",
       "      <th>6</th>\n",
       "      <td>8월 1주</td>\n",
       "      <td>['극장판 귀멸의 칼날: 무한열차편']</td>\n",
       "      <td>['크루엘라' '극장판 귀멸의 칼날: 무한열차편' '블랙 위도우' '베스트 오퍼' ...</td>\n",
       "    </tr>\n",
       "    <tr>\n",
       "      <th>7</th>\n",
       "      <td>7월 5주</td>\n",
       "      <td>['킹덤: 아신전' '이스케이프 룸' '극장판 귀멸의 칼날: 무한열차편']</td>\n",
       "      <td>['크루엘라' '어벤져스: 엔드게임' '극장판 귀멸의 칼날: 무한열차편' '블랙 위...</td>\n",
       "    </tr>\n",
       "    <tr>\n",
       "      <th>8</th>\n",
       "      <td>7월 4주</td>\n",
       "      <td>['이스케이프 룸']</td>\n",
       "      <td>['콰이어트 플레이스 2' '크루엘라' '어벤져스: 인피니티 워' '어벤져스: 엔드...</td>\n",
       "    </tr>\n",
       "    <tr>\n",
       "      <th>9</th>\n",
       "      <td>7월 3주</td>\n",
       "      <td>['이스케이프 룸']</td>\n",
       "      <td>['콰이어트 플레이스 2' '크루엘라' '어벤져스: 인피니티 워' '어벤져스' '어...</td>\n",
       "    </tr>\n",
       "    <tr>\n",
       "      <th>10</th>\n",
       "      <td>7월 2주</td>\n",
       "      <td>['제8일의 밤' '그녀의 이름은 난노 시즌 1']</td>\n",
       "      <td>['크루엘라' '작은 아씨들' '곡성(哭聲)' '콰이어트 플레이스' '킬러의 보디가...</td>\n",
       "    </tr>\n",
       "    <tr>\n",
       "      <th>11</th>\n",
       "      <td>7월 1주</td>\n",
       "      <td>['그녀의 이름은 난노 시즌 1' '극장판 귀멸의 칼날: 무한열차편' '블라인드 멜...</td>\n",
       "      <td>['쓰리 빌보드' '콰이어트 플레이스 2' '크루엘라' '콰이어트 플레이스' '극장...</td>\n",
       "    </tr>\n",
       "    <tr>\n",
       "      <th>12</th>\n",
       "      <td>6월 4주</td>\n",
       "      <td>['그녀의 이름은 난노 시즌 1' '극장판 귀멸의 칼날: 무한열차편' '알고있지만,...</td>\n",
       "      <td>['콰이어트 플레이스 2' '크루엘라' '콰이어트 플레이스' '극장판 귀멸의 칼날:...</td>\n",
       "    </tr>\n",
       "    <tr>\n",
       "      <th>13</th>\n",
       "      <td>6월 3주</td>\n",
       "      <td>['그녀의 이름은 난노 시즌 1' '극장판 귀멸의 칼날: 무한열차편' '슬기로운 의...</td>\n",
       "      <td>['크루엘라' '콰이어트 플레이스' '극장판 귀멸의 칼날: 무한열차편' '슬기로운 ...</td>\n",
       "    </tr>\n",
       "    <tr>\n",
       "      <th>14</th>\n",
       "      <td>6월 2주</td>\n",
       "      <td>[]</td>\n",
       "      <td>['크루엘라' '콰이어트 플레이스' '캐시트럭' '킬러의 보디가드' '분노의 질주:...</td>\n",
       "    </tr>\n",
       "    <tr>\n",
       "      <th>15</th>\n",
       "      <td>6월 1주</td>\n",
       "      <td>[]</td>\n",
       "      <td>['크루엘라' '콰이어트 플레이스' '킬러의 보디가드' '어느 날 우리 집 현관으로...</td>\n",
       "    </tr>\n",
       "    <tr>\n",
       "      <th>16</th>\n",
       "      <td>5월 4주</td>\n",
       "      <td>['아미 오브 더 데드' '블랙 호크 다운']</td>\n",
       "      <td>['블랙 호크 다운' '어느 날 우리 집 현관으로 멸망이 들어왔다' '분노의 질주:...</td>\n",
       "    </tr>\n",
       "    <tr>\n",
       "      <th>17</th>\n",
       "      <td>5월 3주</td>\n",
       "      <td>['로스쿨' '어른들은 몰라요' '제미니 맨' '극장판 귀멸의 칼날: 무한열차편']</td>\n",
       "      <td>['노바디' '마우스' '극장판 귀멸의 칼날: 무한열차편' '로스쿨' '어느 날 우...</td>\n",
       "    </tr>\n",
       "    <tr>\n",
       "      <th>18</th>\n",
       "      <td>5월 2주</td>\n",
       "      <td>['마인' '슈퍼 미' '아이' '극장판 귀멸의 칼날: 무한열차편']</td>\n",
       "      <td>['노바디' '미나리' '아이' '극장판 귀멸의 칼날: 무한열차편' '마인' '어느...</td>\n",
       "    </tr>\n",
       "    <tr>\n",
       "      <th>19</th>\n",
       "      <td>5월 1주</td>\n",
       "      <td>['강철부대' '스파이더맨: 파 프롬 홈' '극장판 귀멸의 칼날: 무한열차편' '빈...</td>\n",
       "      <td>['소울' '노바디' '마우스' '미나리' '스파이더맨: 파 프롬 홈' '극장판 귀...</td>\n",
       "    </tr>\n",
       "    <tr>\n",
       "      <th>20</th>\n",
       "      <td>4월 5주</td>\n",
       "      <td>['극장판 귀멸의 칼날: 무한열차편' '어른들은 몰라요']</td>\n",
       "      <td>['사운드 오브 메탈' '미나리' '노매드랜드' '프라미싱 영 우먼' '극장판 귀멸...</td>\n",
       "    </tr>\n",
       "    <tr>\n",
       "      <th>21</th>\n",
       "      <td>4월 4주</td>\n",
       "      <td>['괴물' '극장판 귀멸의 칼날: 무한열차편' '어른들은 몰라요']</td>\n",
       "      <td>['괴물' '소울' '노바디' '마우스' '미나리' '극장판 귀멸의 칼날: 무한열차...</td>\n",
       "    </tr>\n",
       "    <tr>\n",
       "      <th>22</th>\n",
       "      <td>4월 3주</td>\n",
       "      <td>['어른들은 몰라요' '극장판 귀멸의 칼날: 무한열차편' '로스쿨' '낙원의 밤' ...</td>\n",
       "      <td>['괴물' '런' '극장판 귀멸의 칼날: 무한열차편' '로스쿨' '어른들은 몰라요'...</td>\n",
       "    </tr>\n",
       "    <tr>\n",
       "      <th>23</th>\n",
       "      <td>4월 2주</td>\n",
       "      <td>['극장판 귀멸의 칼날: 무한열차편' '낙원의 밤' '괴물' '강철부대']</td>\n",
       "      <td>['더 파더' '자산어보' '괴물' '소울' '미나리' '극장판 귀멸의 칼날: 무한...</td>\n",
       "    </tr>\n",
       "    <tr>\n",
       "      <th>24</th>\n",
       "      <td>4월 1주</td>\n",
       "      <td>['극장판 귀멸의 칼날: 무한열차편' '강철부대']</td>\n",
       "      <td>['유 퀴즈 온 더 블럭' '소울' '런' '미나리' '극장판 귀멸의 칼날: 무한열...</td>\n",
       "    </tr>\n",
       "    <tr>\n",
       "      <th>25</th>\n",
       "      <td>3월 4주</td>\n",
       "      <td>['극장판 귀멸의 칼날: 무한열차편' '괴물']</td>\n",
       "      <td>['그린 북' '괴물' '소울' '런' '미나리' '극장판 귀멸의 칼날: 무한열차편']</td>\n",
       "    </tr>\n",
       "    <tr>\n",
       "      <th>26</th>\n",
       "      <td>3월 3주</td>\n",
       "      <td>['극장판 귀멸의 칼날: 무한열차편' '괴물' '빈센조']</td>\n",
       "      <td>['괴물' '소울' '마우스' '중경삼림' '미나리' '극장판 귀멸의 칼날: 무한열...</td>\n",
       "    </tr>\n",
       "    <tr>\n",
       "      <th>27</th>\n",
       "      <td>3월 2주</td>\n",
       "      <td>['빈센조' '시지프스 : the myth' '괴물' '원더 우먼' '귀멸의 칼날'...</td>\n",
       "      <td>['괴물' '마우스' '미나리' '귀멸의 칼날' '빈센조' '선배, 그 립스틱 바르...</td>\n",
       "    </tr>\n",
       "    <tr>\n",
       "      <th>28</th>\n",
       "      <td>3월 1주</td>\n",
       "      <td>['빈센조' '시지프스 : the myth' '괴물' '나이브스 아웃' '1987'...</td>\n",
       "      <td>['나이브스 아웃' '괴물' '진격의 거인 The Final Season' '198...</td>\n",
       "    </tr>\n",
       "    <tr>\n",
       "      <th>29</th>\n",
       "      <td>2월 4주</td>\n",
       "      <td>['빈센조' '귀멸의 칼날' '시지프스 : the myth' '승리호' '괴물' '...</td>\n",
       "      <td>['괴물' '소울' '진격의 거인 The Final Season' '귀멸의 칼날' ...</td>\n",
       "    </tr>\n",
       "    <tr>\n",
       "      <th>30</th>\n",
       "      <td>2월 3주</td>\n",
       "      <td>['승리호' '도시남녀의 사랑법' '진격의 거인 The Final Season' '...</td>\n",
       "      <td>['소울' '진격의 거인 The Final Season' '죽지않는 인간들의 밤' ...</td>\n",
       "    </tr>\n",
       "    <tr>\n",
       "      <th>31</th>\n",
       "      <td>2월 2주</td>\n",
       "      <td>['승리호' '도시남녀의 사랑법' '결혼작사 이혼작곡' '극장판 귀멸의 칼날: 무한...</td>\n",
       "      <td>['소울' '귀멸의 칼날' '극장판 귀멸의 칼날: 무한열차편' '삼진그룹 영어토익반...</td>\n",
       "    </tr>\n",
       "    <tr>\n",
       "      <th>32</th>\n",
       "      <td>2월 1주</td>\n",
       "      <td>['경이로운 소문' '극장판 귀멸의 칼날: 무한열차편' '삼진그룹 영어토익반' '귀...</td>\n",
       "      <td>['소울' '진격의 거인 The Final Season' '귀멸의 칼날' '극장판 ...</td>\n",
       "    </tr>\n",
       "    <tr>\n",
       "      <th>33</th>\n",
       "      <td>1월 4주</td>\n",
       "      <td>['극장판 귀멸의 칼날: 무한열차편' '경이로운 소문' '귀멸의 칼날' '삼진그룹 ...</td>\n",
       "      <td>['주술회전' '소울' '진격의 거인 The Final Season' '귀멸의 칼날...</td>\n",
       "    </tr>\n",
       "    <tr>\n",
       "      <th>34</th>\n",
       "      <td>1월 3주</td>\n",
       "      <td>['경이로운 소문' '진격의 거인 The Final Season' '아웃사이드 더 ...</td>\n",
       "      <td>['주술회전' '진격의 거인 The Final Season' '런 온' '귀멸의 칼...</td>\n",
       "    </tr>\n",
       "    <tr>\n",
       "      <th>35</th>\n",
       "      <td>1월 2주</td>\n",
       "      <td>['경이로운 소문' '스위트 홈' '뤼팽 파트 1' '오늘부터 히어로']</td>\n",
       "      <td>['윤스테이' '소리도 없이' '경이로운 소문' '담보']</td>\n",
       "    </tr>\n",
       "    <tr>\n",
       "      <th>36</th>\n",
       "      <td>1월 1주</td>\n",
       "      <td>['경이로운 소문' '스위트 홈' '차인표' '오버로드' '브리저튼' '런 온']</td>\n",
       "      <td>['런 온' '경이로운 소문' '백두산']</td>\n",
       "    </tr>\n",
       "  </tbody>\n",
       "</table>\n",
       "</div>"
      ],
      "text/plain": [
       "     Date                                            Netflix  \\\n",
       "0   9월 4주                               ['오징어 게임' '갯마을 차차차']   \n",
       "1   9월 2주                                           ['D.P.']   \n",
       "2   9월 1주                                           ['D.P.']   \n",
       "3   8월 4주                                          ['스파이더맨']   \n",
       "4   8월 3주                                                 []   \n",
       "5   8월 2주                                        ['키싱 부스 3']   \n",
       "6   8월 1주                              ['극장판 귀멸의 칼날: 무한열차편']   \n",
       "7   7월 5주          ['킹덤: 아신전' '이스케이프 룸' '극장판 귀멸의 칼날: 무한열차편']   \n",
       "8   7월 4주                                        ['이스케이프 룸']   \n",
       "9   7월 3주                                        ['이스케이프 룸']   \n",
       "10  7월 2주                       ['제8일의 밤' '그녀의 이름은 난노 시즌 1']   \n",
       "11  7월 1주  ['그녀의 이름은 난노 시즌 1' '극장판 귀멸의 칼날: 무한열차편' '블라인드 멜...   \n",
       "12  6월 4주  ['그녀의 이름은 난노 시즌 1' '극장판 귀멸의 칼날: 무한열차편' '알고있지만,...   \n",
       "13  6월 3주  ['그녀의 이름은 난노 시즌 1' '극장판 귀멸의 칼날: 무한열차편' '슬기로운 의...   \n",
       "14  6월 2주                                                 []   \n",
       "15  6월 1주                                                 []   \n",
       "16  5월 4주                          ['아미 오브 더 데드' '블랙 호크 다운']   \n",
       "17  5월 3주     ['로스쿨' '어른들은 몰라요' '제미니 맨' '극장판 귀멸의 칼날: 무한열차편']   \n",
       "18  5월 2주             ['마인' '슈퍼 미' '아이' '극장판 귀멸의 칼날: 무한열차편']   \n",
       "19  5월 1주  ['강철부대' '스파이더맨: 파 프롬 홈' '극장판 귀멸의 칼날: 무한열차편' '빈...   \n",
       "20  4월 5주                   ['극장판 귀멸의 칼날: 무한열차편' '어른들은 몰라요']   \n",
       "21  4월 4주              ['괴물' '극장판 귀멸의 칼날: 무한열차편' '어른들은 몰라요']   \n",
       "22  4월 3주  ['어른들은 몰라요' '극장판 귀멸의 칼날: 무한열차편' '로스쿨' '낙원의 밤' ...   \n",
       "23  4월 2주          ['극장판 귀멸의 칼날: 무한열차편' '낙원의 밤' '괴물' '강철부대']   \n",
       "24  4월 1주                       ['극장판 귀멸의 칼날: 무한열차편' '강철부대']   \n",
       "25  3월 4주                         ['극장판 귀멸의 칼날: 무한열차편' '괴물']   \n",
       "26  3월 3주                   ['극장판 귀멸의 칼날: 무한열차편' '괴물' '빈센조']   \n",
       "27  3월 2주  ['빈센조' '시지프스 : the myth' '괴물' '원더 우먼' '귀멸의 칼날'...   \n",
       "28  3월 1주  ['빈센조' '시지프스 : the myth' '괴물' '나이브스 아웃' '1987'...   \n",
       "29  2월 4주  ['빈센조' '귀멸의 칼날' '시지프스 : the myth' '승리호' '괴물' '...   \n",
       "30  2월 3주  ['승리호' '도시남녀의 사랑법' '진격의 거인 The Final Season' '...   \n",
       "31  2월 2주  ['승리호' '도시남녀의 사랑법' '결혼작사 이혼작곡' '극장판 귀멸의 칼날: 무한...   \n",
       "32  2월 1주  ['경이로운 소문' '극장판 귀멸의 칼날: 무한열차편' '삼진그룹 영어토익반' '귀...   \n",
       "33  1월 4주  ['극장판 귀멸의 칼날: 무한열차편' '경이로운 소문' '귀멸의 칼날' '삼진그룹 ...   \n",
       "34  1월 3주  ['경이로운 소문' '진격의 거인 The Final Season' '아웃사이드 더 ...   \n",
       "35  1월 2주           ['경이로운 소문' '스위트 홈' '뤼팽 파트 1' '오늘부터 히어로']   \n",
       "36  1월 1주      ['경이로운 소문' '스위트 홈' '차인표' '오버로드' '브리저튼' '런 온']   \n",
       "\n",
       "                                                Tving  \n",
       "0     ['환승연애' '스트릿 우먼 파이터' '미나리' '갯마을 차차차' '유미의 세포들']  \n",
       "1                      ['스트릿 우먼 파이터' '블랙 위도우' '인간실격']  \n",
       "2        ['스트릿 우먼 파이터' '꽃다발 같은 사랑을 했다' '블랙 위도우' '인질']  \n",
       "3    ['스파이더맨' '스트릿 우먼 파이터' '알라딘' '블랙 위도우' '인질' '싱크홀']  \n",
       "4       ['프리 가이' '작은 아씨들' '악의 꽃' '블랙 위도우' '인질' '싱크홀']  \n",
       "5   ['루카' '크루엘라' '블랙 위도우' '이스케이프 룸 2: 노 웨이 아웃 ' '방...  \n",
       "6   ['크루엘라' '극장판 귀멸의 칼날: 무한열차편' '블랙 위도우' '베스트 오퍼' ...  \n",
       "7   ['크루엘라' '어벤져스: 엔드게임' '극장판 귀멸의 칼날: 무한열차편' '블랙 위...  \n",
       "8   ['콰이어트 플레이스 2' '크루엘라' '어벤져스: 인피니티 워' '어벤져스: 엔드...  \n",
       "9   ['콰이어트 플레이스 2' '크루엘라' '어벤져스: 인피니티 워' '어벤져스' '어...  \n",
       "10  ['크루엘라' '작은 아씨들' '곡성(哭聲)' '콰이어트 플레이스' '킬러의 보디가...  \n",
       "11  ['쓰리 빌보드' '콰이어트 플레이스 2' '크루엘라' '콰이어트 플레이스' '극장...  \n",
       "12  ['콰이어트 플레이스 2' '크루엘라' '콰이어트 플레이스' '극장판 귀멸의 칼날:...  \n",
       "13  ['크루엘라' '콰이어트 플레이스' '극장판 귀멸의 칼날: 무한열차편' '슬기로운 ...  \n",
       "14  ['크루엘라' '콰이어트 플레이스' '캐시트럭' '킬러의 보디가드' '분노의 질주:...  \n",
       "15  ['크루엘라' '콰이어트 플레이스' '킬러의 보디가드' '어느 날 우리 집 현관으로...  \n",
       "16  ['블랙 호크 다운' '어느 날 우리 집 현관으로 멸망이 들어왔다' '분노의 질주:...  \n",
       "17  ['노바디' '마우스' '극장판 귀멸의 칼날: 무한열차편' '로스쿨' '어느 날 우...  \n",
       "18  ['노바디' '미나리' '아이' '극장판 귀멸의 칼날: 무한열차편' '마인' '어느...  \n",
       "19  ['소울' '노바디' '마우스' '미나리' '스파이더맨: 파 프롬 홈' '극장판 귀...  \n",
       "20  ['사운드 오브 메탈' '미나리' '노매드랜드' '프라미싱 영 우먼' '극장판 귀멸...  \n",
       "21  ['괴물' '소울' '노바디' '마우스' '미나리' '극장판 귀멸의 칼날: 무한열차...  \n",
       "22  ['괴물' '런' '극장판 귀멸의 칼날: 무한열차편' '로스쿨' '어른들은 몰라요'...  \n",
       "23  ['더 파더' '자산어보' '괴물' '소울' '미나리' '극장판 귀멸의 칼날: 무한...  \n",
       "24  ['유 퀴즈 온 더 블럭' '소울' '런' '미나리' '극장판 귀멸의 칼날: 무한열...  \n",
       "25   ['그린 북' '괴물' '소울' '런' '미나리' '극장판 귀멸의 칼날: 무한열차편']  \n",
       "26  ['괴물' '소울' '마우스' '중경삼림' '미나리' '극장판 귀멸의 칼날: 무한열...  \n",
       "27  ['괴물' '마우스' '미나리' '귀멸의 칼날' '빈센조' '선배, 그 립스틱 바르...  \n",
       "28  ['나이브스 아웃' '괴물' '진격의 거인 The Final Season' '198...  \n",
       "29  ['괴물' '소울' '진격의 거인 The Final Season' '귀멸의 칼날' ...  \n",
       "30  ['소울' '진격의 거인 The Final Season' '죽지않는 인간들의 밤' ...  \n",
       "31  ['소울' '귀멸의 칼날' '극장판 귀멸의 칼날: 무한열차편' '삼진그룹 영어토익반...  \n",
       "32  ['소울' '진격의 거인 The Final Season' '귀멸의 칼날' '극장판 ...  \n",
       "33  ['주술회전' '소울' '진격의 거인 The Final Season' '귀멸의 칼날...  \n",
       "34  ['주술회전' '진격의 거인 The Final Season' '런 온' '귀멸의 칼...  \n",
       "35                   ['윤스테이' '소리도 없이' '경이로운 소문' '담보']  \n",
       "36                            ['런 온' '경이로운 소문' '백두산']  "
      ]
     },
     "execution_count": 14,
     "metadata": {},
     "output_type": "execute_result"
    }
   ],
   "source": [
    "pd.read_csv('./toy_proj/backup/contents.csv')"
   ]
  },
  {
   "cell_type": "code",
   "execution_count": 12,
   "id": "147cdad8",
   "metadata": {
    "ExecuteTime": {
     "end_time": "2021-10-03T12:56:27.069816Z",
     "start_time": "2021-10-03T12:56:23.834693Z"
    }
   },
   "outputs": [],
   "source": [
    "driver = webdriver.Chrome('./chromedriver')\n",
    "\n",
    "# url 페이지 이동\n",
    "url = 'https://trends.google.com/trends/?geo=KR'\n",
    "driver.get(url)"
   ]
  },
  {
   "cell_type": "code",
   "execution_count": 8,
   "id": "df72ded4",
   "metadata": {
    "ExecuteTime": {
     "end_time": "2021-10-01T04:38:57.779164Z",
     "start_time": "2021-10-01T04:38:47.547813Z"
    }
   },
   "outputs": [],
   "source": [
    "# 검색창 클릭\n",
    "\n",
    "driver.find_element_by_xpath('//*[@id=\"email\"]').send_keys(fb_id)\n",
    "time.sleep(5)\n",
    "driver.find_element_by_xpath('//*[@id=\"pass\"]').send_keys(fb_pw + '\\n')\n",
    "# 페이지 로딩에 약간의 시간이 필요하면\n",
    "time.sleep(5)"
   ]
  },
  {
   "cell_type": "code",
   "execution_count": 117,
   "id": "3ea6e838",
   "metadata": {
    "ExecuteTime": {
     "end_time": "2021-10-01T06:24:09.362598Z",
     "start_time": "2021-10-01T06:24:08.459229Z"
    }
   },
   "outputs": [],
   "source": [
    "# 키워드 지우고 새로운 검색어로 입력\n",
    "# Clear 오류 자판으로 직접 지우기로 해결!\n",
    "\n",
    "driver.find_element_by_xpath('//*[@id=\"mount_0_0_yr\"]/div/div[1]/div/div[2]/div[2]/div/div/div/div/div/label').send_keys(Keys.CONTROL, 'a')\n",
    "driver.find_element_by_xpath('//*[@id=\"mount_0_0_yr\"]/div/div[1]/div/div[2]/div[2]/div/div/div/div/div/label').send_keys(Keys.DELETE)\n",
    "driver.find_element_by_xpath('//*[@id=\"mount_0_0_yr\"]/div/div[1]/div/div[2]/div[2]/div/div/div/div/div/label').send_keys('#도시남녀사랑법' + '\\n')"
   ]
  },
  {
   "cell_type": "code",
   "execution_count": 104,
   "id": "fbe09d57",
   "metadata": {
    "ExecuteTime": {
     "end_time": "2021-10-01T06:11:15.067443Z",
     "start_time": "2021-10-01T06:11:14.614874Z"
    }
   },
   "outputs": [
    {
     "data": {
      "text/plain": [
       "'2천명'"
      ]
     },
     "execution_count": 104,
     "metadata": {},
     "output_type": "execute_result"
    }
   ],
   "source": [
    "# 검색량 긁어오기\n",
    "html = BeautifulSoup(driver.page_source, 'html.parser')\n",
    "\n",
    "# html\n",
    "# driver.find_elements_by_xpath('/html/body/div[1]/div/div[1]/div/div[3]/div/div/div[1]/div[1]/div/div/div/div[1]/div/div/div/div/div/div/div[1]/div/div[2]/span/text()')\n",
    "\n",
    "# html.select('span.d2edcug0')\n",
    "text = html.select('div.bi6gxh9e span.d2edcug0')[1].text[:2+1]\n",
    "\n",
    "text"
   ]
  },
  {
   "cell_type": "code",
   "execution_count": 45,
   "id": "85d24ead",
   "metadata": {
    "ExecuteTime": {
     "end_time": "2021-10-01T04:50:54.493950Z",
     "start_time": "2021-10-01T04:50:54.484980Z"
    }
   },
   "outputs": [
    {
     "data": {
      "text/plain": [
       "112"
      ]
     },
     "execution_count": 45,
     "metadata": {},
     "output_type": "execute_result"
    }
   ],
   "source": [
    "t_n_uniq = pd.read_csv('./toy_proj/t_n_uniq.csv')\n",
    "t_n_list = list(t_n_uniq['t_n_unique'])\n",
    "len(t_n_list)"
   ]
  },
  {
   "cell_type": "code",
   "execution_count": 92,
   "id": "53bf3095",
   "metadata": {
    "ExecuteTime": {
     "end_time": "2021-10-01T05:05:45.307528Z",
     "start_time": "2021-10-01T05:05:45.295560Z"
    }
   },
   "outputs": [],
   "source": [
    "#t_n_uniq = pd.read_csv('./toy_proj/t_n_uniq.csv')\n",
    "#t_n_list = list(t_n_uniq['t_n_unique'])\n",
    "# len(t_n_list)\n",
    "\n",
    "# 태그에는 공백이 없으므로 공백 제거\n",
    "\n",
    "# t_n_list[0].replace(' ','')\n",
    "\n",
    "# t_n_list2 = []\n",
    "\n",
    "# for tit in t_n_list:\n",
    "#     t_n_list2.append(tit.replace(' ',''))\n",
    "    \n",
    "# tag_title = pd.DataFrame(t_n_list2,\n",
    "#                          columns = ['tag_title'])\n",
    "# tag_title.to_csv('./toy_proj/tag_title.csv', encoding = 'utf-8-sig')\n",
    "\n",
    "len(t_n_list2)\n",
    "\n",
    "tag_title = pd.DataFrame(t_n_list2,\n",
    "                         columns = ['tag_title'])\n",
    "\n",
    "tag_title.to_csv('./toy_proj/tag_title2.csv', encoding = 'utf-8-sig')\n",
    "\n",
    "t_n_list2.remove('곡성(哭聲)')\n",
    "t_n_list2.append('곡성')\n",
    "\n",
    "# t_n_list2.remove('D.P.')\n",
    "# t_n_list2.append('DP')\n",
    "\n",
    "# t_n_list2.remove('곡성(哭聲)')\n",
    "# t_n_list2.append('곡성')"
   ]
  },
  {
   "cell_type": "code",
   "execution_count": 96,
   "id": "1ff58237",
   "metadata": {
    "ExecuteTime": {
     "end_time": "2021-10-01T06:05:57.411422Z",
     "start_time": "2021-10-01T06:05:57.381504Z"
    }
   },
   "outputs": [
    {
     "data": {
      "text/html": [
       "<div>\n",
       "<style scoped>\n",
       "    .dataframe tbody tr th:only-of-type {\n",
       "        vertical-align: middle;\n",
       "    }\n",
       "\n",
       "    .dataframe tbody tr th {\n",
       "        vertical-align: top;\n",
       "    }\n",
       "\n",
       "    .dataframe thead th {\n",
       "        text-align: right;\n",
       "    }\n",
       "</style>\n",
       "<table border=\"1\" class=\"dataframe\">\n",
       "  <thead>\n",
       "    <tr style=\"text-align: right;\">\n",
       "      <th></th>\n",
       "      <th>tag_list</th>\n",
       "    </tr>\n",
       "  </thead>\n",
       "  <tbody>\n",
       "    <tr>\n",
       "      <th>어느날우리집현관으로멸망이들어왔다</th>\n",
       "      <td>NaN</td>\n",
       "    </tr>\n",
       "    <tr>\n",
       "      <th>원더우먼</th>\n",
       "      <td>NaN</td>\n",
       "    </tr>\n",
       "    <tr>\n",
       "      <th>콰이어트플레이스</th>\n",
       "      <td>NaN</td>\n",
       "    </tr>\n",
       "    <tr>\n",
       "      <th>경이로운소문</th>\n",
       "      <td>NaN</td>\n",
       "    </tr>\n",
       "    <tr>\n",
       "      <th>크루엘라</th>\n",
       "      <td>NaN</td>\n",
       "    </tr>\n",
       "    <tr>\n",
       "      <th>...</th>\n",
       "      <td>...</td>\n",
       "    </tr>\n",
       "    <tr>\n",
       "      <th>시지프스</th>\n",
       "      <td>NaN</td>\n",
       "    </tr>\n",
       "    <tr>\n",
       "      <th>어벤져스엔드게임</th>\n",
       "      <td>NaN</td>\n",
       "    </tr>\n",
       "    <tr>\n",
       "      <th>극장판귀멸의칼날무한열차편</th>\n",
       "      <td>NaN</td>\n",
       "    </tr>\n",
       "    <tr>\n",
       "      <th>DP</th>\n",
       "      <td>NaN</td>\n",
       "    </tr>\n",
       "    <tr>\n",
       "      <th>곡성</th>\n",
       "      <td>NaN</td>\n",
       "    </tr>\n",
       "  </tbody>\n",
       "</table>\n",
       "<p>112 rows × 1 columns</p>\n",
       "</div>"
      ],
      "text/plain": [
       "                  tag_list\n",
       "어느날우리집현관으로멸망이들어왔다      NaN\n",
       "원더우먼                   NaN\n",
       "콰이어트플레이스               NaN\n",
       "경이로운소문                 NaN\n",
       "크루엘라                   NaN\n",
       "...                    ...\n",
       "시지프스                   NaN\n",
       "어벤져스엔드게임               NaN\n",
       "극장판귀멸의칼날무한열차편          NaN\n",
       "DP                     NaN\n",
       "곡성                     NaN\n",
       "\n",
       "[112 rows x 1 columns]"
      ]
     },
     "execution_count": 96,
     "metadata": {},
     "output_type": "execute_result"
    }
   ],
   "source": [
    "t_search = pd.DataFrame(index = tag_list,\n",
    "                       columns = ['tag_list'])\n",
    "t_search"
   ]
  },
  {
   "cell_type": "code",
   "execution_count": 94,
   "id": "9e02cde3",
   "metadata": {
    "ExecuteTime": {
     "end_time": "2021-10-01T05:10:39.310122Z",
     "start_time": "2021-10-01T05:10:39.297617Z"
    }
   },
   "outputs": [],
   "source": [
    "tag_title = pd.read_csv('./toy_proj/tag_title.csv')\n",
    "\n",
    "tag_list = t_n_list2"
   ]
  },
  {
   "cell_type": "code",
   "execution_count": 224,
   "id": "99abe5c2",
   "metadata": {
    "ExecuteTime": {
     "end_time": "2021-10-01T07:45:26.077334Z",
     "start_time": "2021-10-01T07:45:26.072348Z"
    }
   },
   "outputs": [],
   "source": [
    "# tag_list[100:]\n",
    "\n",
    "# tag_list.remove('페이트윙스의전설')\n",
    "# tag_list.append('페이트윙스의전설')\n",
    "\n",
    "# text = html.select('div.bi6gxh9e span.d2edcug0')[1].text[:2+1]\n",
    "\n",
    "tag_df = pd.DataFrame(tag_list,\n",
    "                        columns=['tag_list'])\n",
    "# tag_df.to_csv(\"./toy_proj/tag_revised.csv\", encoding = 'utf-8-sig', index =False)\n",
    "\n",
    "tag_list= list(tag_list['tag_list'])"
   ]
  },
  {
   "cell_type": "code",
   "execution_count": 231,
   "id": "802e96f0",
   "metadata": {
    "ExecuteTime": {
     "end_time": "2021-10-01T07:48:30.896743Z",
     "start_time": "2021-10-01T07:48:30.891729Z"
    }
   },
   "outputs": [
    {
     "data": {
      "text/plain": [
       "0"
      ]
     },
     "execution_count": 231,
     "metadata": {},
     "output_type": "execute_result"
    }
   ],
   "source": [
    "len(l_search)"
   ]
  },
  {
   "cell_type": "code",
   "execution_count": 156,
   "id": "da492fa2",
   "metadata": {
    "ExecuteTime": {
     "end_time": "2021-10-01T06:44:00.361465Z",
     "start_time": "2021-10-01T06:44:00.344556Z"
    }
   },
   "outputs": [
    {
     "data": {
      "text/plain": [
       "35"
      ]
     },
     "execution_count": 156,
     "metadata": {},
     "output_type": "execute_result"
    }
   ],
   "source": [
    "len(l_search)"
   ]
  },
  {
   "cell_type": "code",
   "execution_count": 201,
   "id": "628ebff5",
   "metadata": {
    "ExecuteTime": {
     "end_time": "2021-10-01T07:15:53.980879Z",
     "start_time": "2021-10-01T07:15:53.974895Z"
    }
   },
   "outputs": [
    {
     "data": {
      "text/plain": [
       "111"
      ]
     },
     "execution_count": 201,
     "metadata": {},
     "output_type": "execute_result"
    }
   ],
   "source": [
    "# list_search = l_search.copy()\n",
    "# list_search.append(l_search)\n",
    "# list_search.remove(l_search)\n",
    "# list_search = list_search + l_search\n",
    "\n",
    "# list_search = list_search[:40]\n",
    "list_search = list_search + l_search\n",
    "len(list_search)"
   ]
  },
  {
   "cell_type": "code",
   "execution_count": 319,
   "id": "898dfab7",
   "metadata": {
    "ExecuteTime": {
     "end_time": "2021-10-01T08:51:28.098481Z",
     "start_time": "2021-10-01T08:51:28.085534Z"
    }
   },
   "outputs": [],
   "source": [
    "\n",
    "# for tag in f_search['search_num']:\n",
    "#     try: \n",
    "#         if type(float(tag)) == float:\n",
    "#             f_search['Search'] = int(float(tag)*1000)\n",
    "#     except ValueError:\n",
    "#         f_search['Search'] = 0\n",
    "\n",
    "list = []\n",
    "for s in f_search['search_num']:\n",
    "    if s in ['둘러보']:\n",
    "        list.append(0)\n",
    "    elif s in ['2천명', '3천명', '40만']:\n",
    "        list.append(int(str(s).replace('천명', '000').replace('만', '0000')))\n",
    "    else:\n",
    "        list.append(int(float(s)*1000))"
   ]
  },
  {
   "cell_type": "code",
   "execution_count": 15,
   "id": "2c2c8151",
   "metadata": {
    "ExecuteTime": {
     "end_time": "2021-10-03T12:04:53.926138Z",
     "start_time": "2021-10-03T12:04:53.899211Z"
    }
   },
   "outputs": [
    {
     "data": {
      "text/html": [
       "<div>\n",
       "<style scoped>\n",
       "    .dataframe tbody tr th:only-of-type {\n",
       "        vertical-align: middle;\n",
       "    }\n",
       "\n",
       "    .dataframe tbody tr th {\n",
       "        vertical-align: top;\n",
       "    }\n",
       "\n",
       "    .dataframe thead th {\n",
       "        text-align: right;\n",
       "    }\n",
       "</style>\n",
       "<table border=\"1\" class=\"dataframe\">\n",
       "  <thead>\n",
       "    <tr style=\"text-align: right;\">\n",
       "      <th></th>\n",
       "      <th>Unnamed: 0</th>\n",
       "      <th>search_num</th>\n",
       "      <th>Search</th>\n",
       "    </tr>\n",
       "  </thead>\n",
       "  <tbody>\n",
       "    <tr>\n",
       "      <th>0</th>\n",
       "      <td>어느날우리집현관으로멸망이들어왔다</td>\n",
       "      <td>둘러보</td>\n",
       "      <td>0</td>\n",
       "    </tr>\n",
       "    <tr>\n",
       "      <th>2</th>\n",
       "      <td>콰이어트플레이스</td>\n",
       "      <td>둘러보</td>\n",
       "      <td>0</td>\n",
       "    </tr>\n",
       "    <tr>\n",
       "      <th>6</th>\n",
       "      <td>그린북</td>\n",
       "      <td>둘러보</td>\n",
       "      <td>0</td>\n",
       "    </tr>\n",
       "    <tr>\n",
       "      <th>10</th>\n",
       "      <td>소리도없이</td>\n",
       "      <td>둘러보</td>\n",
       "      <td>0</td>\n",
       "    </tr>\n",
       "    <tr>\n",
       "      <th>11</th>\n",
       "      <td>키싱부스3</td>\n",
       "      <td>둘러보</td>\n",
       "      <td>0</td>\n",
       "    </tr>\n",
       "    <tr>\n",
       "      <th>12</th>\n",
       "      <td>인간실격</td>\n",
       "      <td>둘러보</td>\n",
       "      <td>0</td>\n",
       "    </tr>\n",
       "    <tr>\n",
       "      <th>14</th>\n",
       "      <td>일상의관계</td>\n",
       "      <td>둘러보</td>\n",
       "      <td>0</td>\n",
       "    </tr>\n",
       "    <tr>\n",
       "      <th>16</th>\n",
       "      <td>이스케이프룸</td>\n",
       "      <td>둘러보</td>\n",
       "      <td>0</td>\n",
       "    </tr>\n",
       "    <tr>\n",
       "      <th>19</th>\n",
       "      <td>아웃사이드더와이어</td>\n",
       "      <td>둘러보</td>\n",
       "      <td>0</td>\n",
       "    </tr>\n",
       "    <tr>\n",
       "      <th>20</th>\n",
       "      <td>프리가이</td>\n",
       "      <td>둘러보</td>\n",
       "      <td>0</td>\n",
       "    </tr>\n",
       "    <tr>\n",
       "      <th>21</th>\n",
       "      <td>캐시트럭</td>\n",
       "      <td>둘러보</td>\n",
       "      <td>0</td>\n",
       "    </tr>\n",
       "    <tr>\n",
       "      <th>22</th>\n",
       "      <td>아이돌받아쓰기대회</td>\n",
       "      <td>둘러보</td>\n",
       "      <td>0</td>\n",
       "    </tr>\n",
       "    <tr>\n",
       "      <th>25</th>\n",
       "      <td>어른들은몰라요</td>\n",
       "      <td>둘러보</td>\n",
       "      <td>0</td>\n",
       "    </tr>\n",
       "    <tr>\n",
       "      <th>26</th>\n",
       "      <td>오늘부터히어로</td>\n",
       "      <td>둘러보</td>\n",
       "      <td>0</td>\n",
       "    </tr>\n",
       "    <tr>\n",
       "      <th>29</th>\n",
       "      <td>진격의거인TheFinalSeason</td>\n",
       "      <td>둘러보</td>\n",
       "      <td>0</td>\n",
       "    </tr>\n",
       "    <tr>\n",
       "      <th>30</th>\n",
       "      <td>도시남녀의사랑법</td>\n",
       "      <td>둘러보</td>\n",
       "      <td>0</td>\n",
       "    </tr>\n",
       "    <tr>\n",
       "      <th>31</th>\n",
       "      <td>1987</td>\n",
       "      <td>둘러보</td>\n",
       "      <td>0</td>\n",
       "    </tr>\n",
       "    <tr>\n",
       "      <th>32</th>\n",
       "      <td>제미니맨</td>\n",
       "      <td>둘러보</td>\n",
       "      <td>0</td>\n",
       "    </tr>\n",
       "    <tr>\n",
       "      <th>34</th>\n",
       "      <td>콰이어트플레이스2</td>\n",
       "      <td>둘러보</td>\n",
       "      <td>0</td>\n",
       "    </tr>\n",
       "    <tr>\n",
       "      <th>35</th>\n",
       "      <td>나이브스아웃</td>\n",
       "      <td>둘러보</td>\n",
       "      <td>0</td>\n",
       "    </tr>\n",
       "    <tr>\n",
       "      <th>37</th>\n",
       "      <td>결혼작사이혼작곡</td>\n",
       "      <td>둘러보</td>\n",
       "      <td>0</td>\n",
       "    </tr>\n",
       "    <tr>\n",
       "      <th>39</th>\n",
       "      <td>브리저튼</td>\n",
       "      <td>둘러보</td>\n",
       "      <td>0</td>\n",
       "    </tr>\n",
       "    <tr>\n",
       "      <th>41</th>\n",
       "      <td>작은아씨들</td>\n",
       "      <td>둘러보</td>\n",
       "      <td>0</td>\n",
       "    </tr>\n",
       "    <tr>\n",
       "      <th>42</th>\n",
       "      <td>쓰리빌보드</td>\n",
       "      <td>둘러보</td>\n",
       "      <td>0</td>\n",
       "    </tr>\n",
       "    <tr>\n",
       "      <th>44</th>\n",
       "      <td>킬러의보디가드</td>\n",
       "      <td>둘러보</td>\n",
       "      <td>0</td>\n",
       "    </tr>\n",
       "    <tr>\n",
       "      <th>45</th>\n",
       "      <td>꽃다발같은사랑을했다</td>\n",
       "      <td>둘러보</td>\n",
       "      <td>0</td>\n",
       "    </tr>\n",
       "    <tr>\n",
       "      <th>46</th>\n",
       "      <td>더파더</td>\n",
       "      <td>둘러보</td>\n",
       "      <td>0</td>\n",
       "    </tr>\n",
       "    <tr>\n",
       "      <th>49</th>\n",
       "      <td>프라미싱영우먼</td>\n",
       "      <td>둘러보</td>\n",
       "      <td>0</td>\n",
       "    </tr>\n",
       "    <tr>\n",
       "      <th>51</th>\n",
       "      <td>차인표</td>\n",
       "      <td>둘러보</td>\n",
       "      <td>0</td>\n",
       "    </tr>\n",
       "    <tr>\n",
       "      <th>55</th>\n",
       "      <td>크롤</td>\n",
       "      <td>둘러보</td>\n",
       "      <td>0</td>\n",
       "    </tr>\n",
       "    <tr>\n",
       "      <th>56</th>\n",
       "      <td>아미오브더데드</td>\n",
       "      <td>둘러보</td>\n",
       "      <td>0</td>\n",
       "    </tr>\n",
       "    <tr>\n",
       "      <th>58</th>\n",
       "      <td>런치박스</td>\n",
       "      <td>둘러보</td>\n",
       "      <td>0</td>\n",
       "    </tr>\n",
       "    <tr>\n",
       "      <th>59</th>\n",
       "      <td>보이저스</td>\n",
       "      <td>둘러보</td>\n",
       "      <td>0</td>\n",
       "    </tr>\n",
       "    <tr>\n",
       "      <th>60</th>\n",
       "      <td>환승연애</td>\n",
       "      <td>둘러보</td>\n",
       "      <td>0</td>\n",
       "    </tr>\n",
       "    <tr>\n",
       "      <th>61</th>\n",
       "      <td>죽지않는인간들의밤</td>\n",
       "      <td>둘러보</td>\n",
       "      <td>0</td>\n",
       "    </tr>\n",
       "    <tr>\n",
       "      <th>63</th>\n",
       "      <td>상티넬</td>\n",
       "      <td>둘러보</td>\n",
       "      <td>0</td>\n",
       "    </tr>\n",
       "    <tr>\n",
       "      <th>64</th>\n",
       "      <td>블랙호크다운</td>\n",
       "      <td>둘러보</td>\n",
       "      <td>0</td>\n",
       "    </tr>\n",
       "    <tr>\n",
       "      <th>65</th>\n",
       "      <td>슬기로운의사생활2</td>\n",
       "      <td>둘러보</td>\n",
       "      <td>0</td>\n",
       "    </tr>\n",
       "    <tr>\n",
       "      <th>69</th>\n",
       "      <td>낙원의밤</td>\n",
       "      <td>둘러보</td>\n",
       "      <td>0</td>\n",
       "    </tr>\n",
       "    <tr>\n",
       "      <th>72</th>\n",
       "      <td>노바디</td>\n",
       "      <td>둘러보</td>\n",
       "      <td>0</td>\n",
       "    </tr>\n",
       "    <tr>\n",
       "      <th>73</th>\n",
       "      <td>오버로드</td>\n",
       "      <td>둘러보</td>\n",
       "      <td>0</td>\n",
       "    </tr>\n",
       "    <tr>\n",
       "      <th>74</th>\n",
       "      <td>러브앤몬스터스</td>\n",
       "      <td>둘러보</td>\n",
       "      <td>0</td>\n",
       "    </tr>\n",
       "    <tr>\n",
       "      <th>81</th>\n",
       "      <td>주술회전</td>\n",
       "      <td>둘러보</td>\n",
       "      <td>0</td>\n",
       "    </tr>\n",
       "    <tr>\n",
       "      <th>82</th>\n",
       "      <td>베스트오퍼</td>\n",
       "      <td>둘러보</td>\n",
       "      <td>0</td>\n",
       "    </tr>\n",
       "    <tr>\n",
       "      <th>83</th>\n",
       "      <td>중경삼림</td>\n",
       "      <td>둘러보</td>\n",
       "      <td>0</td>\n",
       "    </tr>\n",
       "    <tr>\n",
       "      <th>84</th>\n",
       "      <td>사운드오브메탈</td>\n",
       "      <td>둘러보</td>\n",
       "      <td>0</td>\n",
       "    </tr>\n",
       "    <tr>\n",
       "      <th>85</th>\n",
       "      <td>블라인드멜로디</td>\n",
       "      <td>둘러보</td>\n",
       "      <td>0</td>\n",
       "    </tr>\n",
       "    <tr>\n",
       "      <th>87</th>\n",
       "      <td>슈퍼미</td>\n",
       "      <td>둘러보</td>\n",
       "      <td>0</td>\n",
       "    </tr>\n",
       "    <tr>\n",
       "      <th>89</th>\n",
       "      <td>노매드랜드</td>\n",
       "      <td>둘러보</td>\n",
       "      <td>0</td>\n",
       "    </tr>\n",
       "    <tr>\n",
       "      <th>90</th>\n",
       "      <td>헌트</td>\n",
       "      <td>둘러보</td>\n",
       "      <td>0</td>\n",
       "    </tr>\n",
       "    <tr>\n",
       "      <th>91</th>\n",
       "      <td>제8일의밤</td>\n",
       "      <td>둘러보</td>\n",
       "      <td>0</td>\n",
       "    </tr>\n",
       "    <tr>\n",
       "      <th>92</th>\n",
       "      <td>스트릿우먼파이터</td>\n",
       "      <td>둘러보</td>\n",
       "      <td>0</td>\n",
       "    </tr>\n",
       "    <tr>\n",
       "      <th>94</th>\n",
       "      <td>이스케이프룸2노웨이아웃</td>\n",
       "      <td>둘러보</td>\n",
       "      <td>0</td>\n",
       "    </tr>\n",
       "    <tr>\n",
       "      <th>95</th>\n",
       "      <td>선배그립스틱바르지마요</td>\n",
       "      <td>둘러보</td>\n",
       "      <td>0</td>\n",
       "    </tr>\n",
       "    <tr>\n",
       "      <th>97</th>\n",
       "      <td>어벤져스인피니티워</td>\n",
       "      <td>둘러보</td>\n",
       "      <td>0</td>\n",
       "    </tr>\n",
       "    <tr>\n",
       "      <th>98</th>\n",
       "      <td>범인은바로너시즌3</td>\n",
       "      <td>둘러보</td>\n",
       "      <td>0</td>\n",
       "    </tr>\n",
       "    <tr>\n",
       "      <th>99</th>\n",
       "      <td>킹덤아신전</td>\n",
       "      <td>둘러보</td>\n",
       "      <td>0</td>\n",
       "    </tr>\n",
       "    <tr>\n",
       "      <th>100</th>\n",
       "      <td>방법재차의</td>\n",
       "      <td>둘러보</td>\n",
       "      <td>0</td>\n",
       "    </tr>\n",
       "    <tr>\n",
       "      <th>102</th>\n",
       "      <td>어벤져스엔드게임</td>\n",
       "      <td>둘러보</td>\n",
       "      <td>0</td>\n",
       "    </tr>\n",
       "    <tr>\n",
       "      <th>103</th>\n",
       "      <td>극장판귀멸의칼날무한열차편</td>\n",
       "      <td>둘러보</td>\n",
       "      <td>0</td>\n",
       "    </tr>\n",
       "    <tr>\n",
       "      <th>106</th>\n",
       "      <td>그녀의이름은난노</td>\n",
       "      <td>둘러보</td>\n",
       "      <td>0</td>\n",
       "    </tr>\n",
       "    <tr>\n",
       "      <th>107</th>\n",
       "      <td>샤크더비기닝</td>\n",
       "      <td>둘러보</td>\n",
       "      <td>0</td>\n",
       "    </tr>\n",
       "    <tr>\n",
       "      <th>108</th>\n",
       "      <td>스파이더맨파프롬홈</td>\n",
       "      <td>둘러보</td>\n",
       "      <td>0</td>\n",
       "    </tr>\n",
       "    <tr>\n",
       "      <th>109</th>\n",
       "      <td>뤼팽</td>\n",
       "      <td>둘러보</td>\n",
       "      <td>0</td>\n",
       "    </tr>\n",
       "    <tr>\n",
       "      <th>110</th>\n",
       "      <td>내가사랑했던모든남자들에게</td>\n",
       "      <td>둘러보</td>\n",
       "      <td>0</td>\n",
       "    </tr>\n",
       "  </tbody>\n",
       "</table>\n",
       "</div>"
      ],
      "text/plain": [
       "              Unnamed: 0 search_num  Search\n",
       "0      어느날우리집현관으로멸망이들어왔다        둘러보       0\n",
       "2               콰이어트플레이스        둘러보       0\n",
       "6                    그린북        둘러보       0\n",
       "10                 소리도없이        둘러보       0\n",
       "11                 키싱부스3        둘러보       0\n",
       "12                  인간실격        둘러보       0\n",
       "14                 일상의관계        둘러보       0\n",
       "16                이스케이프룸        둘러보       0\n",
       "19             아웃사이드더와이어        둘러보       0\n",
       "20                  프리가이        둘러보       0\n",
       "21                  캐시트럭        둘러보       0\n",
       "22             아이돌받아쓰기대회        둘러보       0\n",
       "25               어른들은몰라요        둘러보       0\n",
       "26               오늘부터히어로        둘러보       0\n",
       "29   진격의거인TheFinalSeason        둘러보       0\n",
       "30              도시남녀의사랑법        둘러보       0\n",
       "31                  1987        둘러보       0\n",
       "32                  제미니맨        둘러보       0\n",
       "34             콰이어트플레이스2        둘러보       0\n",
       "35                나이브스아웃        둘러보       0\n",
       "37              결혼작사이혼작곡        둘러보       0\n",
       "39                  브리저튼        둘러보       0\n",
       "41                 작은아씨들        둘러보       0\n",
       "42                 쓰리빌보드        둘러보       0\n",
       "44               킬러의보디가드        둘러보       0\n",
       "45            꽃다발같은사랑을했다        둘러보       0\n",
       "46                   더파더        둘러보       0\n",
       "49               프라미싱영우먼        둘러보       0\n",
       "51                   차인표        둘러보       0\n",
       "55                    크롤        둘러보       0\n",
       "56               아미오브더데드        둘러보       0\n",
       "58                  런치박스        둘러보       0\n",
       "59                  보이저스        둘러보       0\n",
       "60                  환승연애        둘러보       0\n",
       "61             죽지않는인간들의밤        둘러보       0\n",
       "63                   상티넬        둘러보       0\n",
       "64                블랙호크다운        둘러보       0\n",
       "65             슬기로운의사생활2        둘러보       0\n",
       "69                  낙원의밤        둘러보       0\n",
       "72                   노바디        둘러보       0\n",
       "73                  오버로드        둘러보       0\n",
       "74               러브앤몬스터스        둘러보       0\n",
       "81                  주술회전        둘러보       0\n",
       "82                 베스트오퍼        둘러보       0\n",
       "83                  중경삼림        둘러보       0\n",
       "84               사운드오브메탈        둘러보       0\n",
       "85               블라인드멜로디        둘러보       0\n",
       "87                   슈퍼미        둘러보       0\n",
       "89                 노매드랜드        둘러보       0\n",
       "90                    헌트        둘러보       0\n",
       "91                 제8일의밤        둘러보       0\n",
       "92              스트릿우먼파이터        둘러보       0\n",
       "94          이스케이프룸2노웨이아웃        둘러보       0\n",
       "95           선배그립스틱바르지마요        둘러보       0\n",
       "97             어벤져스인피니티워        둘러보       0\n",
       "98             범인은바로너시즌3        둘러보       0\n",
       "99                 킹덤아신전        둘러보       0\n",
       "100                방법재차의        둘러보       0\n",
       "102             어벤져스엔드게임        둘러보       0\n",
       "103        극장판귀멸의칼날무한열차편        둘러보       0\n",
       "106             그녀의이름은난노        둘러보       0\n",
       "107               샤크더비기닝        둘러보       0\n",
       "108            스파이더맨파프롬홈        둘러보       0\n",
       "109                   뤼팽        둘러보       0\n",
       "110        내가사랑했던모든남자들에게        둘러보       0"
      ]
     },
     "execution_count": 15,
     "metadata": {},
     "output_type": "execute_result"
    }
   ],
   "source": [
    "# df = pd.read_csv('./toy_proj/facebook_crawl_data.csv')\n",
    "pd.set_option('display.max_row', 500)\n",
    "\n",
    "df[df['search_num'] == '둘러보']"
   ]
  },
  {
   "cell_type": "code",
   "execution_count": 257,
   "id": "843ae20b",
   "metadata": {
    "ExecuteTime": {
     "end_time": "2021-10-01T08:22:05.185748Z",
     "start_time": "2021-10-01T08:22:05.171784Z"
    }
   },
   "outputs": [],
   "source": [
    "f_search.drop(['Search'], axis = 1, inplace = True)"
   ]
  }
 ],
 "metadata": {
  "celltoolbar": "Edit Metadata",
  "kernelspec": {
   "display_name": "Python 3",
   "language": "python",
   "name": "python3"
  },
  "language_info": {
   "codemirror_mode": {
    "name": "ipython",
    "version": 3
   },
   "file_extension": ".py",
   "mimetype": "text/x-python",
   "name": "python",
   "nbconvert_exporter": "python",
   "pygments_lexer": "ipython3",
   "version": "3.8.8"
  },
  "toc": {
   "base_numbering": 1,
   "nav_menu": {},
   "number_sections": true,
   "sideBar": true,
   "skip_h1_title": false,
   "title_cell": "Table of Contents",
   "title_sidebar": "Contents",
   "toc_cell": false,
   "toc_position": {},
   "toc_section_display": true,
   "toc_window_display": false
  },
  "varInspector": {
   "cols": {
    "lenName": 16,
    "lenType": 16,
    "lenVar": 40
   },
   "kernels_config": {
    "python": {
     "delete_cmd_postfix": "",
     "delete_cmd_prefix": "del ",
     "library": "var_list.py",
     "varRefreshCmd": "print(var_dic_list())"
    },
    "r": {
     "delete_cmd_postfix": ") ",
     "delete_cmd_prefix": "rm(",
     "library": "var_list.r",
     "varRefreshCmd": "cat(var_dic_list()) "
    }
   },
   "types_to_exclude": [
    "module",
    "function",
    "builtin_function_or_method",
    "instance",
    "_Feature"
   ],
   "window_display": false
  }
 },
 "nbformat": 4,
 "nbformat_minor": 5
}

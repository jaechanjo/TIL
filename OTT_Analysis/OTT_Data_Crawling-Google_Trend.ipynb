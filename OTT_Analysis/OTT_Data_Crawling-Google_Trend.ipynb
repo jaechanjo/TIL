{
 "cells": [
  {
   "cell_type": "code",
   "execution_count": 2,
   "id": "8885166c",
   "metadata": {
    "ExecuteTime": {
     "end_time": "2021-10-03T11:59:34.776555Z",
     "start_time": "2021-10-03T11:59:30.106859Z"
    }
   },
   "outputs": [],
   "source": [
    "import pandas as pd\n",
    "import numpy as np\n",
    "import matplotlib.pyplot as plt\n",
    "import seaborn as sns\n",
    "import requests\n",
    "import json\n",
    "import time\n",
    "from pandas.io.json import json_normalize\n",
    "from bs4 import BeautifulSoup"
   ]
  },
  {
   "cell_type": "code",
   "execution_count": 3,
   "id": "72e5b46b",
   "metadata": {
    "ExecuteTime": {
     "end_time": "2021-10-03T11:59:37.876830Z",
     "start_time": "2021-10-03T11:59:37.694730Z"
    }
   },
   "outputs": [],
   "source": [
    "from selenium import webdriver\n",
    "from selenium.webdriver.common.keys import Keys\n",
    "from selenium.webdriver.support.ui import WebDriverWait\n",
    "from selenium.webdriver.support import expected_conditions as EC\n",
    "from selenium.webdriver.common.by import By\n",
    "from bs4 import BeautifulSoup"
   ]
  },
  {
   "cell_type": "code",
   "execution_count": 6,
   "id": "14f15532",
   "metadata": {
    "ExecuteTime": {
     "end_time": "2021-10-01T04:38:27.502693Z",
     "start_time": "2021-10-01T04:38:26.163856Z"
    }
   },
   "outputs": [],
   "source": [
    "driver = webdriver.Chrome('./chromedriver.exe')"
   ]
  },
  {
   "cell_type": "code",
   "execution_count": 7,
   "id": "6def0f44",
   "metadata": {
    "ExecuteTime": {
     "end_time": "2021-09-30T23:44:12.302079Z",
     "start_time": "2021-09-30T23:44:11.408088Z"
    }
   },
   "outputs": [],
   "source": [
    "url = 'https://m.kinolights.com/themes/18'\n",
    "driver.get(url)\n",
    "# response =requests.get(url)\n",
    "# response"
   ]
  },
  {
   "cell_type": "code",
   "execution_count": 109,
   "id": "d915abec",
   "metadata": {
    "ExecuteTime": {
     "end_time": "2021-09-30T03:27:44.190130Z",
     "start_time": "2021-09-30T03:27:44.137329Z"
    }
   },
   "outputs": [
    {
     "data": {
      "text/plain": [
       "<selenium.webdriver.remote.webelement.WebElement (session=\"d56d57d50359a97e1b0ec7d5fdf4c1d9\", element=\"a2b45e2c-b373-40d1-943a-02548c0b5551\")>"
      ]
     },
     "execution_count": 109,
     "metadata": {},
     "output_type": "execute_result"
    }
   ],
   "source": [
    "# driver.get(\"http://www.ncsl.org/research/transportation/autonomous-vehicles-legislative-database.aspx\")\n",
    "element = WebDriverWait(driver, 20).until(EC.element_to_be_clickable((By.XPATH, '//*[@id=\"contents\"]/div[2]/div/div[37]')))\n",
    "# driver.find_element_by_xpath('//*[@id=\"contents\"]/div[2]/div/div[37]').click()\n",
    "element"
   ]
  },
  {
   "cell_type": "code",
   "execution_count": 1,
   "id": "582ac28a",
   "metadata": {
    "ExecuteTime": {
     "end_time": "2021-10-06T11:28:38.183782Z",
     "start_time": "2021-10-06T11:28:38.166869Z"
    }
   },
   "outputs": [],
   "source": [
    "# # 스크롤링 특정 위치까지 적용\n",
    "\n",
    "# from selenium import webdriver\n",
    "# from selenium.webdriver.common.action_chains import ActionChains\n",
    "\n",
    "# target = driver.find_element_by_xpath('//*[@id=\"contents\"]/div[2]/div/div[37]')\n",
    "# actions = ActionChains(driver)\n",
    "# actions.move_to_element(target)\n",
    "# actions.perform()\n",
    "\n",
    "# 지점 정하기 (1부터 시작할 때)\n",
    "\n",
    "# //*[@id=\"contents\"]/div[2]/div/div[16]\n",
    "# //*[@id=\"contents\"]/div[2]/div/div[32]\n",
    "# //*[@id=\"contents\"]/div[2]/div/div[37]"
   ]
  },
  {
   "cell_type": "code",
   "execution_count": 159,
   "id": "14fd023f",
   "metadata": {
    "ExecuteTime": {
     "end_time": "2021-09-30T05:44:14.938318Z",
     "start_time": "2021-09-30T05:44:14.869241Z"
    }
   },
   "outputs": [],
   "source": [
    "from selenium import webdriver\n",
    "from selenium.webdriver.common.keys import Keys \n",
    "\n",
    "# driver = webdriver.Chrome()\n",
    "# driver.get('http://www.w3schools.com/')\n",
    "driver.find_element_by_tag_name('body').send_keys(Keys.PAGE_DOWN) # Use send_keys(Keys.HOME) to scroll up to the top of page"
   ]
  },
  {
   "cell_type": "code",
   "execution_count": 2,
   "id": "784ac173",
   "metadata": {
    "ExecuteTime": {
     "end_time": "2021-10-06T11:28:44.722649Z",
     "start_time": "2021-10-06T11:28:44.717654Z"
    }
   },
   "outputs": [],
   "source": [
    "# 각각 주차 들어갔다 나오기 해보기\n",
    "\n",
    "driver.find_element_by_xpath(f'//*[@id=\"contents\"]/div[2]/div/div[37]/a/div[2]/div/div/span').click()\n",
    "driver.find_element_by_xpath(f'//*[@id=\"header\"]/div/button[1]').click()"
   ]
  },
  {
   "cell_type": "code",
   "execution_count": null,
   "id": "65e7b7ba",
   "metadata": {},
   "outputs": [],
   "source": [
    "# 티빙 타이틀 따오기\n",
    "tot_title = []\n",
    "title = []\n",
    "\n",
    "driver.find_element_by_xpath('//*[@id=\"triggerMenu\"]/div/div[1]/div/div/button[4]').click()\n",
    "\n",
    "html = BeautifulSoup(driver.page_source, 'html.parser')\n",
    "\n",
    "for title in html.select('div.title'):\n",
    "    title.append(title.text)\n",
    "    \n",
    "tot_title.append(title)\n",
    "\n",
    "driver.find_element_by_xpath('//*[@id=\"triggerMenu\"]/div/div[1]/div/div/button[4]').click()"
   ]
  },
  {
   "cell_type": "code",
   "execution_count": null,
   "id": "b5795950",
   "metadata": {},
   "outputs": [],
   "source": [
    "# 넷플릭스 타이틀 따오기\n",
    "\n",
    "tot_title = []\n",
    "title = []\n",
    "\n",
    "driver.find_element_by_xpath('//*[@id=\"triggerMenu\"]/div/div[1]/div/div/button[1]').click()\n",
    "\n",
    "html = BeautifulSoup(driver.page_source, 'html.parser')\n",
    "\n",
    "for title in html.select('div.title'):\n",
    "    title.append(title.text)\n",
    "    \n",
    "tot_title.append(title)\n",
    "\n",
    "driver.find_element_by_xpath('//*[@id=\"triggerMenu\"]/div/div[1]/div/div/button[1]').click()"
   ]
  },
  {
   "cell_type": "code",
   "execution_count": 11,
   "id": "82a20ac8",
   "metadata": {
    "ExecuteTime": {
     "end_time": "2021-10-01T00:02:42.889984Z",
     "start_time": "2021-10-01T00:02:42.839920Z"
    }
   },
   "outputs": [],
   "source": [
    "# html.select('div.title')\n",
    "\n",
    "# driver.find_element_by_tag_name('body').send_keys(Keys.PAGE_DOWN)\n",
    "driver.find_element_by_tag_name('body').send_keys(Keys.PAGE_DOWN)"
   ]
  },
  {
   "cell_type": "code",
   "execution_count": 13,
   "id": "2f730e2b",
   "metadata": {
    "ExecuteTime": {
     "end_time": "2021-10-01T00:13:21.976264Z",
     "start_time": "2021-10-01T00:03:01.112599Z"
    }
   },
   "outputs": [
    {
     "name": "stdout",
     "output_type": "stream",
     "text": [
      "1번째 크롤링 중입니다.\n",
      "2번째 크롤링 중입니다.\n",
      "3번째 크롤링 중입니다.\n",
      "4번째 크롤링 중입니다.\n",
      "5번째 크롤링 중입니다.\n",
      "6번째 크롤링 중입니다.\n",
      "7번째 크롤링 중입니다.\n",
      "8번째 크롤링 중입니다.\n",
      "9번째 크롤링 중입니다.\n",
      "10번째 크롤링 중입니다.\n",
      "11번째 크롤링 중입니다.\n",
      "12번째 크롤링 중입니다.\n",
      "13번째 크롤링 중입니다.\n",
      "14번째 크롤링 중입니다.\n",
      "15번째 크롤링 중입니다.\n",
      "16번째 크롤링 중입니다.\n",
      "17번째 크롤링 중입니다.\n",
      "18번째 크롤링 중입니다.\n",
      "19번째 크롤링 중입니다.\n",
      "20번째 크롤링 중입니다.\n",
      "21번째 크롤링 중입니다.\n",
      "22번째 크롤링 중입니다.\n",
      "23번째 크롤링 중입니다.\n",
      "24번째 크롤링 중입니다.\n",
      "25번째 크롤링 중입니다.\n",
      "26번째 크롤링 중입니다.\n",
      "27번째 크롤링 중입니다.\n",
      "28번째 크롤링 중입니다.\n",
      "29번째 크롤링 중입니다.\n",
      "30번째 크롤링 중입니다.\n",
      "31번째 크롤링 중입니다.\n",
      "32번째 크롤링 중입니다.\n",
      "33번째 크롤링 중입니다.\n",
      "34번째 크롤링 중입니다.\n",
      "35번째 크롤링 중입니다.\n",
      "36번째 크롤링 중입니다.\n",
      "37번째 크롤링 중입니다.\n"
     ]
    }
   ],
   "source": [
    "# 합치기 \n",
    "\n",
    "driver.find_element_by_tag_name('body').send_keys(Keys.HOME)\n",
    "time.sleep(10)\n",
    "\n",
    "tving = []\n",
    "netflix = []\n",
    "\n",
    "for i in range(1,37+1):\n",
    "    \n",
    "    if i in [17, 33]:\n",
    "        time.sleep(2)\n",
    "        driver.find_element_by_tag_name('body').send_keys(Keys.PAGE_DOWN)\n",
    "        time.sleep(3)\n",
    "    \n",
    "    print(f\"{i}번째 크롤링 중입니다.\")\n",
    "    \n",
    "    #들어가기\n",
    "    driver.find_element_by_xpath(f'//*[@id=\"contents\"]/div[2]/div/div[{i}]').click()\n",
    "\n",
    "    time.sleep(2)\n",
    "    \n",
    "    # 티빙\n",
    "\n",
    "    driver.find_element_by_xpath('//*[@id=\"triggerMenu\"]/div/div[1]/div/div/button[4]').click() #누르고\n",
    "    time.sleep(2)\n",
    "    \n",
    "    html = BeautifulSoup(driver.page_source, 'html.parser')\n",
    "    for name in html.select('div.title'):\n",
    "        tving.append(name.text.strip())\n",
    "    \n",
    "    time.sleep(2)\n",
    "    driver.find_element_by_xpath('//*[@id=\"triggerMenu\"]/div/div[1]/div/div/button[4]').click() #끄고\n",
    "\n",
    "    # 넷플릭스\n",
    "    \n",
    "    time.sleep(2)\n",
    "    driver.find_element_by_xpath('//*[@id=\"triggerMenu\"]/div/div[1]/div/div/button[1]').click() #누르고\n",
    "    time.sleep(2)\n",
    "    \n",
    "    html = BeautifulSoup(driver.page_source, 'html.parser')\n",
    "    \n",
    "    for name in html.select('div.title'):\n",
    "        netflix.append(name.text.strip())\n",
    "    \n",
    "    time.sleep(2)\n",
    "    driver.find_element_by_xpath('//*[@id=\"triggerMenu\"]/div/div[1]/div/div/button[1]').click() #끄고\n",
    "    time.sleep(2)\n",
    "    #나오기\n",
    "    driver.find_element_by_xpath(f'//*[@id=\"header\"]/div/button[1]').click() #나오고\n",
    "    time.sleep(2)"
   ]
  },
  {
   "cell_type": "code",
   "execution_count": 14,
   "id": "e9a7779d",
   "metadata": {
    "ExecuteTime": {
     "end_time": "2021-10-01T00:15:27.425069Z",
     "start_time": "2021-10-01T00:15:27.417091Z"
    }
   },
   "outputs": [
    {
     "data": {
      "text/plain": [
       "235"
      ]
     },
     "execution_count": 14,
     "metadata": {},
     "output_type": "execute_result"
    }
   ],
   "source": [
    "len(tving)"
   ]
  },
  {
   "cell_type": "code",
   "execution_count": 15,
   "id": "5997185e",
   "metadata": {
    "ExecuteTime": {
     "end_time": "2021-10-01T00:15:30.408243Z",
     "start_time": "2021-10-01T00:15:30.404219Z"
    }
   },
   "outputs": [
    {
     "data": {
      "text/plain": [
       "111"
      ]
     },
     "execution_count": 15,
     "metadata": {},
     "output_type": "execute_result"
    }
   ],
   "source": [
    "len(netflix)"
   ]
  },
  {
   "cell_type": "code",
   "execution_count": 16,
   "id": "69616955",
   "metadata": {
    "ExecuteTime": {
     "end_time": "2021-10-01T00:15:34.502284Z",
     "start_time": "2021-10-01T00:15:34.486309Z"
    }
   },
   "outputs": [],
   "source": [
    "df = pd.DataFrame(tving,\n",
    "                 columns = ['tving'])\n",
    "df2 = pd.DataFrame(netflix,\n",
    "                 columns = ['netflix'])"
   ]
  },
  {
   "cell_type": "code",
   "execution_count": 17,
   "id": "0081e3da",
   "metadata": {
    "ExecuteTime": {
     "end_time": "2021-10-01T00:15:36.460635Z",
     "start_time": "2021-10-01T00:15:36.452657Z"
    }
   },
   "outputs": [
    {
     "data": {
      "text/plain": [
       "극장판 귀멸의 칼날: 무한열차편    18\n",
       "소울                   11\n",
       "미나리                  11\n",
       "크루엘라                 11\n",
       "블랙 위도우                9\n",
       "                     ..\n",
       "유 퀴즈 온 더 블럭           1\n",
       "1987                  1\n",
       "윤스테이                  1\n",
       "프리 가이                 1\n",
       "담보                    1\n",
       "Name: tving, Length: 85, dtype: int64"
      ]
     },
     "execution_count": 17,
     "metadata": {},
     "output_type": "execute_result"
    }
   ],
   "source": [
    "# df['tving'] = tving\n",
    "# df.drop('netflix', axis =1, inplace = True)\n",
    "df['tving'].value_counts()"
   ]
  },
  {
   "cell_type": "code",
   "execution_count": 18,
   "id": "72431fcc",
   "metadata": {
    "ExecuteTime": {
     "end_time": "2021-10-01T00:15:38.484486Z",
     "start_time": "2021-10-01T00:15:38.476507Z"
    }
   },
   "outputs": [
    {
     "data": {
      "text/plain": [
       "괴물                               8\n",
       "귀멸의 칼날                           7\n",
       "진격의 거인 The Final Season          6\n",
       "경이로운 소문                          5\n",
       "빈센조                              5\n",
       "그녀의 이름은 난노 시즌 1                  4\n",
       "어른들은 몰라요                         4\n",
       "시지프스 : the myth                  4\n",
       "삼진그룹 영어토익반                       3\n",
       "승리호                              3\n",
       "결혼작사 이혼작곡                        3\n",
       "강철부대                             3\n",
       "이스케이프 룸                          3\n",
       "도시남녀의 사랑법                        3\n",
       "D.P.                             2\n",
       "브리저튼                             2\n",
       "낙원의 밤                            2\n",
       "슬기로운 의사생활 2                      2\n",
       "로스쿨                              2\n",
       "블라인드 멜로디                         2\n",
       "헌트                               2\n",
       "스위트 홈                            2\n",
       "런 온                              2\n",
       "원더 우먼                            1\n",
       "새콤달콤                             1\n",
       "뤼팽 파트 1                          1\n",
       "스파이더맨: 파 프롬 홈                    1\n",
       "오늘부터 히어로                         1\n",
       "제8일의 밤                           1\n",
       "알고있지만,                           1\n",
       "슈퍼 미                             1\n",
       "극한직업                             1\n",
       "차인표                              1\n",
       "죽지않는 인간들의 밤                      1\n",
       "범인은 바로 너! 시즌 3                   1\n",
       "블랙 호크 다운                         1\n",
       "제미니 맨                            1\n",
       "오징어 게임                           1\n",
       "스파이더맨                            1\n",
       "나이브스 아웃                          1\n",
       "마인                               1\n",
       "상티넬                              1\n",
       "키싱 부스 3                          1\n",
       "킹덤: 아신전                          1\n",
       "러브 앤 몬스터스                        1\n",
       "1987                             1\n",
       "페이트: 윙스의 전설                      1\n",
       "내가 사랑했던 모든 남자들에게: 언제나 그리고 영원히    1\n",
       "선배, 그 립스틱 바르지 마요                 1\n",
       "오버로드                             1\n",
       "아웃사이드 더 와이어                      1\n",
       "크롤                               1\n",
       "아미 오브 더 데드                       1\n",
       "아이                               1\n",
       "갯마을 차차차                          1\n",
       "Name: netflix, dtype: int64"
      ]
     },
     "execution_count": 18,
     "metadata": {},
     "output_type": "execute_result"
    }
   ],
   "source": [
    "df2['netflix'].value_counts()"
   ]
  },
  {
   "cell_type": "code",
   "execution_count": 19,
   "id": "cbb1bb77",
   "metadata": {
    "ExecuteTime": {
     "end_time": "2021-10-01T00:15:42.552419Z",
     "start_time": "2021-10-01T00:15:42.546073Z"
    }
   },
   "outputs": [
    {
     "data": {
      "text/plain": [
       "85"
      ]
     },
     "execution_count": 19,
     "metadata": {},
     "output_type": "execute_result"
    }
   ],
   "source": [
    "len(list(df['tving'].unique()))"
   ]
  },
  {
   "cell_type": "code",
   "execution_count": 20,
   "id": "c1779709",
   "metadata": {
    "ExecuteTime": {
     "end_time": "2021-10-01T00:15:45.125184Z",
     "start_time": "2021-10-01T00:15:45.119202Z"
    }
   },
   "outputs": [
    {
     "data": {
      "text/plain": [
       "['갯마을 차차차',\n",
       " '유미의 세포들',\n",
       " '미나리',\n",
       " '환승연애',\n",
       " '스트릿 우먼 파이터',\n",
       " '인간실격',\n",
       " '블랙 위도우',\n",
       " '인질',\n",
       " '꽃다발 같은 사랑을 했다',\n",
       " '스파이더맨',\n",
       " '알라딘',\n",
       " '싱크홀',\n",
       " '작은 아씨들',\n",
       " '악의 꽃',\n",
       " '프리 가이',\n",
       " '크루엘라',\n",
       " '방법: 재차의',\n",
       " '루카',\n",
       " '이스케이프 룸 2: 노 웨이 아웃',\n",
       " '베스트 오퍼',\n",
       " '극장판 귀멸의 칼날: 무한열차편',\n",
       " '분노의 질주: 더 얼티메이트',\n",
       " '어벤져스: 엔드게임',\n",
       " '이스케이프 룸',\n",
       " '발신제한',\n",
       " '콰이어트 플레이스 2',\n",
       " '콰이어트 플레이스',\n",
       " '곡성(哭聲)',\n",
       " '악마판사',\n",
       " '어벤져스: 인피니티 워',\n",
       " '어벤져스',\n",
       " '킬러의 보디가드',\n",
       " '간 떨어지는 동거',\n",
       " '쓰리 빌보드',\n",
       " '샤크 : 더 비기닝',\n",
       " '알고있지만,',\n",
       " '슬기로운 의사생활 2',\n",
       " '파이프라인',\n",
       " '크롤',\n",
       " '캐시트럭',\n",
       " '어느 날 우리 집 현관으로 멸망이 들어왔다',\n",
       " '아이돌 받아쓰기 대회',\n",
       " '보이저스',\n",
       " '블랙 호크 다운',\n",
       " '로스쿨',\n",
       " '마우스',\n",
       " '노바디',\n",
       " '어른들은 몰라요',\n",
       " '제미니 맨',\n",
       " '마인',\n",
       " '아이',\n",
       " '강철부대',\n",
       " '소울',\n",
       " '스파이더맨: 파 프롬 홈',\n",
       " '빈센조',\n",
       " '노매드랜드',\n",
       " '사운드 오브 메탈',\n",
       " '프라미싱 영 우먼',\n",
       " '서복',\n",
       " '괴물',\n",
       " '런',\n",
       " '자산어보',\n",
       " '더 파더',\n",
       " '유 퀴즈 온 더 블럭',\n",
       " '일상의 관계',\n",
       " '그린 북',\n",
       " '런치박스',\n",
       " '중경삼림',\n",
       " '시지프스 : the myth',\n",
       " '귀멸의 칼날',\n",
       " '선배, 그 립스틱 바르지 마요',\n",
       " '나이브스 아웃',\n",
       " '1987',\n",
       " '극한직업',\n",
       " '진격의 거인 The Final Season',\n",
       " '죽지않는 인간들의 밤',\n",
       " '삼진그룹 영어토익반',\n",
       " '소리도 없이',\n",
       " '경이로운 소문',\n",
       " '헌트',\n",
       " '주술회전',\n",
       " '런 온',\n",
       " '윤스테이',\n",
       " '담보',\n",
       " '백두산']"
      ]
     },
     "execution_count": 20,
     "metadata": {},
     "output_type": "execute_result"
    }
   ],
   "source": [
    "t_uniq = list(df['tving'].unique())\n",
    "t_uniq"
   ]
  },
  {
   "cell_type": "code",
   "execution_count": 21,
   "id": "679f8524",
   "metadata": {
    "ExecuteTime": {
     "end_time": "2021-10-01T00:15:48.606420Z",
     "start_time": "2021-10-01T00:15:48.600436Z"
    }
   },
   "outputs": [
    {
     "data": {
      "text/plain": [
       "55"
      ]
     },
     "execution_count": 21,
     "metadata": {},
     "output_type": "execute_result"
    }
   ],
   "source": [
    "len(list(df2['netflix'].unique()))"
   ]
  },
  {
   "cell_type": "code",
   "execution_count": 31,
   "id": "9fc20bf9",
   "metadata": {
    "ExecuteTime": {
     "end_time": "2021-10-01T00:21:46.027223Z",
     "start_time": "2021-10-01T00:21:46.022208Z"
    }
   },
   "outputs": [
    {
     "data": {
      "text/plain": [
       "['오징어 게임',\n",
       " '갯마을 차차차',\n",
       " 'D.P.',\n",
       " '스파이더맨',\n",
       " '키싱 부스 3',\n",
       " '킹덤: 아신전',\n",
       " '이스케이프 룸',\n",
       " '제8일의 밤',\n",
       " '그녀의 이름은 난노 시즌 1',\n",
       " '블라인드 멜로디',\n",
       " '알고있지만,',\n",
       " '슬기로운 의사생활 2',\n",
       " '크롤',\n",
       " '새콤달콤',\n",
       " '아미 오브 더 데드',\n",
       " '블랙 호크 다운',\n",
       " '로스쿨',\n",
       " '어른들은 몰라요',\n",
       " '제미니 맨',\n",
       " '마인',\n",
       " '슈퍼 미',\n",
       " '아이',\n",
       " '강철부대',\n",
       " '스파이더맨: 파 프롬 홈',\n",
       " '빈센조',\n",
       " '괴물',\n",
       " '낙원의 밤',\n",
       " '러브 앤 몬스터스',\n",
       " '시지프스 : the myth',\n",
       " '원더 우먼',\n",
       " '귀멸의 칼날',\n",
       " '선배, 그 립스틱 바르지 마요',\n",
       " '상티넬',\n",
       " '나이브스 아웃',\n",
       " '1987',\n",
       " '극한직업',\n",
       " '진격의 거인 The Final Season',\n",
       " '승리호',\n",
       " '결혼작사 이혼작곡',\n",
       " '도시남녀의 사랑법',\n",
       " '내가 사랑했던 모든 남자들에게: 언제나 그리고 영원히',\n",
       " '죽지않는 인간들의 밤',\n",
       " '브리저튼',\n",
       " '삼진그룹 영어토익반',\n",
       " '경이로운 소문',\n",
       " '헌트',\n",
       " '아웃사이드 더 와이어',\n",
       " '범인은 바로 너! 시즌 3',\n",
       " '런 온',\n",
       " '페이트: 윙스의 전설',\n",
       " '스위트 홈',\n",
       " '뤼팽 파트 1',\n",
       " '오늘부터 히어로',\n",
       " '차인표',\n",
       " '오버로드']"
      ]
     },
     "execution_count": 31,
     "metadata": {},
     "output_type": "execute_result"
    }
   ],
   "source": [
    "n_uniq = list(df2['netflix'].unique())\n",
    "n_uniq"
   ]
  },
  {
   "cell_type": "code",
   "execution_count": 88,
   "id": "4074d656",
   "metadata": {
    "ExecuteTime": {
     "end_time": "2021-10-01T00:54:47.230336Z",
     "start_time": "2021-10-01T00:54:47.227338Z"
    }
   },
   "outputs": [],
   "source": [
    "df_f = list(set(t_uniq + n_uniq))"
   ]
  },
  {
   "cell_type": "code",
   "execution_count": 89,
   "id": "5db9c68b",
   "metadata": {
    "ExecuteTime": {
     "end_time": "2021-10-01T00:54:47.661621Z",
     "start_time": "2021-10-01T00:54:47.651221Z"
    }
   },
   "outputs": [
    {
     "data": {
      "text/html": [
       "<div>\n",
       "<style scoped>\n",
       "    .dataframe tbody tr th:only-of-type {\n",
       "        vertical-align: middle;\n",
       "    }\n",
       "\n",
       "    .dataframe tbody tr th {\n",
       "        vertical-align: top;\n",
       "    }\n",
       "\n",
       "    .dataframe thead th {\n",
       "        text-align: right;\n",
       "    }\n",
       "</style>\n",
       "<table border=\"1\" class=\"dataframe\">\n",
       "  <thead>\n",
       "    <tr style=\"text-align: right;\">\n",
       "      <th></th>\n",
       "      <th>t_n_unique</th>\n",
       "    </tr>\n",
       "  </thead>\n",
       "  <tbody>\n",
       "    <tr>\n",
       "      <th>0</th>\n",
       "      <td>어느 날 우리 집 현관으로 멸망이 들어왔다</td>\n",
       "    </tr>\n",
       "    <tr>\n",
       "      <th>1</th>\n",
       "      <td>원더 우먼</td>\n",
       "    </tr>\n",
       "    <tr>\n",
       "      <th>2</th>\n",
       "      <td>콰이어트 플레이스</td>\n",
       "    </tr>\n",
       "    <tr>\n",
       "      <th>3</th>\n",
       "      <td>알고있지만,</td>\n",
       "    </tr>\n",
       "    <tr>\n",
       "      <th>4</th>\n",
       "      <td>이스케이프 룸 2: 노 웨이 아웃</td>\n",
       "    </tr>\n",
       "    <tr>\n",
       "      <th>...</th>\n",
       "      <td>...</td>\n",
       "    </tr>\n",
       "    <tr>\n",
       "      <th>107</th>\n",
       "      <td>뤼팽 파트 1</td>\n",
       "    </tr>\n",
       "    <tr>\n",
       "      <th>108</th>\n",
       "      <td>헌트</td>\n",
       "    </tr>\n",
       "    <tr>\n",
       "      <th>109</th>\n",
       "      <td>곡성(哭聲)</td>\n",
       "    </tr>\n",
       "    <tr>\n",
       "      <th>110</th>\n",
       "      <td>제8일의 밤</td>\n",
       "    </tr>\n",
       "    <tr>\n",
       "      <th>111</th>\n",
       "      <td>스트릿 우먼 파이터</td>\n",
       "    </tr>\n",
       "  </tbody>\n",
       "</table>\n",
       "<p>112 rows × 1 columns</p>\n",
       "</div>"
      ],
      "text/plain": [
       "                  t_n_unique\n",
       "0    어느 날 우리 집 현관으로 멸망이 들어왔다\n",
       "1                      원더 우먼\n",
       "2                  콰이어트 플레이스\n",
       "3                     알고있지만,\n",
       "4         이스케이프 룸 2: 노 웨이 아웃\n",
       "..                       ...\n",
       "107                  뤼팽 파트 1\n",
       "108                       헌트\n",
       "109                   곡성(哭聲)\n",
       "110                   제8일의 밤\n",
       "111               스트릿 우먼 파이터\n",
       "\n",
       "[112 rows x 1 columns]"
      ]
     },
     "execution_count": 89,
     "metadata": {},
     "output_type": "execute_result"
    }
   ],
   "source": [
    "df_f = pd.DataFrame(df_f, columns=['t_n_unique'])\n",
    "df_f"
   ]
  },
  {
   "cell_type": "code",
   "execution_count": 91,
   "id": "a37bac64",
   "metadata": {
    "ExecuteTime": {
     "end_time": "2021-10-01T00:56:35.120630Z",
     "start_time": "2021-10-01T00:56:35.115645Z"
    }
   },
   "outputs": [],
   "source": [
    "df_f.to_csv('./toy_proj/t_n_uniq.csv', encoding = 'utf-8-sig', index=False)"
   ]
  },
  {
   "cell_type": "code",
   "execution_count": 53,
   "id": "3ac89294",
   "metadata": {
    "ExecuteTime": {
     "end_time": "2021-10-01T00:31:18.844619Z",
     "start_time": "2021-10-01T00:31:18.838577Z"
    }
   },
   "outputs": [],
   "source": [
    "# df_c = pd.DataFrame(columns = ['netflix'])\n",
    "# df_concat['tving'] = t_uniq\n",
    "# df_c['netflix'] = n_uniq\n",
    "# df_concat['netflix'].notna().sum()\n",
    "\n",
    "# df_concat.drop(['netflix'], axis =1, inplace =True)\n",
    "# df_f = pd.concat([df_concat, df_c], axis = 1)\n",
    "# df_f\n",
    "# df_f.drop(['netflix'], axis =1)\n",
    "\n",
    "# df_concat.to_csv(\"./tving_unique.csv\", encoding='utf-8-sig')\n",
    "df_c.to_csv(\"./netflix_unique.csv\", encoding='utf-8-sig')\n"
   ]
  },
  {
   "cell_type": "code",
   "execution_count": 69,
   "id": "a5a2c153",
   "metadata": {
    "ExecuteTime": {
     "end_time": "2021-10-01T00:41:46.067256Z",
     "start_time": "2021-10-01T00:41:46.056722Z"
    }
   },
   "outputs": [
    {
     "data": {
      "text/html": [
       "<div>\n",
       "<style scoped>\n",
       "    .dataframe tbody tr th:only-of-type {\n",
       "        vertical-align: middle;\n",
       "    }\n",
       "\n",
       "    .dataframe tbody tr th {\n",
       "        vertical-align: top;\n",
       "    }\n",
       "\n",
       "    .dataframe thead th {\n",
       "        text-align: right;\n",
       "    }\n",
       "</style>\n",
       "<table border=\"1\" class=\"dataframe\">\n",
       "  <thead>\n",
       "    <tr style=\"text-align: right;\">\n",
       "      <th></th>\n",
       "      <th>Unnamed: 0</th>\n",
       "      <th>title</th>\n",
       "      <th>original</th>\n",
       "    </tr>\n",
       "  </thead>\n",
       "  <tbody>\n",
       "    <tr>\n",
       "      <th>0</th>\n",
       "      <td>1</td>\n",
       "      <td>경이로운 소문</td>\n",
       "      <td>0</td>\n",
       "    </tr>\n",
       "    <tr>\n",
       "      <th>1</th>\n",
       "      <td>2</td>\n",
       "      <td>백두산</td>\n",
       "      <td>1</td>\n",
       "    </tr>\n",
       "    <tr>\n",
       "      <th>2</th>\n",
       "      <td>3</td>\n",
       "      <td>런 온</td>\n",
       "      <td>0</td>\n",
       "    </tr>\n",
       "    <tr>\n",
       "      <th>3</th>\n",
       "      <td>4</td>\n",
       "      <td>윤스테이</td>\n",
       "      <td>1</td>\n",
       "    </tr>\n",
       "    <tr>\n",
       "      <th>4</th>\n",
       "      <td>5</td>\n",
       "      <td>담보</td>\n",
       "      <td>1</td>\n",
       "    </tr>\n",
       "  </tbody>\n",
       "</table>\n",
       "</div>"
      ],
      "text/plain": [
       "   Unnamed: 0    title  original\n",
       "0           1  경이로운 소문         0\n",
       "1           2      백두산         1\n",
       "2           3      런 온         0\n",
       "3           4     윤스테이         1\n",
       "4           5       담보         1"
      ]
     },
     "execution_count": 69,
     "metadata": {},
     "output_type": "execute_result"
    }
   ],
   "source": [
    "# n_test = pd.read_csv(\"./toy_proj/Netflix.csv\")\n",
    "t_test = pd.read_csv(\"./toy_proj/Tiving.csv\")\n",
    "t_test.head()"
   ]
  },
  {
   "cell_type": "code",
   "execution_count": 70,
   "id": "adf28ddd",
   "metadata": {
    "ExecuteTime": {
     "end_time": "2021-10-01T00:41:55.638490Z",
     "start_time": "2021-10-01T00:41:55.629514Z"
    }
   },
   "outputs": [
    {
     "data": {
      "text/html": [
       "<div>\n",
       "<style scoped>\n",
       "    .dataframe tbody tr th:only-of-type {\n",
       "        vertical-align: middle;\n",
       "    }\n",
       "\n",
       "    .dataframe tbody tr th {\n",
       "        vertical-align: top;\n",
       "    }\n",
       "\n",
       "    .dataframe thead th {\n",
       "        text-align: right;\n",
       "    }\n",
       "</style>\n",
       "<table border=\"1\" class=\"dataframe\">\n",
       "  <thead>\n",
       "    <tr style=\"text-align: right;\">\n",
       "      <th></th>\n",
       "      <th>Unnamed: 0</th>\n",
       "      <th>title</th>\n",
       "      <th>original</th>\n",
       "    </tr>\n",
       "  </thead>\n",
       "  <tbody>\n",
       "    <tr>\n",
       "      <th>0</th>\n",
       "      <td>1</td>\n",
       "      <td>경이로운 소문</td>\n",
       "      <td>0</td>\n",
       "    </tr>\n",
       "    <tr>\n",
       "      <th>1</th>\n",
       "      <td>2</td>\n",
       "      <td>스위트 홈</td>\n",
       "      <td>1</td>\n",
       "    </tr>\n",
       "    <tr>\n",
       "      <th>2</th>\n",
       "      <td>3</td>\n",
       "      <td>차인표</td>\n",
       "      <td>1</td>\n",
       "    </tr>\n",
       "    <tr>\n",
       "      <th>3</th>\n",
       "      <td>4</td>\n",
       "      <td>오버로드</td>\n",
       "      <td>1</td>\n",
       "    </tr>\n",
       "    <tr>\n",
       "      <th>4</th>\n",
       "      <td>5</td>\n",
       "      <td>브리저튼</td>\n",
       "      <td>1</td>\n",
       "    </tr>\n",
       "  </tbody>\n",
       "</table>\n",
       "</div>"
      ],
      "text/plain": [
       "   Unnamed: 0    title  original\n",
       "0           1  경이로운 소문         0\n",
       "1           2    스위트 홈         1\n",
       "2           3      차인표         1\n",
       "3           4     오버로드         1\n",
       "4           5     브리저튼         1"
      ]
     },
     "execution_count": 70,
     "metadata": {},
     "output_type": "execute_result"
    }
   ],
   "source": [
    "n_test.head()"
   ]
  },
  {
   "cell_type": "code",
   "execution_count": 73,
   "id": "1b4066b2",
   "metadata": {
    "ExecuteTime": {
     "end_time": "2021-10-01T00:44:37.742109Z",
     "start_time": "2021-10-01T00:44:37.732067Z"
    }
   },
   "outputs": [
    {
     "ename": "NameError",
     "evalue": "name 'title' is not defined",
     "output_type": "error",
     "traceback": [
      "\u001b[1;31m---------------------------------------------------------------------------\u001b[0m",
      "\u001b[1;31mNameError\u001b[0m                                 Traceback (most recent call last)",
      "\u001b[1;32m<ipython-input-73-d8467925d8d3>\u001b[0m in \u001b[0;36m<module>\u001b[1;34m\u001b[0m\n\u001b[1;32m----> 1\u001b[1;33m \u001b[0mn_test\u001b[0m\u001b[1;33m[\u001b[0m\u001b[0mtitle\u001b[0m\u001b[1;33m]\u001b[0m \u001b[1;33m==\u001b[0m \u001b[1;34m'알고있지만,'\u001b[0m\u001b[1;33m\u001b[0m\u001b[1;33m\u001b[0m\u001b[0m\n\u001b[0m",
      "\u001b[1;31mNameError\u001b[0m: name 'title' is not defined"
     ]
    }
   ],
   "source": [
    "n_test[title] == '알고있지만,'"
   ]
  },
  {
   "cell_type": "code",
   "execution_count": 68,
   "id": "2e086770",
   "metadata": {
    "ExecuteTime": {
     "end_time": "2021-10-01T00:41:20.070055Z",
     "start_time": "2021-10-01T00:41:20.065070Z"
    }
   },
   "outputs": [
    {
     "name": "stdout",
     "output_type": "stream",
     "text": [
      "알고있지만,\n"
     ]
    }
   ],
   "source": [
    "# for tit in t_uniq:\n",
    "#     if tit not in list(t_test['title']):\n",
    "#         print(tit)\n",
    "\n",
    "for tit in n_uniq:\n",
    "    if tit not in list(n_test['title']):\n",
    "        print(tit)\n",
    "\n",
    "# # type(t_uniq[0])\n",
    "# for tit in list(t_test['title']):\n",
    "#     print(tit)"
   ]
  },
  {
   "cell_type": "code",
   "execution_count": 74,
   "id": "1ec899fe",
   "metadata": {
    "ExecuteTime": {
     "end_time": "2021-10-01T00:45:50.978525Z",
     "start_time": "2021-10-01T00:45:50.973539Z"
    }
   },
   "outputs": [
    {
     "name": "stdout",
     "output_type": "stream",
     "text": [
      "샤크 : 더 비기닝\n",
      "알고있지만,\n",
      "그린 북\n"
     ]
    }
   ],
   "source": [
    "for tit in t_uniq:\n",
    "    if tit not in list(t_test['title']):\n",
    "        print(tit)"
   ]
  },
  {
   "cell_type": "markdown",
   "id": "85d97e7b",
   "metadata": {},
   "source": [
    "# Google_Trend 해시태그 검색"
   ]
  },
  {
   "cell_type": "code",
   "execution_count": 44,
   "id": "6dcf07bc",
   "metadata": {
    "ExecuteTime": {
     "end_time": "2021-10-03T14:16:29.597677Z",
     "start_time": "2021-10-03T14:16:29.584712Z"
    }
   },
   "outputs": [
    {
     "data": {
      "text/plain": [
       "'C:\\\\Users\\\\jjc12\\\\Desktop\\\\I\\\\Data Analyst\\\\Python\\\\Basic Python'"
      ]
     },
     "execution_count": 44,
     "metadata": {},
     "output_type": "execute_result"
    }
   ],
   "source": [
    "pwd"
   ]
  },
  {
   "cell_type": "markdown",
   "id": "86224a68",
   "metadata": {},
   "source": [
    "## 데이터 분류 (크롤링의 종류에 따라)"
   ]
  },
  {
   "cell_type": "code",
   "execution_count": 4,
   "id": "e673d36f",
   "metadata": {
    "ExecuteTime": {
     "end_time": "2021-10-06T11:32:23.512771Z",
     "start_time": "2021-10-06T11:32:23.499799Z"
    }
   },
   "outputs": [],
   "source": [
    "#클릭 없음\n",
    "df_no = pd.read_csv('./toy_proj/t_n_google_trend.csv')\n",
    "c_n = list(df_no['t_n_unique'])\n",
    "# c_n.append(c_nn[0])\n",
    "# c_n.append(c_nn[1])\n",
    "c_n"
   ]
  },
  {
   "cell_type": "code",
   "execution_count": 5,
   "id": "6f9b7c77",
   "metadata": {
    "ExecuteTime": {
     "end_time": "2021-10-06T11:32:32.675219Z",
     "start_time": "2021-10-06T11:32:32.659842Z"
    }
   },
   "outputs": [],
   "source": [
    "# 검색 2번째 항목 클릭\n",
    "c_2 = ['브리저튼', '캐시트럭', '이스케이프 룸 2: 노 웨이 아웃', '그린 북', '블랙 위도우', '소리도 없이', '극장판 귀멸의 칼날: 무한열차편', '이스케이프 룸', '내가 사랑했던 모든 남자들에게: 언제나 그리고 영원히', '제8일의 밤', '헌트', '노매드랜드', '승리호', '스파이더맨: 파 프롬 홈', '블라인드 멜로디', '사운드 오브 메탈', '중경삼림', '베스트 오퍼', '주술회전','유 퀴즈 온 더 블럭','서복','스위트 홈','러브 앤 몬스터스','노바디','소울','블랙 호크 다운','런치박스','아미 오브 더 데드', '크롤','어벤져스 엔드게임','프라미싱 영 우먼','더 파더','꽃다발 같은 사랑을 했다','쓰리 빌보드','작은 아씨들','페이트: 윙스의 전설', '분노의 질주: 더 얼티메이트', '콰이어트 플레이스 2','나이브스 아웃','어벤져스: 인피니티 워','프리 가이']\n",
    "c_2"
   ]
  },
  {
   "cell_type": "code",
   "execution_count": 6,
   "id": "3d09c63c",
   "metadata": {
    "ExecuteTime": {
     "end_time": "2021-10-06T11:32:47.604519Z",
     "start_time": "2021-10-06T11:32:47.587563Z"
    }
   },
   "outputs": [],
   "source": [
    "# 검색 3번째 항목 클릭\n",
    "c_3 = ['오버로드', '킬러의 보디가드', '1987']"
   ]
  },
  {
   "cell_type": "code",
   "execution_count": 7,
   "id": "8e11f3cd",
   "metadata": {
    "ExecuteTime": {
     "end_time": "2021-10-06T11:32:57.354348Z",
     "start_time": "2021-10-06T11:32:57.342384Z"
    }
   },
   "outputs": [],
   "source": [
    "# 검색 4번째 항목 클릭\n",
    "c_4 = ['인간실격']\n"
   ]
  },
  {
   "cell_type": "code",
   "execution_count": 8,
   "id": "5a4ec307",
   "metadata": {
    "ExecuteTime": {
     "end_time": "2021-10-06T11:33:10.729270Z",
     "start_time": "2021-10-06T11:33:10.720297Z"
    }
   },
   "outputs": [],
   "source": [
    "# 결측\n",
    "c_5 = ['아웃사이드 더 와이어']"
   ]
  },
  {
   "cell_type": "code",
   "execution_count": 113,
   "id": "147cdad8",
   "metadata": {
    "ExecuteTime": {
     "end_time": "2021-10-03T14:49:20.646445Z",
     "start_time": "2021-10-03T14:49:17.342552Z"
    }
   },
   "outputs": [],
   "source": [
    "driver = webdriver.Chrome('./chromedriver')\n",
    "\n",
    "# url 페이지 이동\n",
    "url = 'https://trends.google.com/trends/?geo=KR'\n",
    "driver.get(url)"
   ]
  },
  {
   "cell_type": "code",
   "execution_count": 327,
   "id": "df72ded4",
   "metadata": {
    "ExecuteTime": {
     "end_time": "2021-10-03T17:53:32.031375Z",
     "start_time": "2021-10-03T17:53:12.054637Z"
    }
   },
   "outputs": [],
   "source": [
    "# 검색 크롤링\n",
    "\n",
    "for tit in c_nn:\n",
    "# # 첫번째 검색창 클릭\n",
    "\n",
    "    driver.find_element_by_xpath('//*[@id=\"input-1\"]').send_keys(Keys.CONTROL, 'a')\n",
    "    driver.find_element_by_xpath('//*[@id=\"input-1\"]').send_keys(Keys.DELETE)\n",
    "    driver.find_element_by_xpath('//*[@id=\"input-1\"]').send_keys(tit +'\\n')\n",
    "    time.sleep(3)\n",
    "\n",
    "# # 기간 설정\n",
    "# driver.find_element_by_xpath('//*[@id=\"select_value_label_10\"]/span[2]').click()\n",
    "# time.sleep(5)\n",
    "# driver.find_element_by_xpath('//*[@id=\"select_option_23\"]').click()\n",
    "# time.sleep(5)\n",
    "# driver.find_element_by_xpath('//*[@id=\"radio_159\"]/div[1]/div[1]').click()\n",
    "# time.sleep(5)\n",
    "# driver.find_element_by_xpath('//*[@id=\"dialogContent_156\"]/md-dialog-actions/button[2]').click()\n",
    "# time.sleep(5)\n",
    "\n",
    "# 두번째부터 검색\n",
    "\n",
    "# driver.find_element_by_xpath('//*[@id=\"input-1\"]').click()\n",
    "# driver.find_element_by_xpath('//*[@id=\"input-1\"]').send_keys(Keys.CONTROL, 'a')\n",
    "# driver.find_element_by_xpath('//*[@id=\"input-1\"]').send_keys(Keys.DELETE)\n",
    "# driver.find_element_by_xpath('//*[@id=\"input-1\"]').send_keys('오징어 게임' + '\\n')\n",
    "\n",
    "# 카테고리 조정\n",
    "#     driver.find_element_by_xpath('//*[@id=\"input-1\"]').click()\n",
    "#     driver.find_element_by_xpath('//*[@id=\"ul-1\"]/li[2]/md-autocomplete-parent-scope/div[1]').click()\n",
    "#     time.sleep(3)\n",
    "# driver.find_element_by_xpath('//*[@id=\"ul-1\"]/li[3]/md-autocomplete-parent-scope/div[1]').click() #3번째 칸\n",
    "# driver.find_element_by_xpath('//*[@id=\"ul-1\"]/li[4]/md-autocomplete-parent-scope/div[1]').click() #4번째 칸\n",
    "\n",
    "\n",
    "\n",
    "# CSV 다운로드\n",
    "    # 시간 흐름에 따른 관심도 변화\n",
    "    driver.find_element_by_xpath('/html/body/div[2]/div[2]/div/md-content/div/div/div[1]/trends-widget/ng-include/widget/div/div/div/widget-actions/div/button[1]').click()\n",
    "    time.sleep(3)\n",
    "    # 하위 지역별 관심도\n",
    "    driver.find_element_by_xpath('/html/body/div[2]/div[2]/div/md-content/div/div/div[2]/trends-widget/ng-include/widget/div/div/div/widget-actions/div/button[1]').click()\n",
    "    time.sleep(3)\n",
    "#     # 페이지 다운\n",
    "#     driver.find_element_by_tag_name('body').send_keys(Keys.PAGE_DOWN)\n",
    "#     time.sleep(5)\n",
    "#     # 관련 주제\n",
    "#     driver.find_element_by_xpath('/html/body/div[2]/div[2]/div/md-content/div/div/div[3]/trends-widget/ng-include/widget/div/div/div/widget-actions/div/button[1]').click()\n",
    "#     time.sleep(3)\n",
    "#     # 관련 검색어\n",
    "#     driver.find_element_by_xpath('/html/body/div[2]/div[2]/div/md-content/div/div/div[4]/trends-widget/ng-include/widget/div/div/div/widget-actions/div/button[1]').click()\n",
    "#     time.sleep(3)\n",
    "#     # 페이지 업\n",
    "#     driver.find_element_by_tag_name('body').send_keys(Keys.PAGE_UP)\n",
    "#     time.sleep(5)"
   ]
  },
  {
   "cell_type": "markdown",
   "id": "bf035a3e",
   "metadata": {},
   "source": [
    "## CSV 파일 -> 데이터 프레임 : 데이터 정제"
   ]
  },
  {
   "cell_type": "code",
   "execution_count": null,
   "id": "b37c472e",
   "metadata": {},
   "outputs": [],
   "source": [
    "# 데이터 프레임에 넣어주기\n",
    "\n",
    "# 생성\n",
    "\n",
    "# dfT_c_n\n",
    "# dfT_c_n2\n",
    "# dfT_c_n3\n",
    "# dfT_c_n4\n",
    "# dfT_c_n5\n",
    "# dfT_c_n6\n",
    "dfT_c_n6 = pd.DataFrame(['NaN']*39,\n",
    "                    columns = c_5,\n",
    "                     index = pd.read_csv('C:\\\\Users\\\\jjc12\\\\Downloads\\\\multiTimeline (47).csv').index[1:])\n",
    "#dfG_c_n\n",
    "#dfG_c_n2\n",
    "#dfG_c_n3\n",
    "#dfG_c_n4\n",
    "#dfG_c_n5\n",
    "#dfG_c_n6\n",
    "dfG_c_n6 = pd.DataFrame(['NaN']*16,\n",
    "                        columns = c_5,\n",
    "                     index = pd.read_csv('C:\\\\Users\\\\jjc12\\\\Downloads\\\\GeoMap (47).csv').index[1:])\n",
    "\n",
    "# 넣어주기\n",
    "\n",
    "for i in range(47,48+1):\n",
    "    try:\n",
    "        dfT_c_n5.iloc[:,i-47] = list(pd.read_csv(f'C:\\\\Users\\\\jjc12\\\\Downloads\\\\multiTimeline ({i}).csv')['카테고리: 모든 카테고리'][1:])\n",
    "    except ValueError:\n",
    "        dfT_c_n5.iloc[:,i-47] = ['Nan']*39\n",
    "        \n",
    "for j in range(47, 48+1):\n",
    "    try:\n",
    "        dfG_c_n5.iloc[:,j-47] = list(pd.read_csv(f'C:\\\\Users\\\\jjc12\\\\Downloads\\\\GeoMap ({j}).csv')['카테고리: 모든 카테고리'][1:])\n",
    "    except ValueError:\n",
    "        dfG_c_n5.iloc[:,j-47] = ['Nan']*16\n"
   ]
  },
  {
   "cell_type": "code",
   "execution_count": null,
   "id": "d61d782b",
   "metadata": {},
   "outputs": [],
   "source": [
    "\n",
    "# 대망의 합치기 (T -> G)\n",
    "\n",
    "dfG_c_n10 = pd.merge(dfG_c_n,dfG_c_n2,how='outer',left_index=True, right_index=True)\n",
    "dfG_c_n11 = pd.merge(dfG_c_n3,dfG_c_n4,how='outer',left_index=True, right_index=True)\n",
    "dfG_c_n12 = pd.merge(dfG_c_n5,dfG_c_n6,how='outer',left_index=True, right_index=True)\n",
    "\n",
    "###\n",
    "dfG_c_n20 = pd.merge(dfG_c_n10,dfG_c_n11,how='outer',left_index=True, right_index=True)\n",
    "dfG_c_n21 = pd.merge(dfG_c_n20,dfG_c_n12,how='outer',left_index=True, right_index=True)\n",
    "\n",
    "# dfG_c_n21.shape\n",
    "\n",
    "# 최종 저장\n",
    "dfG_c_n21.to_csv('./toy_proj/result/google_geo_crawl.csv', encoding='utf-8-sig')"
   ]
  },
  {
   "cell_type": "markdown",
   "id": "65b99068",
   "metadata": {},
   "source": [
    "---"
   ]
  }
 ],
 "metadata": {
  "celltoolbar": "Edit Metadata",
  "kernelspec": {
   "display_name": "Python 3",
   "language": "python",
   "name": "python3"
  },
  "language_info": {
   "codemirror_mode": {
    "name": "ipython",
    "version": 3
   },
   "file_extension": ".py",
   "mimetype": "text/x-python",
   "name": "python",
   "nbconvert_exporter": "python",
   "pygments_lexer": "ipython3",
   "version": "3.8.8"
  },
  "toc": {
   "base_numbering": 1,
   "nav_menu": {},
   "number_sections": true,
   "sideBar": true,
   "skip_h1_title": false,
   "title_cell": "Table of Contents",
   "title_sidebar": "Contents",
   "toc_cell": false,
   "toc_position": {},
   "toc_section_display": true,
   "toc_window_display": false
  },
  "varInspector": {
   "cols": {
    "lenName": 16,
    "lenType": 16,
    "lenVar": 40
   },
   "kernels_config": {
    "python": {
     "delete_cmd_postfix": "",
     "delete_cmd_prefix": "del ",
     "library": "var_list.py",
     "varRefreshCmd": "print(var_dic_list())"
    },
    "r": {
     "delete_cmd_postfix": ") ",
     "delete_cmd_prefix": "rm(",
     "library": "var_list.r",
     "varRefreshCmd": "cat(var_dic_list()) "
    }
   },
   "types_to_exclude": [
    "module",
    "function",
    "builtin_function_or_method",
    "instance",
    "_Feature"
   ],
   "window_display": false
  }
 },
 "nbformat": 4,
 "nbformat_minor": 5
}
